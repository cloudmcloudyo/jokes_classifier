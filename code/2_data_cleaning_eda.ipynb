{
 "cells": [
  {
   "cell_type": "markdown",
   "metadata": {},
   "source": [
    "<img src=\"http://imgur.com/1ZcRyrc.png\" style=\"float: left; margin: 20px; height: 55px\">\n",
    "\n",
    "# Project 3: Reddit NPL Classfication Challenge\n",
    "Notebook 2: Data Cleaning & EDA\n",
    "\n",
    "This notebook contains all the preparational steps before modeling as follow:\n",
    "\n",
    "- [Data Cleaning](#Data-Cleaning)\n",
    "- [Feature Engineering](#Feature-Engineering)\n",
    "- [Exploratory Data Analysis & Visualizations](#Exploratory-Data-Analysis-&-Visualizations)\n",
    "- [Preprocessing](#Preprocessing)\n",
    "\n",
    "The results of this notebook is a dataset that is ready for modeling."
   ]
  },
  {
   "cell_type": "code",
   "execution_count": 2,
   "metadata": {},
   "outputs": [],
   "source": [
    "import pandas as pd\n",
    "import numpy as np\n",
    "import matplotlib.pyplot as plt\n",
    "import seaborn as sns\n",
    "\n",
    "from sklearn.feature_extraction.text import CountVectorizer, TfidfVectorizer, ENGLISH_STOP_WORDS"
   ]
  },
  {
   "cell_type": "code",
   "execution_count": 3,
   "metadata": {},
   "outputs": [
    {
     "data": {
      "text/html": [
       "<div>\n",
       "<style scoped>\n",
       "    .dataframe tbody tr th:only-of-type {\n",
       "        vertical-align: middle;\n",
       "    }\n",
       "\n",
       "    .dataframe tbody tr th {\n",
       "        vertical-align: top;\n",
       "    }\n",
       "\n",
       "    .dataframe thead th {\n",
       "        text-align: right;\n",
       "    }\n",
       "</style>\n",
       "<table border=\"1\" class=\"dataframe\">\n",
       "  <thead>\n",
       "    <tr style=\"text-align: right;\">\n",
       "      <th></th>\n",
       "      <th>author</th>\n",
       "      <th>title</th>\n",
       "      <th>selftext</th>\n",
       "      <th>score</th>\n",
       "      <th>num_comments</th>\n",
       "      <th>upvote_ratio</th>\n",
       "      <th>created_utc</th>\n",
       "      <th>subreddit</th>\n",
       "    </tr>\n",
       "  </thead>\n",
       "  <tbody>\n",
       "    <tr>\n",
       "      <th>0</th>\n",
       "      <td>NormalDeviance</td>\n",
       "      <td>Fitting rooms are disgusting</td>\n",
       "      <td>This isn’t so much of a single story, but more...</td>\n",
       "      <td>1</td>\n",
       "      <td>7</td>\n",
       "      <td>1.0</td>\n",
       "      <td>1602294153</td>\n",
       "      <td>TalesFromRetail</td>\n",
       "    </tr>\n",
       "    <tr>\n",
       "      <th>1</th>\n",
       "      <td>NormalDeviance</td>\n",
       "      <td>Trying to return year-old worn shoes</td>\n",
       "      <td>Worked at a major department store at the retu...</td>\n",
       "      <td>1</td>\n",
       "      <td>12</td>\n",
       "      <td>1.0</td>\n",
       "      <td>1602288304</td>\n",
       "      <td>TalesFromRetail</td>\n",
       "    </tr>\n",
       "    <tr>\n",
       "      <th>2</th>\n",
       "      <td>MaryCranberry</td>\n",
       "      <td>A cashier witnesses true love</td>\n",
       "      <td>I’m a cashier at a store at a ski resort. We h...</td>\n",
       "      <td>1</td>\n",
       "      <td>60</td>\n",
       "      <td>1.0</td>\n",
       "      <td>1602285068</td>\n",
       "      <td>TalesFromRetail</td>\n",
       "    </tr>\n",
       "    <tr>\n",
       "      <th>3</th>\n",
       "      <td>tempthethrowaway</td>\n",
       "      <td>Follow My Brownies</td>\n",
       "      <td>This is my wife's story from today, posted wit...</td>\n",
       "      <td>1</td>\n",
       "      <td>23</td>\n",
       "      <td>1.0</td>\n",
       "      <td>1602283980</td>\n",
       "      <td>TalesFromRetail</td>\n",
       "    </tr>\n",
       "    <tr>\n",
       "      <th>4</th>\n",
       "      <td>[deleted]</td>\n",
       "      <td>Customer is totally friends with a manager fro...</td>\n",
       "      <td>NaN</td>\n",
       "      <td>1</td>\n",
       "      <td>0</td>\n",
       "      <td>1.0</td>\n",
       "      <td>1602268197</td>\n",
       "      <td>TalesFromRetail</td>\n",
       "    </tr>\n",
       "  </tbody>\n",
       "</table>\n",
       "</div>"
      ],
      "text/plain": [
       "             author                                              title  \\\n",
       "0    NormalDeviance                       Fitting rooms are disgusting   \n",
       "1    NormalDeviance               Trying to return year-old worn shoes   \n",
       "2     MaryCranberry                      A cashier witnesses true love   \n",
       "3  tempthethrowaway                                 Follow My Brownies   \n",
       "4         [deleted]  Customer is totally friends with a manager fro...   \n",
       "\n",
       "                                            selftext  score  num_comments  \\\n",
       "0  This isn’t so much of a single story, but more...      1             7   \n",
       "1  Worked at a major department store at the retu...      1            12   \n",
       "2  I’m a cashier at a store at a ski resort. We h...      1            60   \n",
       "3  This is my wife's story from today, posted wit...      1            23   \n",
       "4                                                NaN      1             0   \n",
       "\n",
       "   upvote_ratio  created_utc        subreddit  \n",
       "0           1.0   1602294153  TalesFromRetail  \n",
       "1           1.0   1602288304  TalesFromRetail  \n",
       "2           1.0   1602285068  TalesFromRetail  \n",
       "3           1.0   1602283980  TalesFromRetail  \n",
       "4           1.0   1602268197  TalesFromRetail  "
      ]
     },
     "execution_count": 3,
     "metadata": {},
     "output_type": "execute_result"
    }
   ],
   "source": [
    "jokes = pd.read_csv('../data/jokes.csv')\n",
    "jokes.head()\n",
    "tales = pd.read_csv('../data/talesfromretail.csv')\n",
    "tales.head()"
   ]
  },
  {
   "cell_type": "code",
   "execution_count": 4,
   "metadata": {},
   "outputs": [
    {
     "name": "stdout",
     "output_type": "stream",
     "text": [
      "Jokes shape (9526, 8)\n",
      "Tales shape (9434, 8)\n"
     ]
    }
   ],
   "source": [
    "print(f'Jokes shape {jokes.shape}')\n",
    "print(f'Tales shape {tales.shape}')"
   ]
  },
  {
   "cell_type": "markdown",
   "metadata": {},
   "source": [
    "### Data Cleaning"
   ]
  },
  {
   "cell_type": "markdown",
   "metadata": {},
   "source": [
    "Data Cleaning session include checking the null values and data types. For each step I tried to code both subreddits in the same cell as much as possible to track the changes made easily."
   ]
  },
  {
   "cell_type": "markdown",
   "metadata": {},
   "source": [
    "#### Check & Process Null Values"
   ]
  },
  {
   "cell_type": "code",
   "execution_count": 5,
   "metadata": {},
   "outputs": [
    {
     "data": {
      "text/plain": [
       "author          0\n",
       "title           0\n",
       "selftext        3\n",
       "score           0\n",
       "num_comments    0\n",
       "upvote_ratio    0\n",
       "created_utc     0\n",
       "subreddit       0\n",
       "dtype: int64"
      ]
     },
     "execution_count": 5,
     "metadata": {},
     "output_type": "execute_result"
    }
   ],
   "source": [
    "jokes.isnull().sum()"
   ]
  },
  {
   "cell_type": "code",
   "execution_count": 6,
   "metadata": {},
   "outputs": [
    {
     "data": {
      "text/plain": [
       "author             0\n",
       "title              0\n",
       "selftext           2\n",
       "score              0\n",
       "num_comments       0\n",
       "upvote_ratio    8573\n",
       "created_utc        0\n",
       "subreddit          0\n",
       "dtype: int64"
      ]
     },
     "execution_count": 6,
     "metadata": {},
     "output_type": "execute_result"
    }
   ],
   "source": [
    "tales.isnull().sum()"
   ]
  },
  {
   "cell_type": "markdown",
   "metadata": {},
   "source": [
    "For jokes, all columns are complete except for 3 null values in selftext. However for tales, aside from the null values in selftext, it's also lacking a great amount of upvote_ratio. I therefore decided to drop the upvote_ratio columns. As for the selftext, I would like to examine if the NaN is because all the post content is already in the title. To be able to review the entire text, I set up the display option to max column width."
   ]
  },
  {
   "cell_type": "code",
   "execution_count": 7,
   "metadata": {},
   "outputs": [],
   "source": [
    "tales.drop(columns = 'upvote_ratio', inplace = True)\n",
    "jokes.drop(columns = 'upvote_ratio', inplace = True)"
   ]
  },
  {
   "cell_type": "code",
   "execution_count": 8,
   "metadata": {},
   "outputs": [],
   "source": [
    "pd.set_option('display.max_colwidth', 0)"
   ]
  },
  {
   "cell_type": "code",
   "execution_count": 9,
   "metadata": {},
   "outputs": [
    {
     "data": {
      "text/html": [
       "<div>\n",
       "<style scoped>\n",
       "    .dataframe tbody tr th:only-of-type {\n",
       "        vertical-align: middle;\n",
       "    }\n",
       "\n",
       "    .dataframe tbody tr th {\n",
       "        vertical-align: top;\n",
       "    }\n",
       "\n",
       "    .dataframe thead th {\n",
       "        text-align: right;\n",
       "    }\n",
       "</style>\n",
       "<table border=\"1\" class=\"dataframe\">\n",
       "  <thead>\n",
       "    <tr style=\"text-align: right;\">\n",
       "      <th></th>\n",
       "      <th>author</th>\n",
       "      <th>title</th>\n",
       "      <th>selftext</th>\n",
       "      <th>score</th>\n",
       "      <th>num_comments</th>\n",
       "      <th>created_utc</th>\n",
       "      <th>subreddit</th>\n",
       "    </tr>\n",
       "  </thead>\n",
       "  <tbody>\n",
       "    <tr>\n",
       "      <th>440</th>\n",
       "      <td>[deleted]</td>\n",
       "      <td>I was trying to have a civil discussion with people about my dihorrhea</td>\n",
       "      <td>NaN</td>\n",
       "      <td>1</td>\n",
       "      <td>0</td>\n",
       "      <td>1602219906</td>\n",
       "      <td>Jokes</td>\n",
       "    </tr>\n",
       "    <tr>\n",
       "      <th>1598</th>\n",
       "      <td>zozkcbsj--zhz</td>\n",
       "      <td>He was just trying to help...</td>\n",
       "      <td>NaN</td>\n",
       "      <td>1</td>\n",
       "      <td>0</td>\n",
       "      <td>1602008180</td>\n",
       "      <td>Jokes</td>\n",
       "    </tr>\n",
       "    <tr>\n",
       "      <th>8557</th>\n",
       "      <td>Sharkie_PIxel</td>\n",
       "      <td>[OC] Guys I have the only original joke!</td>\n",
       "      <td>NaN</td>\n",
       "      <td>1</td>\n",
       "      <td>0</td>\n",
       "      <td>1600584961</td>\n",
       "      <td>Jokes</td>\n",
       "    </tr>\n",
       "  </tbody>\n",
       "</table>\n",
       "</div>"
      ],
      "text/plain": [
       "             author  \\\n",
       "440   [deleted]       \n",
       "1598  zozkcbsj--zhz   \n",
       "8557  Sharkie_PIxel   \n",
       "\n",
       "                                                                       title  \\\n",
       "440   I was trying to have a civil discussion with people about my dihorrhea   \n",
       "1598  He was just trying to help...                                            \n",
       "8557  [OC] Guys I have the only original joke!                                 \n",
       "\n",
       "     selftext  score  num_comments  created_utc subreddit  \n",
       "440   NaN      1      0             1602219906   Jokes     \n",
       "1598  NaN      1      0             1602008180   Jokes     \n",
       "8557  NaN      1      0             1600584961   Jokes     "
      ]
     },
     "execution_count": 9,
     "metadata": {},
     "output_type": "execute_result"
    }
   ],
   "source": [
    "jokes[jokes['selftext'].isnull()]"
   ]
  },
  {
   "cell_type": "markdown",
   "metadata": {},
   "source": [
    "The above three posts don't seem to be a complete joke by the title itself. Therefore I decided to drop these posts."
   ]
  },
  {
   "cell_type": "code",
   "execution_count": 10,
   "metadata": {},
   "outputs": [
    {
     "data": {
      "text/html": [
       "<div>\n",
       "<style scoped>\n",
       "    .dataframe tbody tr th:only-of-type {\n",
       "        vertical-align: middle;\n",
       "    }\n",
       "\n",
       "    .dataframe tbody tr th {\n",
       "        vertical-align: top;\n",
       "    }\n",
       "\n",
       "    .dataframe thead th {\n",
       "        text-align: right;\n",
       "    }\n",
       "</style>\n",
       "<table border=\"1\" class=\"dataframe\">\n",
       "  <thead>\n",
       "    <tr style=\"text-align: right;\">\n",
       "      <th></th>\n",
       "      <th>author</th>\n",
       "      <th>title</th>\n",
       "      <th>selftext</th>\n",
       "      <th>score</th>\n",
       "      <th>num_comments</th>\n",
       "      <th>created_utc</th>\n",
       "      <th>subreddit</th>\n",
       "    </tr>\n",
       "  </thead>\n",
       "  <tbody>\n",
       "    <tr>\n",
       "      <th>4</th>\n",
       "      <td>[deleted]</td>\n",
       "      <td>Customer is totally friends with a manager from another department</td>\n",
       "      <td>NaN</td>\n",
       "      <td>1</td>\n",
       "      <td>0</td>\n",
       "      <td>1602268197</td>\n",
       "      <td>TalesFromRetail</td>\n",
       "    </tr>\n",
       "    <tr>\n",
       "      <th>180</th>\n",
       "      <td>PlasmaCarrot79</td>\n",
       "      <td>Super Soaker</td>\n",
       "      <td>NaN</td>\n",
       "      <td>1</td>\n",
       "      <td>0</td>\n",
       "      <td>1598471414</td>\n",
       "      <td>TalesFromRetail</td>\n",
       "    </tr>\n",
       "  </tbody>\n",
       "</table>\n",
       "</div>"
      ],
      "text/plain": [
       "             author  \\\n",
       "4    [deleted]        \n",
       "180  PlasmaCarrot79   \n",
       "\n",
       "                                                                  title  \\\n",
       "4    Customer is totally friends with a manager from another department   \n",
       "180  Super Soaker                                                         \n",
       "\n",
       "    selftext  score  num_comments  created_utc        subreddit  \n",
       "4    NaN      1      0             1602268197   TalesFromRetail  \n",
       "180  NaN      1      0             1598471414   TalesFromRetail  "
      ]
     },
     "execution_count": 10,
     "metadata": {},
     "output_type": "execute_result"
    }
   ],
   "source": [
    "tales[tales['selftext'].isnull()]"
   ]
  },
  {
   "cell_type": "markdown",
   "metadata": {},
   "source": [
    "Same as jokes, these posts are also not complete tales and therefore should be dropped."
   ]
  },
  {
   "cell_type": "code",
   "execution_count": 11,
   "metadata": {},
   "outputs": [],
   "source": [
    "jokes.drop([440, 1598, 8557], inplace = True)\n",
    "tales.drop([4, 180], inplace =True)"
   ]
  },
  {
   "cell_type": "markdown",
   "metadata": {},
   "source": [
    "As I was dropping the NaN, I noticed author and selftext column could also contain \"deleted\". I then looked into how many these posts are."
   ]
  },
  {
   "cell_type": "code",
   "execution_count": 12,
   "metadata": {},
   "outputs": [
    {
     "data": {
      "text/html": [
       "<div>\n",
       "<style scoped>\n",
       "    .dataframe tbody tr th:only-of-type {\n",
       "        vertical-align: middle;\n",
       "    }\n",
       "\n",
       "    .dataframe tbody tr th {\n",
       "        vertical-align: top;\n",
       "    }\n",
       "\n",
       "    .dataframe thead th {\n",
       "        text-align: right;\n",
       "    }\n",
       "</style>\n",
       "<table border=\"1\" class=\"dataframe\">\n",
       "  <thead>\n",
       "    <tr style=\"text-align: right;\">\n",
       "      <th></th>\n",
       "      <th>author</th>\n",
       "      <th>title</th>\n",
       "      <th>selftext</th>\n",
       "      <th>score</th>\n",
       "      <th>num_comments</th>\n",
       "      <th>created_utc</th>\n",
       "      <th>subreddit</th>\n",
       "    </tr>\n",
       "  </thead>\n",
       "  <tbody>\n",
       "    <tr>\n",
       "      <th>218</th>\n",
       "      <td>[deleted]</td>\n",
       "      <td>Changing room horror story</td>\n",
       "      <td>[deleted]</td>\n",
       "      <td>1</td>\n",
       "      <td>0</td>\n",
       "      <td>1597791303</td>\n",
       "      <td>TalesFromRetail</td>\n",
       "    </tr>\n",
       "  </tbody>\n",
       "</table>\n",
       "</div>"
      ],
      "text/plain": [
       "        author                       title   selftext  score  num_comments  \\\n",
       "218  [deleted]  Changing room horror story  [deleted]  1      0              \n",
       "\n",
       "     created_utc        subreddit  \n",
       "218  1597791303   TalesFromRetail  "
      ]
     },
     "execution_count": 12,
     "metadata": {},
     "output_type": "execute_result"
    }
   ],
   "source": [
    "jokes[jokes.author == '[deleted]']\n",
    "tales[tales.author == '[deleted]']"
   ]
  },
  {
   "cell_type": "markdown",
   "metadata": {},
   "source": [
    "Luckily there are only a couple in each subreddit, which will not impact my dataset that much. So I decided to drop these as well."
   ]
  },
  {
   "cell_type": "code",
   "execution_count": 13,
   "metadata": {},
   "outputs": [],
   "source": [
    "jokes.drop(33, inplace = True)\n",
    "tales.drop(218, inplace = True)"
   ]
  },
  {
   "cell_type": "code",
   "execution_count": 14,
   "metadata": {},
   "outputs": [
    {
     "data": {
      "text/html": [
       "<div>\n",
       "<style scoped>\n",
       "    .dataframe tbody tr th:only-of-type {\n",
       "        vertical-align: middle;\n",
       "    }\n",
       "\n",
       "    .dataframe tbody tr th {\n",
       "        vertical-align: top;\n",
       "    }\n",
       "\n",
       "    .dataframe thead th {\n",
       "        text-align: right;\n",
       "    }\n",
       "</style>\n",
       "<table border=\"1\" class=\"dataframe\">\n",
       "  <thead>\n",
       "    <tr style=\"text-align: right;\">\n",
       "      <th></th>\n",
       "      <th>author</th>\n",
       "      <th>title</th>\n",
       "      <th>selftext</th>\n",
       "      <th>score</th>\n",
       "      <th>num_comments</th>\n",
       "      <th>created_utc</th>\n",
       "      <th>subreddit</th>\n",
       "    </tr>\n",
       "  </thead>\n",
       "  <tbody>\n",
       "  </tbody>\n",
       "</table>\n",
       "</div>"
      ],
      "text/plain": [
       "Empty DataFrame\n",
       "Columns: [author, title, selftext, score, num_comments, created_utc, subreddit]\n",
       "Index: []"
      ]
     },
     "execution_count": 14,
     "metadata": {},
     "output_type": "execute_result"
    }
   ],
   "source": [
    "jokes[jokes.selftext == '[deleted]']\n",
    "tales[tales.selftext == '[deleted]']"
   ]
  },
  {
   "cell_type": "markdown",
   "metadata": {},
   "source": [
    "Double check if there are any other \"deleted\" posts. I found none as of now. So I think we are good here."
   ]
  },
  {
   "cell_type": "code",
   "execution_count": 15,
   "metadata": {},
   "outputs": [
    {
     "name": "stdout",
     "output_type": "stream",
     "text": [
      "Jokes shape (9522, 7)\n",
      "Tales shape (9431, 7)\n"
     ]
    }
   ],
   "source": [
    "print(f'Jokes shape {jokes.shape}')\n",
    "print(f'Tales shape {tales.shape}')"
   ]
  },
  {
   "cell_type": "markdown",
   "metadata": {},
   "source": [
    "#### Check Data Types"
   ]
  },
  {
   "cell_type": "code",
   "execution_count": 16,
   "metadata": {},
   "outputs": [
    {
     "data": {
      "text/plain": [
       "author          object\n",
       "title           object\n",
       "selftext        object\n",
       "score           int64 \n",
       "num_comments    int64 \n",
       "created_utc     int64 \n",
       "subreddit       object\n",
       "dtype: object"
      ]
     },
     "execution_count": 16,
     "metadata": {},
     "output_type": "execute_result"
    }
   ],
   "source": [
    "jokes.dtypes\n",
    "tales.dtypes"
   ]
  },
  {
   "cell_type": "markdown",
   "metadata": {},
   "source": [
    "Data types for both subreddits look normal. No changes needed at this point."
   ]
  },
  {
   "cell_type": "markdown",
   "metadata": {},
   "source": [
    "#### Reset Index"
   ]
  },
  {
   "cell_type": "markdown",
   "metadata": {},
   "source": [
    "As I dropped a couple posts, it's always good practice to reset the index to ensure consistancy."
   ]
  },
  {
   "cell_type": "code",
   "execution_count": 17,
   "metadata": {},
   "outputs": [],
   "source": [
    "jokes.reset_index(drop = True, inplace = True)\n",
    "tales.reset_index(drop = True, inplace = True)"
   ]
  },
  {
   "cell_type": "markdown",
   "metadata": {},
   "source": [
    "### Feature Engineering"
   ]
  },
  {
   "cell_type": "markdown",
   "metadata": {},
   "source": [
    "In this part, I engineered some features in preparation for the EDA. To start with, I created new columns of text which concatnate the title and selftext columns together. I did this because for many posts there is not a clear line between the title and selftext. And since we are examing the content, it's a better idea to combine these two columns. After length and word count which count the character numbers and word number of title and self text combined. "
   ]
  },
  {
   "cell_type": "code",
   "execution_count": 18,
   "metadata": {},
   "outputs": [],
   "source": [
    "jokes['text'] = jokes['title'] + ' ' + jokes['selftext']\n",
    "tales['text'] = tales['title'] + ' ' + tales['selftext']"
   ]
  },
  {
   "cell_type": "markdown",
   "metadata": {},
   "source": [
    "I then created two columns which sums up the character counts and word counts of each post."
   ]
  },
  {
   "cell_type": "code",
   "execution_count": 19,
   "metadata": {},
   "outputs": [],
   "source": [
    "jokes['char_count'] = [len(i) for i in jokes['text']]\n",
    "tales['char_count'] = [len(i) for i in tales['text']]"
   ]
  },
  {
   "cell_type": "code",
   "execution_count": 20,
   "metadata": {},
   "outputs": [],
   "source": [
    "jokes['word_count'] = [len(i.split()) for i in jokes['text']]\n",
    "tales['word_count'] = [len(i.split()) for i in tales['text']]"
   ]
  },
  {
   "cell_type": "markdown",
   "metadata": {},
   "source": [
    "I then created an age column by subtracting the datetime the post was created from the datetime the post was retrieved(10/17/2020 Midnight PDT). I used [Epoch Converter](https://www.epochconverter.com) to get the UTC timestamp and used dateime library to convert the timestamp back to datetime."
   ]
  },
  {
   "cell_type": "code",
   "execution_count": 20,
   "metadata": {},
   "outputs": [],
   "source": [
    "from datetime import datetime"
   ]
  },
  {
   "cell_type": "code",
   "execution_count": 21,
   "metadata": {},
   "outputs": [],
   "source": [
    "# credit to https://stackoverflow.com/questions/3743222/how-do-i-convert-a-datetime-to-date\n",
    "# credit to https://www.programiz.com/python-programming/datetime/timestamp-datetime\n",
    "\n",
    "jokes['created_utc'] = [datetime.fromtimestamp(i) for i in jokes['created_utc']]\n",
    "tales['created_utc'] = [datetime.fromtimestamp(i) for i in tales['created_utc']]"
   ]
  },
  {
   "cell_type": "code",
   "execution_count": 22,
   "metadata": {},
   "outputs": [],
   "source": [
    "jokes['retrieved']= datetime.fromtimestamp(1602918000) # 10/17/2020 00:00:00 PDT\n",
    "tales['retrieved']= datetime.fromtimestamp(1602918000)"
   ]
  },
  {
   "cell_type": "code",
   "execution_count": 23,
   "metadata": {},
   "outputs": [],
   "source": [
    "jokes['age'] = (jokes.retrieved - jokes.created_utc)\n",
    "tales['age'] = (tales.retrieved - tales.created_utc)"
   ]
  },
  {
   "cell_type": "markdown",
   "metadata": {},
   "source": [
    "Here I got the datetime value of age however I decided to fomrat them into days for more straightforward review."
   ]
  },
  {
   "cell_type": "code",
   "execution_count": 24,
   "metadata": {},
   "outputs": [],
   "source": [
    "# credit https://stackoverflow.com/questions/2119472/convert-a-timedelta-to-days-hours-and-minutes\n",
    "\n",
    "jokes['age'] = [i.days for i in jokes['age']]\n",
    "tales['age'] = [i.days for i in tales['age']]"
   ]
  },
  {
   "cell_type": "markdown",
   "metadata": {},
   "source": [
    "### Exploratory Data Analysis & Visualizations"
   ]
  },
  {
   "cell_type": "markdown",
   "metadata": {},
   "source": [
    "Although conducting natural language processing to classify posts, EDA is still necessary for datasets. The goal of EDA here is mainly to help put the data in context so that I can better understand the data so that I could have insights in the modeling and intepretation stage. Also because of this, I conducted the EDA separately for each subreddit first and then look at the visualizations of both subreddits together."
   ]
  },
  {
   "cell_type": "markdown",
   "metadata": {},
   "source": [
    "#### Jokes Subreddit"
   ]
  },
  {
   "cell_type": "code",
   "execution_count": 25,
   "metadata": {},
   "outputs": [
    {
     "data": {
      "text/plain": [
       "count    9522.000000\n",
       "mean     1.134846   \n",
       "std      1.439493   \n",
       "min      0.000000   \n",
       "25%      1.000000   \n",
       "50%      1.000000   \n",
       "75%      1.000000   \n",
       "max      104.000000 \n",
       "Name: score, dtype: float64"
      ]
     },
     "execution_count": 25,
     "metadata": {},
     "output_type": "execute_result"
    }
   ],
   "source": [
    "jokes.score.describe()"
   ]
  },
  {
   "cell_type": "markdown",
   "metadata": {},
   "source": [
    "Initially I included the score so that I can understand what posts in each subreddit I'm examining are most welcomed by reddit users. However, Pushlift had an [update](https://www.reddit.com/r/pushshift/comments/ha7935/score_of_a_comment_always_equal_to_1/) about a year ago and now the API only stores the scores at the time it accessed and does not update after. Therefore I have a lot of 1 in score, which does not provide any references. Considering I also have number of comments column that I assume are correlated to the popularity of a post, I decided to drop the score feature from my dataset."
   ]
  },
  {
   "cell_type": "code",
   "execution_count": 26,
   "metadata": {},
   "outputs": [
    {
     "data": {
      "text/plain": [
       "count    9522.000000\n",
       "mean     6.393195   \n",
       "std      47.729355  \n",
       "min      0.000000   \n",
       "25%      0.000000   \n",
       "50%      1.000000   \n",
       "75%      3.000000   \n",
       "max      1821.000000\n",
       "Name: num_comments, dtype: float64"
      ]
     },
     "execution_count": 26,
     "metadata": {},
     "output_type": "execute_result"
    }
   ],
   "source": [
    "jokes.num_comments.describe()"
   ]
  },
  {
   "cell_type": "markdown",
   "metadata": {},
   "source": [
    "Most posts from jokes receive 0 to 3 comments. Next I would like to examine those posts with most comments. "
   ]
  },
  {
   "cell_type": "code",
   "execution_count": 27,
   "metadata": {},
   "outputs": [
    {
     "data": {
      "text/plain": [
       "3689    1821\n",
       "7250    1738\n",
       "3203    1195\n",
       "859     1099\n",
       "8369    1055\n",
       "Name: num_comments, dtype: int64"
      ]
     },
     "execution_count": 27,
     "metadata": {},
     "output_type": "execute_result"
    }
   ],
   "source": [
    "jokes.num_comments.sort_values(ascending = False)[:5]"
   ]
  },
  {
   "cell_type": "code",
   "execution_count": 28,
   "metadata": {
    "scrolled": true
   },
   "outputs": [
    {
     "data": {
      "text/html": [
       "<div>\n",
       "<style scoped>\n",
       "    .dataframe tbody tr th:only-of-type {\n",
       "        vertical-align: middle;\n",
       "    }\n",
       "\n",
       "    .dataframe tbody tr th {\n",
       "        vertical-align: top;\n",
       "    }\n",
       "\n",
       "    .dataframe thead th {\n",
       "        text-align: right;\n",
       "    }\n",
       "</style>\n",
       "<table border=\"1\" class=\"dataframe\">\n",
       "  <thead>\n",
       "    <tr style=\"text-align: right;\">\n",
       "      <th></th>\n",
       "      <th>author</th>\n",
       "      <th>title</th>\n",
       "      <th>selftext</th>\n",
       "      <th>score</th>\n",
       "      <th>num_comments</th>\n",
       "      <th>created_utc</th>\n",
       "      <th>subreddit</th>\n",
       "      <th>text</th>\n",
       "      <th>char_count</th>\n",
       "      <th>word_count</th>\n",
       "      <th>retrieved</th>\n",
       "      <th>age</th>\n",
       "    </tr>\n",
       "  </thead>\n",
       "  <tbody>\n",
       "    <tr>\n",
       "      <th>859</th>\n",
       "      <td>MaxQ50</td>\n",
       "      <td>Smartest president</td>\n",
       "      <td>An airplane was about to crash. There were 4 passengers on board, but only 3 parachutes.\\n\\nThe 1st passenger said, 'I am LeBron James, the best NBA basketball player. The Lakers and my millions of fans need me, and I can't afford to die.' So he took the 1st pack and left the plane.\\n\\nThe 2nd passenger, Donald Trump, said, 'I am the  US President, and I am the smartest President in American history, so my people don't want me to die.' He took the 2nd pack and jumped out of the plane.\\n\\nThe 3rd passenger, the Pope, said to the 4th passenger, a 10-year-old schoolboy, 'My son, I am old and don't have many years left, you have more years ahead so I will sacrifice my life and let you have the last parachute.'\\n\\nThe little boy said, 'That's okay, Your Holiness, there's a parachute left for you. America 's smartest President took my schoolbag...</td>\n",
       "      <td>1</td>\n",
       "      <td>1099</td>\n",
       "      <td>2020-10-08 04:17:24</td>\n",
       "      <td>Jokes</td>\n",
       "      <td>Smartest president An airplane was about to crash. There were 4 passengers on board, but only 3 parachutes.\\n\\nThe 1st passenger said, 'I am LeBron James, the best NBA basketball player. The Lakers and my millions of fans need me, and I can't afford to die.' So he took the 1st pack and left the plane.\\n\\nThe 2nd passenger, Donald Trump, said, 'I am the  US President, and I am the smartest President in American history, so my people don't want me to die.' He took the 2nd pack and jumped out of the plane.\\n\\nThe 3rd passenger, the Pope, said to the 4th passenger, a 10-year-old schoolboy, 'My son, I am old and don't have many years left, you have more years ahead so I will sacrifice my life and let you have the last parachute.'\\n\\nThe little boy said, 'That's okay, Your Holiness, there's a parachute left for you. America 's smartest President took my schoolbag...</td>\n",
       "      <td>864</td>\n",
       "      <td>158</td>\n",
       "      <td>2020-10-17</td>\n",
       "      <td>8</td>\n",
       "    </tr>\n",
       "    <tr>\n",
       "      <th>3203</th>\n",
       "      <td>Firetrock</td>\n",
       "      <td>Trump might finally get what he wants the most</td>\n",
       "      <td>He might get to be president for the rest of his life.</td>\n",
       "      <td>1</td>\n",
       "      <td>1195</td>\n",
       "      <td>2020-10-02 17:46:15</td>\n",
       "      <td>Jokes</td>\n",
       "      <td>Trump might finally get what he wants the most He might get to be president for the rest of his life.</td>\n",
       "      <td>101</td>\n",
       "      <td>21</td>\n",
       "      <td>2020-10-17</td>\n",
       "      <td>14</td>\n",
       "    </tr>\n",
       "    <tr>\n",
       "      <th>3689</th>\n",
       "      <td>IAmGoingToBeSerious</td>\n",
       "      <td>Trump tests positive for COVID-19.</td>\n",
       "      <td>He finally passed a test without cheating, good for him.</td>\n",
       "      <td>1</td>\n",
       "      <td>1821</td>\n",
       "      <td>2020-10-01 22:32:36</td>\n",
       "      <td>Jokes</td>\n",
       "      <td>Trump tests positive for COVID-19. He finally passed a test without cheating, good for him.</td>\n",
       "      <td>91</td>\n",
       "      <td>15</td>\n",
       "      <td>2020-10-17</td>\n",
       "      <td>15</td>\n",
       "    </tr>\n",
       "    <tr>\n",
       "      <th>7250</th>\n",
       "      <td>cyclopropagative</td>\n",
       "      <td>I’m American, and I’m sick of people saying America is “the stupidest country in the world.”</td>\n",
       "      <td>Personally, I think Europe is the stupidest country in the world.</td>\n",
       "      <td>1</td>\n",
       "      <td>1738</td>\n",
       "      <td>2020-09-23 04:40:25</td>\n",
       "      <td>Jokes</td>\n",
       "      <td>I’m American, and I’m sick of people saying America is “the stupidest country in the world.” Personally, I think Europe is the stupidest country in the world.</td>\n",
       "      <td>158</td>\n",
       "      <td>27</td>\n",
       "      <td>2020-10-17</td>\n",
       "      <td>23</td>\n",
       "    </tr>\n",
       "    <tr>\n",
       "      <th>8369</th>\n",
       "      <td>IdeaCafe</td>\n",
       "      <td>CAN ADMINS OF THIS SUBREDDIT REDDIT DO A BETTER JOB OF MONITORING WHO IS ALLOWED IN HERE PLEASE?!</td>\n",
       "      <td>WE HAVE A NEW MEMBER, A WOMAN. SHE’S BEEN PRIVATELY MESSAGING MEMBERS, SENDING THEM NAKED PICTURES OF HERSELF IN NASTY POSES ALONG WITH CLOSE UPS OF HER UNMENTIONABLES. SHE IS OFFERING AN IPHONE 8+ IN EXCHANGE FOR SEXUAL FAVORS. I AM ESPECIALLY BOTHERED BECAUSE IT TURNED OUT TO BE AN IPHONE 6 AND OBVIOUSLY SOMETHING'S WRONG WITH IT. IT'S SUPER SLOW AND THE CAPS LOCK IS STUCK ON.</td>\n",
       "      <td>1</td>\n",
       "      <td>1055</td>\n",
       "      <td>2020-09-20 09:41:27</td>\n",
       "      <td>Jokes</td>\n",
       "      <td>CAN ADMINS OF THIS SUBREDDIT REDDIT DO A BETTER JOB OF MONITORING WHO IS ALLOWED IN HERE PLEASE?! WE HAVE A NEW MEMBER, A WOMAN. SHE’S BEEN PRIVATELY MESSAGING MEMBERS, SENDING THEM NAKED PICTURES OF HERSELF IN NASTY POSES ALONG WITH CLOSE UPS OF HER UNMENTIONABLES. SHE IS OFFERING AN IPHONE 8+ IN EXCHANGE FOR SEXUAL FAVORS. I AM ESPECIALLY BOTHERED BECAUSE IT TURNED OUT TO BE AN IPHONE 6 AND OBVIOUSLY SOMETHING'S WRONG WITH IT. IT'S SUPER SLOW AND THE CAPS LOCK IS STUCK ON.</td>\n",
       "      <td>479</td>\n",
       "      <td>86</td>\n",
       "      <td>2020-10-17</td>\n",
       "      <td>26</td>\n",
       "    </tr>\n",
       "  </tbody>\n",
       "</table>\n",
       "</div>"
      ],
      "text/plain": [
       "                   author  \\\n",
       "859   MaxQ50                \n",
       "3203  Firetrock             \n",
       "3689  IAmGoingToBeSerious   \n",
       "7250  cyclopropagative      \n",
       "8369  IdeaCafe              \n",
       "\n",
       "                                                                                                  title  \\\n",
       "859   Smartest president                                                                                  \n",
       "3203  Trump might finally get what he wants the most                                                      \n",
       "3689  Trump tests positive for COVID-19.                                                                  \n",
       "7250  I’m American, and I’m sick of people saying America is “the stupidest country in the world.”        \n",
       "8369  CAN ADMINS OF THIS SUBREDDIT REDDIT DO A BETTER JOB OF MONITORING WHO IS ALLOWED IN HERE PLEASE?!   \n",
       "\n",
       "                                                                                                                                                                                                                                                                                                                                                                                                                                                                                                                                                                                                                                                                                                                                                                                                                                                                                   selftext  \\\n",
       "859   An airplane was about to crash. There were 4 passengers on board, but only 3 parachutes.\\n\\nThe 1st passenger said, 'I am LeBron James, the best NBA basketball player. The Lakers and my millions of fans need me, and I can't afford to die.' So he took the 1st pack and left the plane.\\n\\nThe 2nd passenger, Donald Trump, said, 'I am the  US President, and I am the smartest President in American history, so my people don't want me to die.' He took the 2nd pack and jumped out of the plane.\\n\\nThe 3rd passenger, the Pope, said to the 4th passenger, a 10-year-old schoolboy, 'My son, I am old and don't have many years left, you have more years ahead so I will sacrifice my life and let you have the last parachute.'\\n\\nThe little boy said, 'That's okay, Your Holiness, there's a parachute left for you. America 's smartest President took my schoolbag...   \n",
       "3203  He might get to be president for the rest of his life.                                                                                                                                                                                                                                                                                                                                                                                                                                                                                                                                                                                                                                                                                                                                                                                                                                  \n",
       "3689  He finally passed a test without cheating, good for him.                                                                                                                                                                                                                                                                                                                                                                                                                                                                                                                                                                                                                                                                                                                                                                                                                                \n",
       "7250  Personally, I think Europe is the stupidest country in the world.                                                                                                                                                                                                                                                                                                                                                                                                                                                                                                                                                                                                                                                                                                                                                                                                                       \n",
       "8369  WE HAVE A NEW MEMBER, A WOMAN. SHE’S BEEN PRIVATELY MESSAGING MEMBERS, SENDING THEM NAKED PICTURES OF HERSELF IN NASTY POSES ALONG WITH CLOSE UPS OF HER UNMENTIONABLES. SHE IS OFFERING AN IPHONE 8+ IN EXCHANGE FOR SEXUAL FAVORS. I AM ESPECIALLY BOTHERED BECAUSE IT TURNED OUT TO BE AN IPHONE 6 AND OBVIOUSLY SOMETHING'S WRONG WITH IT. IT'S SUPER SLOW AND THE CAPS LOCK IS STUCK ON.                                                                                                                                                                                                                                                                                                                                                                                                                                                                                           \n",
       "\n",
       "      score  num_comments         created_utc subreddit  \\\n",
       "859   1      1099         2020-10-08 04:17:24  Jokes      \n",
       "3203  1      1195         2020-10-02 17:46:15  Jokes      \n",
       "3689  1      1821         2020-10-01 22:32:36  Jokes      \n",
       "7250  1      1738         2020-09-23 04:40:25  Jokes      \n",
       "8369  1      1055         2020-09-20 09:41:27  Jokes      \n",
       "\n",
       "                                                                                                                                                                                                                                                                                                                                                                                                                                                                                                                                                                                                                                                                                                                                                                                                                                                                                                          text  \\\n",
       "859   Smartest president An airplane was about to crash. There were 4 passengers on board, but only 3 parachutes.\\n\\nThe 1st passenger said, 'I am LeBron James, the best NBA basketball player. The Lakers and my millions of fans need me, and I can't afford to die.' So he took the 1st pack and left the plane.\\n\\nThe 2nd passenger, Donald Trump, said, 'I am the  US President, and I am the smartest President in American history, so my people don't want me to die.' He took the 2nd pack and jumped out of the plane.\\n\\nThe 3rd passenger, the Pope, said to the 4th passenger, a 10-year-old schoolboy, 'My son, I am old and don't have many years left, you have more years ahead so I will sacrifice my life and let you have the last parachute.'\\n\\nThe little boy said, 'That's okay, Your Holiness, there's a parachute left for you. America 's smartest President took my schoolbag...   \n",
       "3203  Trump might finally get what he wants the most He might get to be president for the rest of his life.                                                                                                                                                                                                                                                                                                                                                                                                                                                                                                                                                                                                                                                                                                                                                                                                      \n",
       "3689  Trump tests positive for COVID-19. He finally passed a test without cheating, good for him.                                                                                                                                                                                                                                                                                                                                                                                                                                                                                                                                                                                                                                                                                                                                                                                                                \n",
       "7250  I’m American, and I’m sick of people saying America is “the stupidest country in the world.” Personally, I think Europe is the stupidest country in the world.                                                                                                                                                                                                                                                                                                                                                                                                                                                                                                                                                                                                                                                                                                                                             \n",
       "8369  CAN ADMINS OF THIS SUBREDDIT REDDIT DO A BETTER JOB OF MONITORING WHO IS ALLOWED IN HERE PLEASE?! WE HAVE A NEW MEMBER, A WOMAN. SHE’S BEEN PRIVATELY MESSAGING MEMBERS, SENDING THEM NAKED PICTURES OF HERSELF IN NASTY POSES ALONG WITH CLOSE UPS OF HER UNMENTIONABLES. SHE IS OFFERING AN IPHONE 8+ IN EXCHANGE FOR SEXUAL FAVORS. I AM ESPECIALLY BOTHERED BECAUSE IT TURNED OUT TO BE AN IPHONE 6 AND OBVIOUSLY SOMETHING'S WRONG WITH IT. IT'S SUPER SLOW AND THE CAPS LOCK IS STUCK ON.                                                                                                                                                                                                                                                                                                                                                                                                            \n",
       "\n",
       "      char_count  word_count  retrieved  age  \n",
       "859   864         158        2020-10-17  8    \n",
       "3203  101         21         2020-10-17  14   \n",
       "3689  91          15         2020-10-17  15   \n",
       "7250  158         27         2020-10-17  23   \n",
       "8369  479         86         2020-10-17  26   "
      ]
     },
     "execution_count": 28,
     "metadata": {},
     "output_type": "execute_result"
    }
   ],
   "source": [
    "jokes[(jokes.num_comments == 1821) | (jokes.num_comments == 1738) | (jokes.num_comments == 1195) \n",
    "      | (jokes.num_comments == 1099) | (jokes.num_comments == 1055)]"
   ]
  },
  {
   "cell_type": "markdown",
   "metadata": {},
   "source": [
    "Of all the top 5 posts with most comments, 3 of them are about or mentioned Trump or American president."
   ]
  },
  {
   "cell_type": "markdown",
   "metadata": {},
   "source": [
    "#### TalesFromRetail Subreddit"
   ]
  },
  {
   "cell_type": "code",
   "execution_count": 29,
   "metadata": {},
   "outputs": [
    {
     "data": {
      "text/plain": [
       "count    9431.000000\n",
       "mean     24.938395  \n",
       "std      47.166440  \n",
       "min      0.000000   \n",
       "25%      0.000000   \n",
       "50%      7.000000   \n",
       "75%      25.000000  \n",
       "max      591.000000 \n",
       "Name: num_comments, dtype: float64"
      ]
     },
     "execution_count": 29,
     "metadata": {},
     "output_type": "execute_result"
    }
   ],
   "source": [
    "tales.num_comments.describe()"
   ]
  },
  {
   "cell_type": "markdown",
   "metadata": {},
   "source": [
    "The spread of tales is smaller than jokes, with most number of comments under 25 and the max number of 591. Let's also take a look at the top 5 most commented posts from tales."
   ]
  },
  {
   "cell_type": "code",
   "execution_count": 30,
   "metadata": {},
   "outputs": [
    {
     "data": {
      "text/plain": [
       "7850    591\n",
       "8470    528\n",
       "7433    527\n",
       "2765    502\n",
       "1210    464\n",
       "Name: num_comments, dtype: int64"
      ]
     },
     "execution_count": 30,
     "metadata": {},
     "output_type": "execute_result"
    }
   ],
   "source": [
    "tales.num_comments.sort_values(ascending = False)[:5]"
   ]
  },
  {
   "cell_type": "code",
   "execution_count": 31,
   "metadata": {
    "scrolled": true
   },
   "outputs": [
    {
     "data": {
      "text/html": [
       "<div>\n",
       "<style scoped>\n",
       "    .dataframe tbody tr th:only-of-type {\n",
       "        vertical-align: middle;\n",
       "    }\n",
       "\n",
       "    .dataframe tbody tr th {\n",
       "        vertical-align: top;\n",
       "    }\n",
       "\n",
       "    .dataframe thead th {\n",
       "        text-align: right;\n",
       "    }\n",
       "</style>\n",
       "<table border=\"1\" class=\"dataframe\">\n",
       "  <thead>\n",
       "    <tr style=\"text-align: right;\">\n",
       "      <th></th>\n",
       "      <th>author</th>\n",
       "      <th>title</th>\n",
       "      <th>selftext</th>\n",
       "      <th>score</th>\n",
       "      <th>num_comments</th>\n",
       "      <th>created_utc</th>\n",
       "      <th>subreddit</th>\n",
       "      <th>text</th>\n",
       "      <th>char_count</th>\n",
       "      <th>word_count</th>\n",
       "      <th>retrieved</th>\n",
       "      <th>age</th>\n",
       "    </tr>\n",
       "  </thead>\n",
       "  <tbody>\n",
       "    <tr>\n",
       "      <th>1210</th>\n",
       "      <td>TrappedWithTheKey</td>\n",
       "      <td>At this point I should just start making a weekly post about things people say when I ask for ID for cigarettes...</td>\n",
       "      <td>Quick background,  since Jan 1st, my state increased the minimum age for tobacco purchase to 21. Every gas station in my local area now requires everyone, regardless of age at all, to show a valid ID to discourage the already ongoing issue of purchasing for underage people.\\n\\nHere's another recent one from the other day: (M=me, C=customer)\\n\\nC: Marlboro 100s too\\n\\nM: sure, we do need to ask for ID too.\\n\\nC: what? Dide I'm like twice your age...\\n\\nM: I'm still required to as part of my job, I completely get the frustration though... *(I've found that appearing sympathetic to a certain point can avoid issues sometimes, but not always...)*\\n\\nC: yeah, I guess you conveniently forgot to card the pretty little white girl a minute ago huh?\\n\\nM: actually, she had just come back in after getting her ID since she left it in the car and I couldnt sell it to her otherwise. Again, I get it, but I still need to card everyone regardless if they're 21 or 121.\\n\\nC: fuck outta here, I'm going up the road then for the cigs\\n\\nM: just the gas then today? *puts cigs back in slot*\\n\\nC: *(obviously dumbfounded)* you really are gonna be a little bitch about it aren't you? You're lucky if I dont decide to sue you discrimination of age or attempting to steal identity information...\\n\\nM: *(seriously irritated and theres a line forming which isn't helping the stress at this point)* sir, I gotta do my job regardless, if you REALLY feel inclined to do so, I cant legally try to stop you, but for now, if you're still getting gas, please let me know... I dont mean to sound rude but I'm the only one with a register open and theres a line forming...\\n\\nC: right, now you're just being a dumbass, but Its cool, college isn't for everyone I guess\\n\\nM: *(internally fuming at this point)* ...$25....\\n\\nC: nah I'll just get the gas up the road\\n\\nM: *hits void* understandable, enjoy the rest of the day though!\\n\\nC: what, you thought I was serious? $25 on 9 still.\\n\\nThankfully he shut up until he got to the door after finally pre-paid for the gas... then blurted out that the company should be recognized for employing special ed kids. He was banned from the property after being caught giving 2 others a hard time like that too. Once during the next shift after me, and once the following day to my manager directly... \\n\\nWhat do people honestly think they'll accomplish acting like that anyway?</td>\n",
       "      <td>1</td>\n",
       "      <td>464</td>\n",
       "      <td>2020-02-28 00:58:54</td>\n",
       "      <td>TalesFromRetail</td>\n",
       "      <td>At this point I should just start making a weekly post about things people say when I ask for ID for cigarettes... Quick background,  since Jan 1st, my state increased the minimum age for tobacco purchase to 21. Every gas station in my local area now requires everyone, regardless of age at all, to show a valid ID to discourage the already ongoing issue of purchasing for underage people.\\n\\nHere's another recent one from the other day: (M=me, C=customer)\\n\\nC: Marlboro 100s too\\n\\nM: sure, we do need to ask for ID too.\\n\\nC: what? Dide I'm like twice your age...\\n\\nM: I'm still required to as part of my job, I completely get the frustration though... *(I've found that appearing sympathetic to a certain point can avoid issues sometimes, but not always...)*\\n\\nC: yeah, I guess you conveniently forgot to card the pretty little white girl a minute ago huh?\\n\\nM: actually, she had just come back in after getting her ID since she left it in the car and I couldnt sell it to her otherwise. Again, I get it, but I still need to card everyone regardless if they're 21 or 121.\\n\\nC: fuck outta here, I'm going up the road then for the cigs\\n\\nM: just the gas then today? *puts cigs back in slot*\\n\\nC: *(obviously dumbfounded)* you really are gonna be a little bitch about it aren't you? You're lucky if I dont decide to sue you discrimination of age or attempting to steal identity information...\\n\\nM: *(seriously irritated and theres a line forming which isn't helping the stress at this point)* sir, I gotta do my job regardless, if you REALLY feel inclined to do so, I cant legally try to stop you, but for now, if you're still getting gas, please let me know... I dont mean to sound rude but I'm the only one with a register open and theres a line forming...\\n\\nC: right, now you're just being a dumbass, but Its cool, college isn't for everyone I guess\\n\\nM: *(internally fuming at this point)* ...$25....\\n\\nC: nah I'll just get the gas up the road\\n\\nM: *hits void* understandable, enjoy the rest of the day though!\\n\\nC: what, you thought I was serious? $25 on 9 still.\\n\\nThankfully he shut up until he got to the door after finally pre-paid for the gas... then blurted out that the company should be recognized for employing special ed kids. He was banned from the property after being caught giving 2 others a hard time like that too. Once during the next shift after me, and once the following day to my manager directly... \\n\\nWhat do people honestly think they'll accomplish acting like that anyway?</td>\n",
       "      <td>2482</td>\n",
       "      <td>453</td>\n",
       "      <td>2020-10-17</td>\n",
       "      <td>231</td>\n",
       "    </tr>\n",
       "    <tr>\n",
       "      <th>2765</th>\n",
       "      <td>OGWhiz</td>\n",
       "      <td>Plain package cigarettes will be my death</td>\n",
       "      <td>Plain packaging has been introduced in Canada for cigarettes. This means the branding cannot include colour or logos, and the packaging for all companies needs to be a mat brown colour with a standardized font. Cigarettes require you to learn a new language anyway, especially when customers don’t actually know what they’re asking for. A small pack is 20 cigs, large is 25, but there’s also regular and king sized so people get confused and often ask for “a small next blue regular king size 25s” which is literally asking for every different next blue pack we have. So now that colours are banned in branding, we have to learn a whole new language and the customers just refuse to accept it. I’ve been telling every tobacco customer since April that this would be happening come November, and now it’s November. So a man walks in and asks me for a 25 pack of next blue regular. Next blue is now called next original, and it comes in it’s brown packaging with no logos. I have the brand descriptor guide next to my register for the inevitable “no, I want next BLUE..” arguments. This weapon proved worthless with this man.\\n\\nHim: those are brown..\\n\\nMe: yes that’s the new standard for Canadian tobacco as of yesterday, this is called plain packaging. All companies are going to be abiding by these rules, so next blue is now called next original and comes in this brown packaging.\\n\\nHim: No I want next BLUE.. not original.\\n\\nMe: These are next blue. It’s the same cigarette, same blend, same company. All cigarette packages are going to look like this by the end of February.\\n\\nHim: alright I don’t care about all that, I just want next BLUE cigarettes.\\n\\nMe: these are next blue.\\n\\nHim: No, they’re clearly brown.\\n\\nSo I pull out the description guide, open up to the “Next” brand page, and show him that it says next blue is now called next original.\\n\\nHim: alright but why can’t you just give me next blue?\\n\\nMe: These are next blue, they changed the name to next original.\\n\\nHim: alright nevermind.. fuck it.. I’ll be calling your head office to tell them you aren’t carrying the right products.\\n\\n\\nPlain packaging isn’t even in full effect yet and people are already fighting with me. I hate this.</td>\n",
       "      <td>2877</td>\n",
       "      <td>502</td>\n",
       "      <td>2019-11-02 07:03:54</td>\n",
       "      <td>TalesFromRetail</td>\n",
       "      <td>Plain package cigarettes will be my death Plain packaging has been introduced in Canada for cigarettes. This means the branding cannot include colour or logos, and the packaging for all companies needs to be a mat brown colour with a standardized font. Cigarettes require you to learn a new language anyway, especially when customers don’t actually know what they’re asking for. A small pack is 20 cigs, large is 25, but there’s also regular and king sized so people get confused and often ask for “a small next blue regular king size 25s” which is literally asking for every different next blue pack we have. So now that colours are banned in branding, we have to learn a whole new language and the customers just refuse to accept it. I’ve been telling every tobacco customer since April that this would be happening come November, and now it’s November. So a man walks in and asks me for a 25 pack of next blue regular. Next blue is now called next original, and it comes in it’s brown packaging with no logos. I have the brand descriptor guide next to my register for the inevitable “no, I want next BLUE..” arguments. This weapon proved worthless with this man.\\n\\nHim: those are brown..\\n\\nMe: yes that’s the new standard for Canadian tobacco as of yesterday, this is called plain packaging. All companies are going to be abiding by these rules, so next blue is now called next original and comes in this brown packaging.\\n\\nHim: No I want next BLUE.. not original.\\n\\nMe: These are next blue. It’s the same cigarette, same blend, same company. All cigarette packages are going to look like this by the end of February.\\n\\nHim: alright I don’t care about all that, I just want next BLUE cigarettes.\\n\\nMe: these are next blue.\\n\\nHim: No, they’re clearly brown.\\n\\nSo I pull out the description guide, open up to the “Next” brand page, and show him that it says next blue is now called next original.\\n\\nHim: alright but why can’t you just give me next blue?\\n\\nMe: These are next blue, they changed the name to next original.\\n\\nHim: alright nevermind.. fuck it.. I’ll be calling your head office to tell them you aren’t carrying the right products.\\n\\n\\nPlain packaging isn’t even in full effect yet and people are already fighting with me. I hate this.</td>\n",
       "      <td>2235</td>\n",
       "      <td>399</td>\n",
       "      <td>2020-10-17</td>\n",
       "      <td>349</td>\n",
       "    </tr>\n",
       "    <tr>\n",
       "      <th>7433</th>\n",
       "      <td>Fakjbf</td>\n",
       "      <td>Don’t sit in your car while pumping gas!</td>\n",
       "      <td>I live in Wisconsin where it was -40 yesterday (in both Fahrenheit and Celsius). I work at a gas station and was enjoying my break when over the radio I hear one of my coworkers say to shut down pump two. So I finished up my break and went out to see what happened, and there was a giant spot of grey snow by their back tire. Turns out they had been sitting in their car while pumping gas and the extreme cold caused the auto-shut off to malfunction, so their tank overfilled and spilled gas everywhere.\\n\\nThey came inside and tried to say that they should only have to pay for the gas that was in their car. We told him no, it’s state law that you have to watch the pump while using it so your negligence means you are liable for the gas. We then had a quick round of rock paper scissors to see who would go outside and I lost.\\n\\nWhen I got out there the gas had melted the snow and then when it got diluted enough refroze, turning a huge section in front of the pump into slippery ice about half an inch thick. It took 10-15 minutes to break it up and shovel it all into a garbage bag then put by the hazardous waste bin out back. When I got back inside I went to the kitchen, opened an oven, and stuck my hands in the hot air coming out until they thawed.\\n\\nA couple hours later a second person did the same thing at a different pump, sitting in their car not paying attention and overfilled their car. One of my coworkers went out to clean it up while the other coworkers printed out signs to tape to our doors telling people to stay by their pumps while filling up.\\n\\nTL;DR I don’t care how cold it is, don’t sit in your car while pumping gas!</td>\n",
       "      <td>1</td>\n",
       "      <td>527</td>\n",
       "      <td>2019-01-31 06:37:33</td>\n",
       "      <td>TalesFromRetail</td>\n",
       "      <td>Don’t sit in your car while pumping gas! I live in Wisconsin where it was -40 yesterday (in both Fahrenheit and Celsius). I work at a gas station and was enjoying my break when over the radio I hear one of my coworkers say to shut down pump two. So I finished up my break and went out to see what happened, and there was a giant spot of grey snow by their back tire. Turns out they had been sitting in their car while pumping gas and the extreme cold caused the auto-shut off to malfunction, so their tank overfilled and spilled gas everywhere.\\n\\nThey came inside and tried to say that they should only have to pay for the gas that was in their car. We told him no, it’s state law that you have to watch the pump while using it so your negligence means you are liable for the gas. We then had a quick round of rock paper scissors to see who would go outside and I lost.\\n\\nWhen I got out there the gas had melted the snow and then when it got diluted enough refroze, turning a huge section in front of the pump into slippery ice about half an inch thick. It took 10-15 minutes to break it up and shovel it all into a garbage bag then put by the hazardous waste bin out back. When I got back inside I went to the kitchen, opened an oven, and stuck my hands in the hot air coming out until they thawed.\\n\\nA couple hours later a second person did the same thing at a different pump, sitting in their car not paying attention and overfilled their car. One of my coworkers went out to clean it up while the other coworkers printed out signs to tape to our doors telling people to stay by their pumps while filling up.\\n\\nTL;DR I don’t care how cold it is, don’t sit in your car while pumping gas!</td>\n",
       "      <td>1685</td>\n",
       "      <td>334</td>\n",
       "      <td>2020-10-17</td>\n",
       "      <td>624</td>\n",
       "    </tr>\n",
       "    <tr>\n",
       "      <th>7850</th>\n",
       "      <td>Wynteral</td>\n",
       "      <td>I now hate $2 bills.</td>\n",
       "      <td>I was working a solo shift at a store, man comes in buying a neck pillow. As we go to the register, he tells me, “Oh, just so you know, I’m paying you all in two dollar bills. I’m trying to get rid of them.”\\n\\n“Oh, sure, but if I may ask, do you have any other forms of payment today?” (Item was ~$50, I would have rather gotten 20s or so)\\n\\nCustomer looks at me and scoffs, “What, you can’t count in even numbers or something?”\\n\\n“...I would just prefer another payment, but if that’s all you have I will still take it.”\\n\\n“Of COURSE you’ll take it.” He jabs my name tag on my chest and says it. “Money is money.”\\n\\nI’m like, sigh, okay. A little upset that he’s being rude but I just focus on the bills and the computer. He shoves a handful of the bills into my hands. I take my time counting them, sectioning them off into 10s so I can keep track and don’t get confused. He sees me doing this and mumbles, “Fucking idiot can’t count.”\\n\\nI’m human too. I react of course and audibly sigh. I look up to try to see if it’s genuine as I do every bill, I get my counterfeit pen out and mark a little spot just to be safe. He says even louder, “So you can’t count and you can’t tell bills apart! You have skills!”\\n\\nAt this point I’m like, fuck this guy. I say nothing but I’m visibly upset and irritated. I finish counting, hand him the extra bills. I put the receipt and his change on the counter and roughly close the cash register and I walk away from him.\\n\\nHe yells at me, “Honey, if you can’t handle customers like me, you shouldn’t work retail. No one asked you to work here!” And stomps off.\\n\\n\\n\\nJust had to get it off my chest.\\n\\nAlso, the reason I was reluctant to take $2 bills in the first place is that my till and deposit don’t count them/ have a place for them. \\n\\nTLDR; Guy tries to pay me all in $2 bills, becomes rude and pissy when I ask for a different form of payment.</td>\n",
       "      <td>1</td>\n",
       "      <td>591</td>\n",
       "      <td>2019-01-01 22:44:49</td>\n",
       "      <td>TalesFromRetail</td>\n",
       "      <td>I now hate $2 bills. I was working a solo shift at a store, man comes in buying a neck pillow. As we go to the register, he tells me, “Oh, just so you know, I’m paying you all in two dollar bills. I’m trying to get rid of them.”\\n\\n“Oh, sure, but if I may ask, do you have any other forms of payment today?” (Item was ~$50, I would have rather gotten 20s or so)\\n\\nCustomer looks at me and scoffs, “What, you can’t count in even numbers or something?”\\n\\n“...I would just prefer another payment, but if that’s all you have I will still take it.”\\n\\n“Of COURSE you’ll take it.” He jabs my name tag on my chest and says it. “Money is money.”\\n\\nI’m like, sigh, okay. A little upset that he’s being rude but I just focus on the bills and the computer. He shoves a handful of the bills into my hands. I take my time counting them, sectioning them off into 10s so I can keep track and don’t get confused. He sees me doing this and mumbles, “Fucking idiot can’t count.”\\n\\nI’m human too. I react of course and audibly sigh. I look up to try to see if it’s genuine as I do every bill, I get my counterfeit pen out and mark a little spot just to be safe. He says even louder, “So you can’t count and you can’t tell bills apart! You have skills!”\\n\\nAt this point I’m like, fuck this guy. I say nothing but I’m visibly upset and irritated. I finish counting, hand him the extra bills. I put the receipt and his change on the counter and roughly close the cash register and I walk away from him.\\n\\nHe yells at me, “Honey, if you can’t handle customers like me, you shouldn’t work retail. No one asked you to work here!” And stomps off.\\n\\n\\n\\nJust had to get it off my chest.\\n\\nAlso, the reason I was reluctant to take $2 bills in the first place is that my till and deposit don’t count them/ have a place for them. \\n\\nTLDR; Guy tries to pay me all in $2 bills, becomes rude and pissy when I ask for a different form of payment.</td>\n",
       "      <td>1897</td>\n",
       "      <td>379</td>\n",
       "      <td>2020-10-17</td>\n",
       "      <td>654</td>\n",
       "    </tr>\n",
       "    <tr>\n",
       "      <th>8470</th>\n",
       "      <td>LBTT</td>\n",
       "      <td>PSA to every customer who wants to say, “It’s such a shame that they make you work on the holidays” this year:</td>\n",
       "      <td>PSA to every customer who wants to say, “It’s such a shame that they make you work on the holidays” this year: DON’T!\\n\\nBecause “they” are only making me work today because your ass is here at my register wanting me to work.\\n\\nSeriously, if you want to say that look at where you’re standing!  If it’s in my living room as I’m headed to work then that’s righteous indignation I can get behind, but if it’s in front of my register at work: stow it because YOU ARE THE REASON!  If you didn’t want to shop, I wouldn’t need to work!  GO AWAY!\\n\\nShoot!  I don’t even get holiday pay either so don’t even bring that up as a good point to it!  No!  I’m gonna have to eat a cold turkey sandwich and cold mac and cheese when I get home.  BECAUSE OF YOU.  And that’s why I hate you.\\n\\nSorry.  Had to vent.  I’ve heard this one too many times today.</td>\n",
       "      <td>1</td>\n",
       "      <td>528</td>\n",
       "      <td>2018-11-22 15:13:58</td>\n",
       "      <td>TalesFromRetail</td>\n",
       "      <td>PSA to every customer who wants to say, “It’s such a shame that they make you work on the holidays” this year: PSA to every customer who wants to say, “It’s such a shame that they make you work on the holidays” this year: DON’T!\\n\\nBecause “they” are only making me work today because your ass is here at my register wanting me to work.\\n\\nSeriously, if you want to say that look at where you’re standing!  If it’s in my living room as I’m headed to work then that’s righteous indignation I can get behind, but if it’s in front of my register at work: stow it because YOU ARE THE REASON!  If you didn’t want to shop, I wouldn’t need to work!  GO AWAY!\\n\\nShoot!  I don’t even get holiday pay either so don’t even bring that up as a good point to it!  No!  I’m gonna have to eat a cold turkey sandwich and cold mac and cheese when I get home.  BECAUSE OF YOU.  And that’s why I hate you.\\n\\nSorry.  Had to vent.  I’ve heard this one too many times today.</td>\n",
       "      <td>945</td>\n",
       "      <td>186</td>\n",
       "      <td>2020-10-17</td>\n",
       "      <td>694</td>\n",
       "    </tr>\n",
       "  </tbody>\n",
       "</table>\n",
       "</div>"
      ],
      "text/plain": [
       "                 author  \\\n",
       "1210  TrappedWithTheKey   \n",
       "2765  OGWhiz              \n",
       "7433  Fakjbf              \n",
       "7850  Wynteral            \n",
       "8470  LBTT                \n",
       "\n",
       "                                                                                                                   title  \\\n",
       "1210  At this point I should just start making a weekly post about things people say when I ask for ID for cigarettes...   \n",
       "2765  Plain package cigarettes will be my death                                                                            \n",
       "7433  Don’t sit in your car while pumping gas!                                                                             \n",
       "7850  I now hate $2 bills.                                                                                                 \n",
       "8470  PSA to every customer who wants to say, “It’s such a shame that they make you work on the holidays” this year:       \n",
       "\n",
       "                                                                                                                                                                                                                                                                                                                                                                                                                                                                                                                                                                                                                                                                                                                                                                                                                                                                                                                                                                                                                                                                                                                                                                                                                                                                                                                                                                                                                                                                                                                                                                                                                                                                                                                                                                                                                                                                                                                                                                                                                                                                                                                                                                                                                                                                                                                                                                                                                                                                                                 selftext  \\\n",
       "1210  Quick background,  since Jan 1st, my state increased the minimum age for tobacco purchase to 21. Every gas station in my local area now requires everyone, regardless of age at all, to show a valid ID to discourage the already ongoing issue of purchasing for underage people.\\n\\nHere's another recent one from the other day: (M=me, C=customer)\\n\\nC: Marlboro 100s too\\n\\nM: sure, we do need to ask for ID too.\\n\\nC: what? Dide I'm like twice your age...\\n\\nM: I'm still required to as part of my job, I completely get the frustration though... *(I've found that appearing sympathetic to a certain point can avoid issues sometimes, but not always...)*\\n\\nC: yeah, I guess you conveniently forgot to card the pretty little white girl a minute ago huh?\\n\\nM: actually, she had just come back in after getting her ID since she left it in the car and I couldnt sell it to her otherwise. Again, I get it, but I still need to card everyone regardless if they're 21 or 121.\\n\\nC: fuck outta here, I'm going up the road then for the cigs\\n\\nM: just the gas then today? *puts cigs back in slot*\\n\\nC: *(obviously dumbfounded)* you really are gonna be a little bitch about it aren't you? You're lucky if I dont decide to sue you discrimination of age or attempting to steal identity information...\\n\\nM: *(seriously irritated and theres a line forming which isn't helping the stress at this point)* sir, I gotta do my job regardless, if you REALLY feel inclined to do so, I cant legally try to stop you, but for now, if you're still getting gas, please let me know... I dont mean to sound rude but I'm the only one with a register open and theres a line forming...\\n\\nC: right, now you're just being a dumbass, but Its cool, college isn't for everyone I guess\\n\\nM: *(internally fuming at this point)* ...$25....\\n\\nC: nah I'll just get the gas up the road\\n\\nM: *hits void* understandable, enjoy the rest of the day though!\\n\\nC: what, you thought I was serious? $25 on 9 still.\\n\\nThankfully he shut up until he got to the door after finally pre-paid for the gas... then blurted out that the company should be recognized for employing special ed kids. He was banned from the property after being caught giving 2 others a hard time like that too. Once during the next shift after me, and once the following day to my manager directly... \\n\\nWhat do people honestly think they'll accomplish acting like that anyway?   \n",
       "2765  Plain packaging has been introduced in Canada for cigarettes. This means the branding cannot include colour or logos, and the packaging for all companies needs to be a mat brown colour with a standardized font. Cigarettes require you to learn a new language anyway, especially when customers don’t actually know what they’re asking for. A small pack is 20 cigs, large is 25, but there’s also regular and king sized so people get confused and often ask for “a small next blue regular king size 25s” which is literally asking for every different next blue pack we have. So now that colours are banned in branding, we have to learn a whole new language and the customers just refuse to accept it. I’ve been telling every tobacco customer since April that this would be happening come November, and now it’s November. So a man walks in and asks me for a 25 pack of next blue regular. Next blue is now called next original, and it comes in it’s brown packaging with no logos. I have the brand descriptor guide next to my register for the inevitable “no, I want next BLUE..” arguments. This weapon proved worthless with this man.\\n\\nHim: those are brown..\\n\\nMe: yes that’s the new standard for Canadian tobacco as of yesterday, this is called plain packaging. All companies are going to be abiding by these rules, so next blue is now called next original and comes in this brown packaging.\\n\\nHim: No I want next BLUE.. not original.\\n\\nMe: These are next blue. It’s the same cigarette, same blend, same company. All cigarette packages are going to look like this by the end of February.\\n\\nHim: alright I don’t care about all that, I just want next BLUE cigarettes.\\n\\nMe: these are next blue.\\n\\nHim: No, they’re clearly brown.\\n\\nSo I pull out the description guide, open up to the “Next” brand page, and show him that it says next blue is now called next original.\\n\\nHim: alright but why can’t you just give me next blue?\\n\\nMe: These are next blue, they changed the name to next original.\\n\\nHim: alright nevermind.. fuck it.. I’ll be calling your head office to tell them you aren’t carrying the right products.\\n\\n\\nPlain packaging isn’t even in full effect yet and people are already fighting with me. I hate this.                                                                                                                                                                                            \n",
       "7433  I live in Wisconsin where it was -40 yesterday (in both Fahrenheit and Celsius). I work at a gas station and was enjoying my break when over the radio I hear one of my coworkers say to shut down pump two. So I finished up my break and went out to see what happened, and there was a giant spot of grey snow by their back tire. Turns out they had been sitting in their car while pumping gas and the extreme cold caused the auto-shut off to malfunction, so their tank overfilled and spilled gas everywhere.\\n\\nThey came inside and tried to say that they should only have to pay for the gas that was in their car. We told him no, it’s state law that you have to watch the pump while using it so your negligence means you are liable for the gas. We then had a quick round of rock paper scissors to see who would go outside and I lost.\\n\\nWhen I got out there the gas had melted the snow and then when it got diluted enough refroze, turning a huge section in front of the pump into slippery ice about half an inch thick. It took 10-15 minutes to break it up and shovel it all into a garbage bag then put by the hazardous waste bin out back. When I got back inside I went to the kitchen, opened an oven, and stuck my hands in the hot air coming out until they thawed.\\n\\nA couple hours later a second person did the same thing at a different pump, sitting in their car not paying attention and overfilled their car. One of my coworkers went out to clean it up while the other coworkers printed out signs to tape to our doors telling people to stay by their pumps while filling up.\\n\\nTL;DR I don’t care how cold it is, don’t sit in your car while pumping gas!                                                                                                                                                                                                                                                                                                                                                                                                                                                                                                                                                                                                                                                                                                                                                                                  \n",
       "7850  I was working a solo shift at a store, man comes in buying a neck pillow. As we go to the register, he tells me, “Oh, just so you know, I’m paying you all in two dollar bills. I’m trying to get rid of them.”\\n\\n“Oh, sure, but if I may ask, do you have any other forms of payment today?” (Item was ~$50, I would have rather gotten 20s or so)\\n\\nCustomer looks at me and scoffs, “What, you can’t count in even numbers or something?”\\n\\n“...I would just prefer another payment, but if that’s all you have I will still take it.”\\n\\n“Of COURSE you’ll take it.” He jabs my name tag on my chest and says it. “Money is money.”\\n\\nI’m like, sigh, okay. A little upset that he’s being rude but I just focus on the bills and the computer. He shoves a handful of the bills into my hands. I take my time counting them, sectioning them off into 10s so I can keep track and don’t get confused. He sees me doing this and mumbles, “Fucking idiot can’t count.”\\n\\nI’m human too. I react of course and audibly sigh. I look up to try to see if it’s genuine as I do every bill, I get my counterfeit pen out and mark a little spot just to be safe. He says even louder, “So you can’t count and you can’t tell bills apart! You have skills!”\\n\\nAt this point I’m like, fuck this guy. I say nothing but I’m visibly upset and irritated. I finish counting, hand him the extra bills. I put the receipt and his change on the counter and roughly close the cash register and I walk away from him.\\n\\nHe yells at me, “Honey, if you can’t handle customers like me, you shouldn’t work retail. No one asked you to work here!” And stomps off.\\n\\n\\n\\nJust had to get it off my chest.\\n\\nAlso, the reason I was reluctant to take $2 bills in the first place is that my till and deposit don’t count them/ have a place for them. \\n\\nTLDR; Guy tries to pay me all in $2 bills, becomes rude and pissy when I ask for a different form of payment.                                                                                                                                                                                                                                                                                                                                                                                                                                                                                                                          \n",
       "8470  PSA to every customer who wants to say, “It’s such a shame that they make you work on the holidays” this year: DON’T!\\n\\nBecause “they” are only making me work today because your ass is here at my register wanting me to work.\\n\\nSeriously, if you want to say that look at where you’re standing!  If it’s in my living room as I’m headed to work then that’s righteous indignation I can get behind, but if it’s in front of my register at work: stow it because YOU ARE THE REASON!  If you didn’t want to shop, I wouldn’t need to work!  GO AWAY!\\n\\nShoot!  I don’t even get holiday pay either so don’t even bring that up as a good point to it!  No!  I’m gonna have to eat a cold turkey sandwich and cold mac and cheese when I get home.  BECAUSE OF YOU.  And that’s why I hate you.\\n\\nSorry.  Had to vent.  I’ve heard this one too many times today.                                                                                                                                                                                                                                                                                                                                                                                                                                                                                                                                                                                                                                                                                                                                                                                                                                                                                                                                                                                                                                                                                                                                                                                                                                                                                                                                                                                                                                                                                                                                                                                                                            \n",
       "\n",
       "      score  num_comments         created_utc        subreddit  \\\n",
       "1210  1      464          2020-02-28 00:58:54  TalesFromRetail   \n",
       "2765  2877   502          2019-11-02 07:03:54  TalesFromRetail   \n",
       "7433  1      527          2019-01-31 06:37:33  TalesFromRetail   \n",
       "7850  1      591          2019-01-01 22:44:49  TalesFromRetail   \n",
       "8470  1      528          2018-11-22 15:13:58  TalesFromRetail   \n",
       "\n",
       "                                                                                                                                                                                                                                                                                                                                                                                                                                                                                                                                                                                                                                                                                                                                                                                                                                                                                                                                                                                                                                                                                                                                                                                                                                                                                                                                                                                                                                                                                                                                                                                                                                                                                                                                                                                                                                                                                                                                                                                                                                                                                                                                                                                                                                                                                                                                                                                                                                                                                                                                                                                                                        text  \\\n",
       "1210  At this point I should just start making a weekly post about things people say when I ask for ID for cigarettes... Quick background,  since Jan 1st, my state increased the minimum age for tobacco purchase to 21. Every gas station in my local area now requires everyone, regardless of age at all, to show a valid ID to discourage the already ongoing issue of purchasing for underage people.\\n\\nHere's another recent one from the other day: (M=me, C=customer)\\n\\nC: Marlboro 100s too\\n\\nM: sure, we do need to ask for ID too.\\n\\nC: what? Dide I'm like twice your age...\\n\\nM: I'm still required to as part of my job, I completely get the frustration though... *(I've found that appearing sympathetic to a certain point can avoid issues sometimes, but not always...)*\\n\\nC: yeah, I guess you conveniently forgot to card the pretty little white girl a minute ago huh?\\n\\nM: actually, she had just come back in after getting her ID since she left it in the car and I couldnt sell it to her otherwise. Again, I get it, but I still need to card everyone regardless if they're 21 or 121.\\n\\nC: fuck outta here, I'm going up the road then for the cigs\\n\\nM: just the gas then today? *puts cigs back in slot*\\n\\nC: *(obviously dumbfounded)* you really are gonna be a little bitch about it aren't you? You're lucky if I dont decide to sue you discrimination of age or attempting to steal identity information...\\n\\nM: *(seriously irritated and theres a line forming which isn't helping the stress at this point)* sir, I gotta do my job regardless, if you REALLY feel inclined to do so, I cant legally try to stop you, but for now, if you're still getting gas, please let me know... I dont mean to sound rude but I'm the only one with a register open and theres a line forming...\\n\\nC: right, now you're just being a dumbass, but Its cool, college isn't for everyone I guess\\n\\nM: *(internally fuming at this point)* ...$25....\\n\\nC: nah I'll just get the gas up the road\\n\\nM: *hits void* understandable, enjoy the rest of the day though!\\n\\nC: what, you thought I was serious? $25 on 9 still.\\n\\nThankfully he shut up until he got to the door after finally pre-paid for the gas... then blurted out that the company should be recognized for employing special ed kids. He was banned from the property after being caught giving 2 others a hard time like that too. Once during the next shift after me, and once the following day to my manager directly... \\n\\nWhat do people honestly think they'll accomplish acting like that anyway?   \n",
       "2765  Plain package cigarettes will be my death Plain packaging has been introduced in Canada for cigarettes. This means the branding cannot include colour or logos, and the packaging for all companies needs to be a mat brown colour with a standardized font. Cigarettes require you to learn a new language anyway, especially when customers don’t actually know what they’re asking for. A small pack is 20 cigs, large is 25, but there’s also regular and king sized so people get confused and often ask for “a small next blue regular king size 25s” which is literally asking for every different next blue pack we have. So now that colours are banned in branding, we have to learn a whole new language and the customers just refuse to accept it. I’ve been telling every tobacco customer since April that this would be happening come November, and now it’s November. So a man walks in and asks me for a 25 pack of next blue regular. Next blue is now called next original, and it comes in it’s brown packaging with no logos. I have the brand descriptor guide next to my register for the inevitable “no, I want next BLUE..” arguments. This weapon proved worthless with this man.\\n\\nHim: those are brown..\\n\\nMe: yes that’s the new standard for Canadian tobacco as of yesterday, this is called plain packaging. All companies are going to be abiding by these rules, so next blue is now called next original and comes in this brown packaging.\\n\\nHim: No I want next BLUE.. not original.\\n\\nMe: These are next blue. It’s the same cigarette, same blend, same company. All cigarette packages are going to look like this by the end of February.\\n\\nHim: alright I don’t care about all that, I just want next BLUE cigarettes.\\n\\nMe: these are next blue.\\n\\nHim: No, they’re clearly brown.\\n\\nSo I pull out the description guide, open up to the “Next” brand page, and show him that it says next blue is now called next original.\\n\\nHim: alright but why can’t you just give me next blue?\\n\\nMe: These are next blue, they changed the name to next original.\\n\\nHim: alright nevermind.. fuck it.. I’ll be calling your head office to tell them you aren’t carrying the right products.\\n\\n\\nPlain packaging isn’t even in full effect yet and people are already fighting with me. I hate this.                                                                                                                                                                                                                                                                     \n",
       "7433  Don’t sit in your car while pumping gas! I live in Wisconsin where it was -40 yesterday (in both Fahrenheit and Celsius). I work at a gas station and was enjoying my break when over the radio I hear one of my coworkers say to shut down pump two. So I finished up my break and went out to see what happened, and there was a giant spot of grey snow by their back tire. Turns out they had been sitting in their car while pumping gas and the extreme cold caused the auto-shut off to malfunction, so their tank overfilled and spilled gas everywhere.\\n\\nThey came inside and tried to say that they should only have to pay for the gas that was in their car. We told him no, it’s state law that you have to watch the pump while using it so your negligence means you are liable for the gas. We then had a quick round of rock paper scissors to see who would go outside and I lost.\\n\\nWhen I got out there the gas had melted the snow and then when it got diluted enough refroze, turning a huge section in front of the pump into slippery ice about half an inch thick. It took 10-15 minutes to break it up and shovel it all into a garbage bag then put by the hazardous waste bin out back. When I got back inside I went to the kitchen, opened an oven, and stuck my hands in the hot air coming out until they thawed.\\n\\nA couple hours later a second person did the same thing at a different pump, sitting in their car not paying attention and overfilled their car. One of my coworkers went out to clean it up while the other coworkers printed out signs to tape to our doors telling people to stay by their pumps while filling up.\\n\\nTL;DR I don’t care how cold it is, don’t sit in your car while pumping gas!                                                                                                                                                                                                                                                                                                                                                                                                                                                                                                                                                                                                                                                                                                                                                                                                                                                            \n",
       "7850  I now hate $2 bills. I was working a solo shift at a store, man comes in buying a neck pillow. As we go to the register, he tells me, “Oh, just so you know, I’m paying you all in two dollar bills. I’m trying to get rid of them.”\\n\\n“Oh, sure, but if I may ask, do you have any other forms of payment today?” (Item was ~$50, I would have rather gotten 20s or so)\\n\\nCustomer looks at me and scoffs, “What, you can’t count in even numbers or something?”\\n\\n“...I would just prefer another payment, but if that’s all you have I will still take it.”\\n\\n“Of COURSE you’ll take it.” He jabs my name tag on my chest and says it. “Money is money.”\\n\\nI’m like, sigh, okay. A little upset that he’s being rude but I just focus on the bills and the computer. He shoves a handful of the bills into my hands. I take my time counting them, sectioning them off into 10s so I can keep track and don’t get confused. He sees me doing this and mumbles, “Fucking idiot can’t count.”\\n\\nI’m human too. I react of course and audibly sigh. I look up to try to see if it’s genuine as I do every bill, I get my counterfeit pen out and mark a little spot just to be safe. He says even louder, “So you can’t count and you can’t tell bills apart! You have skills!”\\n\\nAt this point I’m like, fuck this guy. I say nothing but I’m visibly upset and irritated. I finish counting, hand him the extra bills. I put the receipt and his change on the counter and roughly close the cash register and I walk away from him.\\n\\nHe yells at me, “Honey, if you can’t handle customers like me, you shouldn’t work retail. No one asked you to work here!” And stomps off.\\n\\n\\n\\nJust had to get it off my chest.\\n\\nAlso, the reason I was reluctant to take $2 bills in the first place is that my till and deposit don’t count them/ have a place for them. \\n\\nTLDR; Guy tries to pay me all in $2 bills, becomes rude and pissy when I ask for a different form of payment.                                                                                                                                                                                                                                                                                                                                                                                                                                                                                                                                                                                                                        \n",
       "8470  PSA to every customer who wants to say, “It’s such a shame that they make you work on the holidays” this year: PSA to every customer who wants to say, “It’s such a shame that they make you work on the holidays” this year: DON’T!\\n\\nBecause “they” are only making me work today because your ass is here at my register wanting me to work.\\n\\nSeriously, if you want to say that look at where you’re standing!  If it’s in my living room as I’m headed to work then that’s righteous indignation I can get behind, but if it’s in front of my register at work: stow it because YOU ARE THE REASON!  If you didn’t want to shop, I wouldn’t need to work!  GO AWAY!\\n\\nShoot!  I don’t even get holiday pay either so don’t even bring that up as a good point to it!  No!  I’m gonna have to eat a cold turkey sandwich and cold mac and cheese when I get home.  BECAUSE OF YOU.  And that’s why I hate you.\\n\\nSorry.  Had to vent.  I’ve heard this one too many times today.                                                                                                                                                                                                                                                                                                                                                                                                                                                                                                                                                                                                                                                                                                                                                                                                                                                                                                                                                                                                                                                                                                                                                                                                                                                                                                                                                                                                                                                                                                                                                                                                                                \n",
       "\n",
       "      char_count  word_count  retrieved  age  \n",
       "1210  2482        453        2020-10-17  231  \n",
       "2765  2235        399        2020-10-17  349  \n",
       "7433  1685        334        2020-10-17  624  \n",
       "7850  1897        379        2020-10-17  654  \n",
       "8470  945         186        2020-10-17  694  "
      ]
     },
     "execution_count": 31,
     "metadata": {},
     "output_type": "execute_result"
    }
   ],
   "source": [
    "tales[(tales.num_comments == 591) | (tales.num_comments == 528) | (tales.num_comments == 527) \n",
    "      | (tales.num_comments == 502) | (tales.num_comments == 464)]"
   ]
  },
  {
   "cell_type": "markdown",
   "metadata": {},
   "source": [
    "The top 5 commented posts in tales from retail are all centered around complaints about customers which don't intend to be funny."
   ]
  },
  {
   "cell_type": "markdown",
   "metadata": {},
   "source": [
    "### Visualizations"
   ]
  },
  {
   "cell_type": "markdown",
   "metadata": {},
   "source": [
    "Now let's take a look at the distribution of two subreddits."
   ]
  },
  {
   "cell_type": "code",
   "execution_count": 56,
   "metadata": {},
   "outputs": [
    {
     "data": {
      "image/png": "[encoded data removed]",
      "text/plain": [
       "<Figure size 720x360 with 1 Axes>"
      ]
     },
     "metadata": {
      "needs_background": "light"
     },
     "output_type": "display_data"
    }
   ],
   "source": [
    "# credit to Hov's NLP EDA\n",
    "\n",
    "plt.figure(figsize = (10, 5))\n",
    "plt.hist([jokes['char_count'], \n",
    "          tales['char_count']],\n",
    "         bins = 10, color = ['skyblue', 'grey'])\n",
    "plt.title('Distribution of Character Count by Subreddit', fontsize = 18)\n",
    "plt.legend(['Jokes', 'Tales'])\n",
    "plt.tight_layout()\n",
    "plt.savefig('../charts/dist_of_char_count');"
   ]
  },
  {
   "cell_type": "markdown",
   "metadata": {},
   "source": [
    "The histogram above shows that character counts of jokes are more concentrated in the lower end while tales are more spreaded in higher number counts."
   ]
  },
  {
   "cell_type": "code",
   "execution_count": 57,
   "metadata": {},
   "outputs": [
    {
     "data": {
      "image/png": "[encoded data removed]",
      "text/plain": [
       "<Figure size 720x360 with 1 Axes>"
      ]
     },
     "metadata": {
      "needs_background": "light"
     },
     "output_type": "display_data"
    }
   ],
   "source": [
    "plt.figure(figsize = (10, 5))\n",
    "jokes.char_count.describe().plot()\n",
    "tales.char_count.describe().plot()\n",
    "plt.title('Stats of Character Count by Subreddit', fontsize = 18)\n",
    "plt.legend(['Jokes', 'Tales'])\n",
    "plt.tight_layout()\n",
    "plt.savefig('../charts/stats_of_char_count');"
   ]
  },
  {
   "cell_type": "markdown",
   "metadata": {},
   "source": [
    "The above line chart also shows that jokes has the larger maximum character count between two subreddits however most of jokes posts have lower character counts than tales."
   ]
  },
  {
   "cell_type": "code",
   "execution_count": 58,
   "metadata": {},
   "outputs": [
    {
     "data": {
      "image/png": "[encoded data removed]",
      "text/plain": [
       "<Figure size 720x360 with 1 Axes>"
      ]
     },
     "metadata": {
      "needs_background": "light"
     },
     "output_type": "display_data"
    }
   ],
   "source": [
    "plt.figure(figsize = (10, 5))\n",
    "plt.hist([jokes['word_count'], \n",
    "          tales['word_count']],\n",
    "         bins = 10, color = ['skyblue', 'grey'])\n",
    "plt.title('Distribution of Word Count by Subreddit', fontsize = 18)\n",
    "plt.legend(['Jokes', 'Tales'])\n",
    "plt.tight_layout()\n",
    "plt.savefig('../charts/dist_of_word_count');"
   ]
  },
  {
   "cell_type": "code",
   "execution_count": 60,
   "metadata": {},
   "outputs": [
    {
     "data": {
      "image/png": "[encoded data removed]",
      "text/plain": [
       "<Figure size 720x360 with 1 Axes>"
      ]
     },
     "metadata": {
      "needs_background": "light"
     },
     "output_type": "display_data"
    }
   ],
   "source": [
    "plt.figure(figsize = (10, 5))\n",
    "jokes.word_count.describe().plot()\n",
    "tales.word_count.describe().plot()\n",
    "plt.title('Stats of Word Count by Subreddit', fontsize = 18)\n",
    "plt.legend(['Jokes', 'Tales'])\n",
    "plt.tight_layout()\n",
    "plt.savefig('../charts/stats_of_word_count');"
   ]
  },
  {
   "cell_type": "markdown",
   "metadata": {},
   "source": [
    "Similar as word count, jokes also have the larger of max word counts however average is lower than tales. This indicates that tales posts in general are longer than jokes."
   ]
  },
  {
   "cell_type": "code",
   "execution_count": 61,
   "metadata": {},
   "outputs": [
    {
     "data": {
      "image/png": "[encoded data removed]",
      "text/plain": [
       "<Figure size 720x360 with 1 Axes>"
      ]
     },
     "metadata": {
      "needs_background": "light"
     },
     "output_type": "display_data"
    }
   ],
   "source": [
    "plt.figure(figsize = (10, 5))\n",
    "plt.hist([jokes.num_comments,\n",
    "        tales.num_comments],\n",
    "        bins = 20, color = ['skyblue', 'grey'])\n",
    "plt.title('Distribution of Number of Comments by Subreddit', fontsize = 18)\n",
    "plt.legend(['Jokes', 'Tales'])\n",
    "plt.tight_layout()\n",
    "plt.savefig('../charts/dist_of_num_of_comments_count');"
   ]
  },
  {
   "cell_type": "code",
   "execution_count": 63,
   "metadata": {},
   "outputs": [
    {
     "data": {
      "image/png": "[encoded data removed]",
      "text/plain": [
       "<Figure size 720x360 with 1 Axes>"
      ]
     },
     "metadata": {
      "needs_background": "light"
     },
     "output_type": "display_data"
    }
   ],
   "source": [
    "plt.figure(figsize = (10, 5))\n",
    "jokes.num_comments.describe().plot()\n",
    "tales.num_comments.describe().plot()\n",
    "plt.title('Stats of Number of Comments by Subreddit', fontsize = 18)\n",
    "plt.legend(['Jokes', 'Tales'])\n",
    "plt.tight_layout()\n",
    "plt.savefig('../charts/stats_of_num_of_comments_count');"
   ]
  },
  {
   "cell_type": "markdown",
   "metadata": {},
   "source": [
    "The number of comments for both subreddits are mostly similar, however in the high range (over 500 comments range), jokes have more comments than tales."
   ]
  },
  {
   "cell_type": "code",
   "execution_count": 64,
   "metadata": {},
   "outputs": [
    {
     "data": {
      "image/png": "[encoded data removed]",
      "text/plain": [
       "<Figure size 720x360 with 1 Axes>"
      ]
     },
     "metadata": {
      "needs_background": "light"
     },
     "output_type": "display_data"
    }
   ],
   "source": [
    "plt.figure(figsize = (10, 5))\n",
    "plt.hist([jokes.age,\n",
    "        tales.age],\n",
    "        bins = 20, color = ['skyblue', 'grey'])\n",
    "plt.title('Distribution of Age by Subreddit', fontsize = 18)\n",
    "plt.legend(['Jokes', 'Tales'])\n",
    "plt.tight_layout()\n",
    "plt.savefig('../charts/dist_of_age_count');"
   ]
  },
  {
   "cell_type": "markdown",
   "metadata": {},
   "source": [
    "As indicated by the histogram above, jokes latest legit posts are mostly in the past month, however for the tales, the posts go way back to more than 2 years ago. This means that that jokes subreddit has a lot more active postings than tales."
   ]
  },
  {
   "cell_type": "markdown",
   "metadata": {},
   "source": [
    "### Preprocessing"
   ]
  },
  {
   "cell_type": "markdown",
   "metadata": {},
   "source": [
    "After the basic EDA, it's time to finally combine two datasets together for Natural Language Processing. I only kept text and subreddit groups for this purpose. Also please note that this preprocessing is for exploratory purposes, not for modeling. That's why no train test split is done."
   ]
  },
  {
   "cell_type": "code",
   "execution_count": 39,
   "metadata": {},
   "outputs": [
    {
     "data": {
      "text/plain": [
       "(18953, 2)"
      ]
     },
     "execution_count": 39,
     "metadata": {},
     "output_type": "execute_result"
    }
   ],
   "source": [
    "df = pd.concat([jokes, tales])\n",
    "\n",
    "df = df[['subreddit', 'text']].copy()\n",
    "\n",
    "# reset index after combine\n",
    "df.reset_index(drop = True, inplace = True)\n",
    "\n",
    "df.shape"
   ]
  },
  {
   "cell_type": "code",
   "execution_count": 40,
   "metadata": {},
   "outputs": [
    {
     "data": {
      "text/plain": [
       "2    An old man walks into the barbershop for a shave and a haircut He asks the barber, \"do you think you can get all my whiskers off? My cheeks are so wrinkled from age\". \\n\\nThe barber gets a little wooden ball from a cup on the shelf and tells him to put it inside his cheek to spread out the skin. \\n\\nWhen he's finished, the old man tells the barber that was the cleanest shave he's had in years. But he wanted to know what would have happened if he had swallowed that little ball. \\n\\nThe barber replied, \"Just bring it back tomorrow like everyone else does\".\n",
       "3    I remember being a kid and my parents filling my head with nonsense like the Santa, Tooth fairy and Easter Bunny Well now that I'm older I don't fall for that rubbish anymore, thank God.                                                                                                                                                                                                                                                                                                                                                                                      \n",
       "Name: text, dtype: object"
      ]
     },
     "execution_count": 40,
     "metadata": {},
     "output_type": "execute_result"
    }
   ],
   "source": [
    "df['text'].iloc[2:4]"
   ]
  },
  {
   "cell_type": "code",
   "execution_count": 41,
   "metadata": {},
   "outputs": [],
   "source": [
    "# export the combined clean data for later modeling\n",
    "df.to_csv('../data/combined_for_npl.csv', index = False)"
   ]
  },
  {
   "cell_type": "code",
   "execution_count": 42,
   "metadata": {},
   "outputs": [],
   "source": [
    "# make the target result binary where jokes subreddit will be 1, talesfromretail will be 0\n",
    "df.subreddit = df.subreddit.map({'Jokes': 1,\n",
    "                                'TalesFromRetail': 0})"
   ]
  },
  {
   "cell_type": "markdown",
   "metadata": {},
   "source": [
    "#### Use CountVector without Stop Words"
   ]
  },
  {
   "cell_type": "markdown",
   "metadata": {},
   "source": [
    "CountVectorizer by default only vectorizes words with two letters or more, which means I will not be included as a vector target. In this project since posts from talesfromretail are usually personal stories that start with \"I work...\", I believe \"I\" need to be included. That's why I changed the token pattern to include all the one letter words too."
   ]
  },
  {
   "cell_type": "code",
   "execution_count": 43,
   "metadata": {},
   "outputs": [
    {
     "data": {
      "text/plain": [
       "(18953, 42192)"
      ]
     },
     "execution_count": 43,
     "metadata": {},
     "output_type": "execute_result"
    }
   ],
   "source": [
    "# instantiate # credit to my classmates Will, James, and Nadar helping me figure out the token pattern\n",
    "# also credit to https://stackoverflow.com/questions/33260505/countvectorizer-ignoring-i\n",
    "cvec = CountVectorizer(token_pattern = u\"(?u)\\\\b\\\\w+\\\\b\")\n",
    "\n",
    "# fit and transform\n",
    "X = cvec.fit_transform(df['text'])\n",
    "\n",
    "# create a new dataframe for all the vecotirzed words\n",
    "reddit = pd.DataFrame(X.toarray(), columns = cvec.get_feature_names())\n",
    "\n",
    "# check how many features I got\n",
    "reddit.shape"
   ]
  },
  {
   "cell_type": "markdown",
   "metadata": {},
   "source": [
    "As I didn't set any hyperparameters, I ended up having whopping 42192 columns! This is definitely going to slow down my processing so I will have to optimize this in my next preprocessing."
   ]
  },
  {
   "cell_type": "code",
   "execution_count": 44,
   "metadata": {},
   "outputs": [
    {
     "data": {
      "text/html": [
       "<div>\n",
       "<style scoped>\n",
       "    .dataframe tbody tr th:only-of-type {\n",
       "        vertical-align: middle;\n",
       "    }\n",
       "\n",
       "    .dataframe tbody tr th {\n",
       "        vertical-align: top;\n",
       "    }\n",
       "\n",
       "    .dataframe thead th {\n",
       "        text-align: right;\n",
       "    }\n",
       "</style>\n",
       "<table border=\"1\" class=\"dataframe\">\n",
       "  <thead>\n",
       "    <tr style=\"text-align: right;\">\n",
       "      <th></th>\n",
       "      <th>sub_target</th>\n",
       "      <th>0</th>\n",
       "      <th>00</th>\n",
       "      <th>000</th>\n",
       "      <th>000000</th>\n",
       "      <th>000000001</th>\n",
       "      <th>000002</th>\n",
       "      <th>00015000048303</th>\n",
       "      <th>000nok</th>\n",
       "      <th>000s</th>\n",
       "      <th>...</th>\n",
       "      <th>𝒔</th>\n",
       "      <th>𝒔𝒐𝒎𝒆𝒕𝒊𝒎𝒆𝒔</th>\n",
       "      <th>𝗪𝗵𝗮𝘁</th>\n",
       "      <th>𝗮</th>\n",
       "      <th>𝗵𝗮𝘃𝗲</th>\n",
       "      <th>𝗶𝘁</th>\n",
       "      <th>𝗹𝗶𝗸𝗲</th>\n",
       "      <th>𝗽𝗲𝗻𝗶𝘀</th>\n",
       "      <th>𝘀</th>\n",
       "      <th>𝘁𝗼</th>\n",
       "    </tr>\n",
       "  </thead>\n",
       "  <tbody>\n",
       "    <tr>\n",
       "      <th>0</th>\n",
       "      <td>1</td>\n",
       "      <td>0</td>\n",
       "      <td>0</td>\n",
       "      <td>0</td>\n",
       "      <td>0</td>\n",
       "      <td>0</td>\n",
       "      <td>0</td>\n",
       "      <td>0</td>\n",
       "      <td>0</td>\n",
       "      <td>0</td>\n",
       "      <td>...</td>\n",
       "      <td>0</td>\n",
       "      <td>0</td>\n",
       "      <td>0</td>\n",
       "      <td>0</td>\n",
       "      <td>0</td>\n",
       "      <td>0</td>\n",
       "      <td>0</td>\n",
       "      <td>0</td>\n",
       "      <td>0</td>\n",
       "      <td>0</td>\n",
       "    </tr>\n",
       "    <tr>\n",
       "      <th>1</th>\n",
       "      <td>1</td>\n",
       "      <td>0</td>\n",
       "      <td>0</td>\n",
       "      <td>0</td>\n",
       "      <td>0</td>\n",
       "      <td>0</td>\n",
       "      <td>0</td>\n",
       "      <td>0</td>\n",
       "      <td>0</td>\n",
       "      <td>0</td>\n",
       "      <td>...</td>\n",
       "      <td>0</td>\n",
       "      <td>0</td>\n",
       "      <td>0</td>\n",
       "      <td>0</td>\n",
       "      <td>0</td>\n",
       "      <td>0</td>\n",
       "      <td>0</td>\n",
       "      <td>0</td>\n",
       "      <td>0</td>\n",
       "      <td>0</td>\n",
       "    </tr>\n",
       "    <tr>\n",
       "      <th>2</th>\n",
       "      <td>1</td>\n",
       "      <td>0</td>\n",
       "      <td>0</td>\n",
       "      <td>0</td>\n",
       "      <td>0</td>\n",
       "      <td>0</td>\n",
       "      <td>0</td>\n",
       "      <td>0</td>\n",
       "      <td>0</td>\n",
       "      <td>0</td>\n",
       "      <td>...</td>\n",
       "      <td>0</td>\n",
       "      <td>0</td>\n",
       "      <td>0</td>\n",
       "      <td>0</td>\n",
       "      <td>0</td>\n",
       "      <td>0</td>\n",
       "      <td>0</td>\n",
       "      <td>0</td>\n",
       "      <td>0</td>\n",
       "      <td>0</td>\n",
       "    </tr>\n",
       "    <tr>\n",
       "      <th>3</th>\n",
       "      <td>1</td>\n",
       "      <td>0</td>\n",
       "      <td>0</td>\n",
       "      <td>0</td>\n",
       "      <td>0</td>\n",
       "      <td>0</td>\n",
       "      <td>0</td>\n",
       "      <td>0</td>\n",
       "      <td>0</td>\n",
       "      <td>0</td>\n",
       "      <td>...</td>\n",
       "      <td>0</td>\n",
       "      <td>0</td>\n",
       "      <td>0</td>\n",
       "      <td>0</td>\n",
       "      <td>0</td>\n",
       "      <td>0</td>\n",
       "      <td>0</td>\n",
       "      <td>0</td>\n",
       "      <td>0</td>\n",
       "      <td>0</td>\n",
       "    </tr>\n",
       "    <tr>\n",
       "      <th>4</th>\n",
       "      <td>1</td>\n",
       "      <td>0</td>\n",
       "      <td>0</td>\n",
       "      <td>0</td>\n",
       "      <td>0</td>\n",
       "      <td>0</td>\n",
       "      <td>0</td>\n",
       "      <td>0</td>\n",
       "      <td>0</td>\n",
       "      <td>0</td>\n",
       "      <td>...</td>\n",
       "      <td>0</td>\n",
       "      <td>0</td>\n",
       "      <td>0</td>\n",
       "      <td>0</td>\n",
       "      <td>0</td>\n",
       "      <td>0</td>\n",
       "      <td>0</td>\n",
       "      <td>0</td>\n",
       "      <td>0</td>\n",
       "      <td>0</td>\n",
       "    </tr>\n",
       "  </tbody>\n",
       "</table>\n",
       "<p>5 rows × 42193 columns</p>\n",
       "</div>"
      ],
      "text/plain": [
       "   sub_target  0  00  000  000000  000000001  000002  00015000048303  000nok  \\\n",
       "0  1           0  0   0    0       0          0       0               0        \n",
       "1  1           0  0   0    0       0          0       0               0        \n",
       "2  1           0  0   0    0       0          0       0               0        \n",
       "3  1           0  0   0    0       0          0       0               0        \n",
       "4  1           0  0   0    0       0          0       0               0        \n",
       "\n",
       "   000s  ...  𝒔  𝒔𝒐𝒎𝒆𝒕𝒊𝒎𝒆𝒔  𝗪𝗵𝗮𝘁  𝗮  𝗵𝗮𝘃𝗲  𝗶𝘁  𝗹𝗶𝗸𝗲  𝗽𝗲𝗻𝗶𝘀  𝘀  𝘁𝗼  \n",
       "0  0     ...  0  0          0     0  0     0   0     0      0  0   \n",
       "1  0     ...  0  0          0     0  0     0   0     0      0  0   \n",
       "2  0     ...  0  0          0     0  0     0   0     0      0  0   \n",
       "3  0     ...  0  0          0     0  0     0   0     0      0  0   \n",
       "4  0     ...  0  0          0     0  0     0   0     0      0  0   \n",
       "\n",
       "[5 rows x 42193 columns]"
      ]
     },
     "execution_count": 44,
     "metadata": {},
     "output_type": "execute_result"
    }
   ],
   "source": [
    "# reinsert the target back to the dataframe\n",
    "# credit to Hov's NLP EDA lecture\n",
    "reddit.insert(0, 'sub_target', df['subreddit'])\n",
    "reddit.head()"
   ]
  },
  {
   "cell_type": "code",
   "execution_count": 45,
   "metadata": {},
   "outputs": [],
   "source": [
    "# find the top 20 words for both subreddits\n",
    "\n",
    "jokes_top_word = reddit.groupby('sub_target').sum().T.sort_values(1, ascending=False).head(20)\n",
    "tales_top_word = reddit.groupby('sub_target').sum().T.sort_values(0, ascending=False).head(20)"
   ]
  },
  {
   "cell_type": "code",
   "execution_count": 46,
   "metadata": {},
   "outputs": [
    {
     "data": {
      "image/png": "[encoded data removed]",
      "text/plain": [
       "<Figure size 720x360 with 1 Axes>"
      ]
     },
     "metadata": {
      "needs_background": "light"
     },
     "output_type": "display_data"
    }
   ],
   "source": [
    "# visualize top 20 words in Jokes without using stop words\n",
    "\n",
    "plt.figure(figsize = (10, 5))\n",
    "sns.barplot(x = jokes_top_word[1], y = jokes_top_word.index, orient = 'h', palette = 'viridis')\n",
    "plt.title('top 20 words in Jokes without Stop Words', fontsize = 16)\n",
    "plt.xlabel('Jokes Subreddit')\n",
    "plt.tight_layout()\n",
    "plt.savefig('../charts/top_word_jokes_without_stop_words.png');"
   ]
  },
  {
   "cell_type": "code",
   "execution_count": 47,
   "metadata": {},
   "outputs": [
    {
     "data": {
      "image/png": "[encoded data removed]",
      "text/plain": [
       "<Figure size 720x360 with 1 Axes>"
      ]
     },
     "metadata": {
      "needs_background": "light"
     },
     "output_type": "display_data"
    }
   ],
   "source": [
    "# visualize top 20 words in TalesfromRetail without using stop words\n",
    "\n",
    "plt.figure(figsize = (10, 5))\n",
    "sns.barplot(x = tales_top_word[0], y = tales_top_word.index, orient = 'h', palette = 'viridis')\n",
    "plt.title('top 20 words in Tales From Retail without Stop Words', fontsize = 16)\n",
    "plt.xlabel('Tales from Retail Subreddit')\n",
    "plt.tight_layout()\n",
    "plt.savefig('../charts/top_word_tales_without_stop_words.png');"
   ]
  },
  {
   "cell_type": "markdown",
   "metadata": {},
   "source": [
    "From the above ranking , looks like the top words for both subreddits are mostly meaningless stop words. Therefore I would like to try using the stopwrods and see what changes it would make. In addition, as mentioned before the 42,000+ columns is taking way too long to process, so I would like to add min frequency and amx frequency to limit the feature numbers."
   ]
  },
  {
   "cell_type": "markdown",
   "metadata": {},
   "source": [
    "#### Use CountVector with Stop Words"
   ]
  },
  {
   "cell_type": "markdown",
   "metadata": {},
   "source": [
    "I created my own stop words list by utilizing the sklearn built in stop words. I mainly did this to avoid removing \"I\", as for both nltk and sklearn, \"I\" is considered as a stop word. I also added other sinlge letter words as stop words to decrease noise. I understand by doing this, \"I\" might become one of the most frequent word in the list but since I mainly want to factor in phrases like \"I work\", \"I worked\" in my modeling stage, I won't worry too much about this."
   ]
  },
  {
   "cell_type": "code",
   "execution_count": 48,
   "metadata": {},
   "outputs": [],
   "source": [
    "# create a set of stop words based on the built-in list, except excluding \"I\"\n",
    "stop = []\n",
    "for word in ENGLISH_STOP_WORDS:\n",
    "    if word != 'i':\n",
    "        stop.append(word)\n",
    "        \n",
    "        \n",
    "stop_words = set(stop).union('b', 'c', 'd', 'e', 'f', 'g', 'h', 'j', 'k', 'l', 'm', \n",
    "                              'n', 'o', 'p', 'q', 'r', 's', 't', 'u', 'v', 'w', 'x', \n",
    "                              'y', 'z', '_')"
   ]
  },
  {
   "cell_type": "code",
   "execution_count": 49,
   "metadata": {},
   "outputs": [
    {
     "data": {
      "text/html": [
       "<div>\n",
       "<style scoped>\n",
       "    .dataframe tbody tr th:only-of-type {\n",
       "        vertical-align: middle;\n",
       "    }\n",
       "\n",
       "    .dataframe tbody tr th {\n",
       "        vertical-align: top;\n",
       "    }\n",
       "\n",
       "    .dataframe thead th {\n",
       "        text-align: right;\n",
       "    }\n",
       "</style>\n",
       "<table border=\"1\" class=\"dataframe\">\n",
       "  <thead>\n",
       "    <tr style=\"text-align: right;\">\n",
       "      <th></th>\n",
       "      <th>sub_target</th>\n",
       "      <th>0</th>\n",
       "      <th>00</th>\n",
       "      <th>000</th>\n",
       "      <th>00am</th>\n",
       "      <th>00pm</th>\n",
       "      <th>01</th>\n",
       "      <th>01ii5y2cy2rl</th>\n",
       "      <th>02</th>\n",
       "      <th>02pm</th>\n",
       "      <th>...</th>\n",
       "      <th>zoomed</th>\n",
       "      <th>zooming</th>\n",
       "      <th>zooms</th>\n",
       "      <th>zoos</th>\n",
       "      <th>zuckerberg</th>\n",
       "      <th>zzub</th>\n",
       "      <th>ø</th>\n",
       "      <th>π</th>\n",
       "      <th>ಠ_ಠ</th>\n",
       "      <th>ツ</th>\n",
       "    </tr>\n",
       "  </thead>\n",
       "  <tbody>\n",
       "    <tr>\n",
       "      <th>0</th>\n",
       "      <td>1</td>\n",
       "      <td>0</td>\n",
       "      <td>0</td>\n",
       "      <td>0</td>\n",
       "      <td>0</td>\n",
       "      <td>0</td>\n",
       "      <td>0</td>\n",
       "      <td>0</td>\n",
       "      <td>0</td>\n",
       "      <td>0</td>\n",
       "      <td>...</td>\n",
       "      <td>0</td>\n",
       "      <td>0</td>\n",
       "      <td>0</td>\n",
       "      <td>0</td>\n",
       "      <td>0</td>\n",
       "      <td>0</td>\n",
       "      <td>0</td>\n",
       "      <td>0</td>\n",
       "      <td>0</td>\n",
       "      <td>0</td>\n",
       "    </tr>\n",
       "    <tr>\n",
       "      <th>1</th>\n",
       "      <td>1</td>\n",
       "      <td>0</td>\n",
       "      <td>0</td>\n",
       "      <td>0</td>\n",
       "      <td>0</td>\n",
       "      <td>0</td>\n",
       "      <td>0</td>\n",
       "      <td>0</td>\n",
       "      <td>0</td>\n",
       "      <td>0</td>\n",
       "      <td>...</td>\n",
       "      <td>0</td>\n",
       "      <td>0</td>\n",
       "      <td>0</td>\n",
       "      <td>0</td>\n",
       "      <td>0</td>\n",
       "      <td>0</td>\n",
       "      <td>0</td>\n",
       "      <td>0</td>\n",
       "      <td>0</td>\n",
       "      <td>0</td>\n",
       "    </tr>\n",
       "    <tr>\n",
       "      <th>2</th>\n",
       "      <td>1</td>\n",
       "      <td>0</td>\n",
       "      <td>0</td>\n",
       "      <td>0</td>\n",
       "      <td>0</td>\n",
       "      <td>0</td>\n",
       "      <td>0</td>\n",
       "      <td>0</td>\n",
       "      <td>0</td>\n",
       "      <td>0</td>\n",
       "      <td>...</td>\n",
       "      <td>0</td>\n",
       "      <td>0</td>\n",
       "      <td>0</td>\n",
       "      <td>0</td>\n",
       "      <td>0</td>\n",
       "      <td>0</td>\n",
       "      <td>0</td>\n",
       "      <td>0</td>\n",
       "      <td>0</td>\n",
       "      <td>0</td>\n",
       "    </tr>\n",
       "    <tr>\n",
       "      <th>3</th>\n",
       "      <td>1</td>\n",
       "      <td>0</td>\n",
       "      <td>0</td>\n",
       "      <td>0</td>\n",
       "      <td>0</td>\n",
       "      <td>0</td>\n",
       "      <td>0</td>\n",
       "      <td>0</td>\n",
       "      <td>0</td>\n",
       "      <td>0</td>\n",
       "      <td>...</td>\n",
       "      <td>0</td>\n",
       "      <td>0</td>\n",
       "      <td>0</td>\n",
       "      <td>0</td>\n",
       "      <td>0</td>\n",
       "      <td>0</td>\n",
       "      <td>0</td>\n",
       "      <td>0</td>\n",
       "      <td>0</td>\n",
       "      <td>0</td>\n",
       "    </tr>\n",
       "    <tr>\n",
       "      <th>4</th>\n",
       "      <td>1</td>\n",
       "      <td>0</td>\n",
       "      <td>0</td>\n",
       "      <td>0</td>\n",
       "      <td>0</td>\n",
       "      <td>0</td>\n",
       "      <td>0</td>\n",
       "      <td>0</td>\n",
       "      <td>0</td>\n",
       "      <td>0</td>\n",
       "      <td>...</td>\n",
       "      <td>0</td>\n",
       "      <td>0</td>\n",
       "      <td>0</td>\n",
       "      <td>0</td>\n",
       "      <td>0</td>\n",
       "      <td>0</td>\n",
       "      <td>0</td>\n",
       "      <td>0</td>\n",
       "      <td>0</td>\n",
       "      <td>0</td>\n",
       "    </tr>\n",
       "  </tbody>\n",
       "</table>\n",
       "<p>5 rows × 23656 columns</p>\n",
       "</div>"
      ],
      "text/plain": [
       "   sub_target  0  00  000  00am  00pm  01  01ii5y2cy2rl  02  02pm  ...  \\\n",
       "0  1           0  0   0    0     0     0   0             0   0     ...   \n",
       "1  1           0  0   0    0     0     0   0             0   0     ...   \n",
       "2  1           0  0   0    0     0     0   0             0   0     ...   \n",
       "3  1           0  0   0    0     0     0   0             0   0     ...   \n",
       "4  1           0  0   0    0     0     0   0             0   0     ...   \n",
       "\n",
       "   zoomed  zooming  zooms  zoos  zuckerberg  zzub  ø  π  ಠ_ಠ  ツ  \n",
       "0  0       0        0      0     0           0     0  0  0    0  \n",
       "1  0       0        0      0     0           0     0  0  0    0  \n",
       "2  0       0        0      0     0           0     0  0  0    0  \n",
       "3  0       0        0      0     0           0     0  0  0    0  \n",
       "4  0       0        0      0     0           0     0  0  0    0  \n",
       "\n",
       "[5 rows x 23656 columns]"
      ]
     },
     "execution_count": 49,
     "metadata": {},
     "output_type": "execute_result"
    }
   ],
   "source": [
    "# this time added stop words in hyperparameter\n",
    "\n",
    "\n",
    "cvec_stop = CountVectorizer(stop_words = stop_words,\n",
    "                           token_pattern = u'(?u)\\\\b\\\\w+\\\\b',\n",
    "                           min_df = 2,\n",
    "                           max_df = .98)\n",
    "\n",
    "X_stop = cvec_stop.fit_transform(df['text'])\n",
    "\n",
    "reddit_stop = pd.DataFrame(X_stop.toarray(), columns = cvec_stop.get_feature_names())\n",
    "\n",
    "reddit_stop.insert(0, 'sub_target', df['subreddit'])\n",
    "\n",
    "reddit_stop.head()"
   ]
  },
  {
   "cell_type": "markdown",
   "metadata": {},
   "source": [
    "23656 features, still a lot, but much better than 42,000+!"
   ]
  },
  {
   "cell_type": "code",
   "execution_count": 50,
   "metadata": {},
   "outputs": [],
   "source": [
    "jokes_top_word_stop = reddit_stop.groupby('sub_target').sum().T.sort_values(1, ascending=False).head(20)\n",
    "tales_top_word_stop = reddit_stop.groupby('sub_target').sum().T.sort_values(0, ascending=False).head(20)"
   ]
  },
  {
   "cell_type": "code",
   "execution_count": 51,
   "metadata": {},
   "outputs": [
    {
     "data": {
      "image/png": "[encoded data removed]",
      "text/plain": [
       "<Figure size 720x360 with 1 Axes>"
      ]
     },
     "metadata": {
      "needs_background": "light"
     },
     "output_type": "display_data"
    }
   ],
   "source": [
    "# visualize top 20 words in Jokes using stop words\n",
    "\n",
    "plt.figure(figsize = (10, 5))\n",
    "sns.barplot(x = jokes_top_word_stop[1], y = jokes_top_word_stop.index, orient = 'h', palette = 'viridis')\n",
    "plt.title('top 20 words in Jokes with Stop Words', fontsize = 16)\n",
    "plt.xlabel('Jokes Subreddit')\n",
    "plt.tight_layout()\n",
    "plt.savefig('../charts/top_word_jokes.png');"
   ]
  },
  {
   "cell_type": "code",
   "execution_count": 52,
   "metadata": {},
   "outputs": [
    {
     "data": {
      "image/png": "[encoded data removed]",
      "text/plain": [
       "<Figure size 720x360 with 1 Axes>"
      ]
     },
     "metadata": {
      "needs_background": "light"
     },
     "output_type": "display_data"
    }
   ],
   "source": [
    "# visualize top 20 words in TalesfromRetails using stop words\n",
    "\n",
    "plt.figure(figsize = (10, 5))\n",
    "sns.barplot(x = tales_top_word_stop[0], y = tales_top_word_stop.index, orient = 'h', palette = 'viridis')\n",
    "plt.title('top 20 words in Tales From Retail with Stop Words', fontsize = 16)\n",
    "plt.xlabel('Tales from Retail Subreddit')\n",
    "plt.tight_layout()\n",
    "plt.savefig('../charts/top_word_tales.png');"
   ]
  },
  {
   "cell_type": "markdown",
   "metadata": {},
   "source": [
    "The top words definitely look more meaningful than without the stop words. As expected \"I\" is the most frequent word for both subreddits. Also noticed that \"ask(s/ed)\", \"trump\", \"man\", and \"woman\" are among the top words in jokes, which makes a lot of sense as we already know that trump-related joke posts are among some of the most popular posts, and also jokes usually generalize characters as man and woman. On the other hand, \"store\", \"customer(s)\", \"manager\" are among the top words for tales which is also easy to explain as the subreddit group is revolved around tales happening in retail space."
   ]
  },
  {
   "cell_type": "markdown",
   "metadata": {},
   "source": [
    "### Sentiment Analysis"
   ]
  },
  {
   "cell_type": "markdown",
   "metadata": {},
   "source": [
    "As part of the preprocessing, I would also like to conduct some sentiment analysis to get the aptitude of each subreddit."
   ]
  },
  {
   "cell_type": "code",
   "execution_count": 65,
   "metadata": {},
   "outputs": [
    {
     "data": {
      "image/png": "[encoded data removed]",
      "text/plain": [
       "<Figure size 720x360 with 1 Axes>"
      ]
     },
     "metadata": {
      "needs_background": "light"
     },
     "output_type": "display_data"
    }
   ],
   "source": [
    "# import sentiment analysis library\n",
    "from nltk.sentiment.vader import SentimentIntensityAnalyzer\n",
    "\n",
    "# instantiate\n",
    "sentiment = SentimentIntensityAnalyzer()\n",
    "\n",
    "# only shows the compound score for each post\n",
    "df['sentiment'] = [sentiment.polarity_scores(x)['compound'] for x in df['text']]\n",
    "\n",
    "# convert the floats to three class: positive, neutral and negative\n",
    "def pos_or_neg(sent_score):\n",
    "    if sent_score > 0:\n",
    "        return 'positive'\n",
    "    elif sent_score == 0:\n",
    "        return 'neutral'\n",
    "    else:\n",
    "        return 'negative'\n",
    "\n",
    "# create a new column to map the function\n",
    "df['sentiment_cat'] = df['sentiment'].map(pos_or_neg)\n",
    "\n",
    "# plot the bar charts by sentiment scores anc compare between two subreddits\n",
    "df.groupby(['subreddit', 'sentiment_cat']).count()['text'].unstack().plot(kind = 'bar', \n",
    "                                                                          figsize = (10, 5),\n",
    "                                                                          cmap = 'viridis')\n",
    "plt.title('Sentiment Analysis by Subreddit', fontsize = 16)\n",
    "plt.savefig('../charts/sentiment_analysis.png');"
   ]
  },
  {
   "cell_type": "markdown",
   "metadata": {},
   "source": [
    "As indicated from the above bar chart, sentiment result from Tales subreddit are more emotionally polarized, with very few middle ground; however the Jokes are relatively evenly distributed. Both subreddits have the positive posts as the most sentiment, yet again the number of difference between positive and negatvie posts is greater in Tales from Retail than Jokes."
   ]
  },
  {
   "cell_type": "markdown",
   "metadata": {},
   "source": [
    "With the above EDA & preprocessing, I believe I had a relative good idea of the dataset and I'm comfortable to proceed to the next stage -- modeling."
   ]
  }
 ],
 "metadata": {
  "kernelspec": {
   "display_name": "Python 3",
   "language": "python",
   "name": "python3"
  },
  "language_info": {
   "codemirror_mode": {
    "name": "ipython",
    "version": 3
   },
   "file_extension": ".py",
   "mimetype": "text/x-python",
   "name": "python",
   "nbconvert_exporter": "python",
   "pygments_lexer": "ipython3",
   "version": "3.7.6"
  }
 },
 "nbformat": 4,
 "nbformat_minor": 4
}
