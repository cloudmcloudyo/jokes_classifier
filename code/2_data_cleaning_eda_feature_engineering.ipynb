{
 "cells": [
  {
   "cell_type": "markdown",
   "metadata": {},
   "source": [
    "<img src=\"http://imgur.com/1ZcRyrc.png\" style=\"float: left; margin: 20px; height: 55px\">\n",
    "\n",
    "# Project 3: Reddit NPL Classfication Challenge\n",
    "Notebook 2: Data Cleaning, EDA & Feature Engineering\n",
    "\n",
    "This notebook contains "
   ]
  },
  {
   "cell_type": "code",
   "execution_count": 1,
   "metadata": {},
   "outputs": [],
   "source": [
    "import pandas as pd\n",
    "import numpy as np\n",
    "import matplotlib.pyplot as plt\n",
    "import seaborn as sns"
   ]
  },
  {
   "cell_type": "code",
   "execution_count": 2,
   "metadata": {},
   "outputs": [
    {
     "data": {
      "text/html": [
       "<div>\n",
       "<style scoped>\n",
       "    .dataframe tbody tr th:only-of-type {\n",
       "        vertical-align: middle;\n",
       "    }\n",
       "\n",
       "    .dataframe tbody tr th {\n",
       "        vertical-align: top;\n",
       "    }\n",
       "\n",
       "    .dataframe thead th {\n",
       "        text-align: right;\n",
       "    }\n",
       "</style>\n",
       "<table border=\"1\" class=\"dataframe\">\n",
       "  <thead>\n",
       "    <tr style=\"text-align: right;\">\n",
       "      <th></th>\n",
       "      <th>author</th>\n",
       "      <th>title</th>\n",
       "      <th>selftext</th>\n",
       "      <th>score</th>\n",
       "      <th>num_comments</th>\n",
       "      <th>upvote_ratio</th>\n",
       "      <th>created_utc</th>\n",
       "      <th>subreddit</th>\n",
       "    </tr>\n",
       "  </thead>\n",
       "  <tbody>\n",
       "    <tr>\n",
       "      <th>0</th>\n",
       "      <td>NormalDeviance</td>\n",
       "      <td>Fitting rooms are disgusting</td>\n",
       "      <td>This isn’t so much of a single story, but more...</td>\n",
       "      <td>1</td>\n",
       "      <td>7</td>\n",
       "      <td>1.0</td>\n",
       "      <td>1602294153</td>\n",
       "      <td>TalesFromRetail</td>\n",
       "    </tr>\n",
       "    <tr>\n",
       "      <th>1</th>\n",
       "      <td>NormalDeviance</td>\n",
       "      <td>Trying to return year-old worn shoes</td>\n",
       "      <td>Worked at a major department store at the retu...</td>\n",
       "      <td>1</td>\n",
       "      <td>12</td>\n",
       "      <td>1.0</td>\n",
       "      <td>1602288304</td>\n",
       "      <td>TalesFromRetail</td>\n",
       "    </tr>\n",
       "    <tr>\n",
       "      <th>2</th>\n",
       "      <td>MaryCranberry</td>\n",
       "      <td>A cashier witnesses true love</td>\n",
       "      <td>I’m a cashier at a store at a ski resort. We h...</td>\n",
       "      <td>1</td>\n",
       "      <td>60</td>\n",
       "      <td>1.0</td>\n",
       "      <td>1602285068</td>\n",
       "      <td>TalesFromRetail</td>\n",
       "    </tr>\n",
       "    <tr>\n",
       "      <th>3</th>\n",
       "      <td>tempthethrowaway</td>\n",
       "      <td>Follow My Brownies</td>\n",
       "      <td>This is my wife's story from today, posted wit...</td>\n",
       "      <td>1</td>\n",
       "      <td>23</td>\n",
       "      <td>1.0</td>\n",
       "      <td>1602283980</td>\n",
       "      <td>TalesFromRetail</td>\n",
       "    </tr>\n",
       "    <tr>\n",
       "      <th>4</th>\n",
       "      <td>[deleted]</td>\n",
       "      <td>Customer is totally friends with a manager fro...</td>\n",
       "      <td>NaN</td>\n",
       "      <td>1</td>\n",
       "      <td>0</td>\n",
       "      <td>1.0</td>\n",
       "      <td>1602268197</td>\n",
       "      <td>TalesFromRetail</td>\n",
       "    </tr>\n",
       "  </tbody>\n",
       "</table>\n",
       "</div>"
      ],
      "text/plain": [
       "             author                                              title  \\\n",
       "0    NormalDeviance                       Fitting rooms are disgusting   \n",
       "1    NormalDeviance               Trying to return year-old worn shoes   \n",
       "2     MaryCranberry                      A cashier witnesses true love   \n",
       "3  tempthethrowaway                                 Follow My Brownies   \n",
       "4         [deleted]  Customer is totally friends with a manager fro...   \n",
       "\n",
       "                                            selftext  score  num_comments  \\\n",
       "0  This isn’t so much of a single story, but more...      1             7   \n",
       "1  Worked at a major department store at the retu...      1            12   \n",
       "2  I’m a cashier at a store at a ski resort. We h...      1            60   \n",
       "3  This is my wife's story from today, posted wit...      1            23   \n",
       "4                                                NaN      1             0   \n",
       "\n",
       "   upvote_ratio  created_utc        subreddit  \n",
       "0           1.0   1602294153  TalesFromRetail  \n",
       "1           1.0   1602288304  TalesFromRetail  \n",
       "2           1.0   1602285068  TalesFromRetail  \n",
       "3           1.0   1602283980  TalesFromRetail  \n",
       "4           1.0   1602268197  TalesFromRetail  "
      ]
     },
     "execution_count": 2,
     "metadata": {},
     "output_type": "execute_result"
    }
   ],
   "source": [
    "#jokes = pd.read_csv('../data/jokes.csv')\n",
    "#jokes.head()\n",
    "tales = pd.read_csv('../data/talesfromretail.csv')\n",
    "tales.head()"
   ]
  },
  {
   "cell_type": "code",
   "execution_count": 3,
   "metadata": {},
   "outputs": [
    {
     "name": "stdout",
     "output_type": "stream",
     "text": [
      "Jokes shape (9526, 8)\n",
      "Tales shape (9434, 8)\n"
     ]
    }
   ],
   "source": [
    "print(f'Jokes shape {jokes.shape}')\n",
    "print(f'Tales shape {tales.shape}')"
   ]
  },
  {
   "cell_type": "markdown",
   "metadata": {},
   "source": [
    "### Check Null"
   ]
  },
  {
   "cell_type": "code",
   "execution_count": 4,
   "metadata": {},
   "outputs": [
    {
     "data": {
      "text/plain": [
       "author             0\n",
       "title              0\n",
       "selftext           2\n",
       "score              0\n",
       "num_comments       0\n",
       "upvote_ratio    8573\n",
       "created_utc        0\n",
       "subreddit          0\n",
       "dtype: int64"
      ]
     },
     "execution_count": 4,
     "metadata": {},
     "output_type": "execute_result"
    }
   ],
   "source": [
    "#jokes.isnull().sum()\n",
    "tales.isnull().sum()"
   ]
  },
  {
   "cell_type": "code",
   "execution_count": 5,
   "metadata": {},
   "outputs": [],
   "source": [
    "#tales.drop(columns = 'upvote_ratio', inplace = True)\n",
    "jokes.drop(columns = 'upvote_ratio', inplace = True)"
   ]
  },
  {
   "cell_type": "code",
   "execution_count": 6,
   "metadata": {},
   "outputs": [
    {
     "data": {
      "text/html": [
       "<div>\n",
       "<style scoped>\n",
       "    .dataframe tbody tr th:only-of-type {\n",
       "        vertical-align: middle;\n",
       "    }\n",
       "\n",
       "    .dataframe tbody tr th {\n",
       "        vertical-align: top;\n",
       "    }\n",
       "\n",
       "    .dataframe thead th {\n",
       "        text-align: right;\n",
       "    }\n",
       "</style>\n",
       "<table border=\"1\" class=\"dataframe\">\n",
       "  <thead>\n",
       "    <tr style=\"text-align: right;\">\n",
       "      <th></th>\n",
       "      <th>author</th>\n",
       "      <th>title</th>\n",
       "      <th>selftext</th>\n",
       "      <th>score</th>\n",
       "      <th>num_comments</th>\n",
       "      <th>created_utc</th>\n",
       "      <th>subreddit</th>\n",
       "    </tr>\n",
       "  </thead>\n",
       "  <tbody>\n",
       "    <tr>\n",
       "      <th>4</th>\n",
       "      <td>[deleted]</td>\n",
       "      <td>Customer is totally friends with a manager fro...</td>\n",
       "      <td>NaN</td>\n",
       "      <td>1</td>\n",
       "      <td>0</td>\n",
       "      <td>1602268197</td>\n",
       "      <td>TalesFromRetail</td>\n",
       "    </tr>\n",
       "    <tr>\n",
       "      <th>180</th>\n",
       "      <td>PlasmaCarrot79</td>\n",
       "      <td>Super Soaker</td>\n",
       "      <td>NaN</td>\n",
       "      <td>1</td>\n",
       "      <td>0</td>\n",
       "      <td>1598471414</td>\n",
       "      <td>TalesFromRetail</td>\n",
       "    </tr>\n",
       "  </tbody>\n",
       "</table>\n",
       "</div>"
      ],
      "text/plain": [
       "             author                                              title  \\\n",
       "4         [deleted]  Customer is totally friends with a manager fro...   \n",
       "180  PlasmaCarrot79                                       Super Soaker   \n",
       "\n",
       "    selftext  score  num_comments  created_utc        subreddit  \n",
       "4        NaN      1             0   1602268197  TalesFromRetail  \n",
       "180      NaN      1             0   1598471414  TalesFromRetail  "
      ]
     },
     "execution_count": 6,
     "metadata": {},
     "output_type": "execute_result"
    }
   ],
   "source": [
    "#jokes[jokes['selftext'].isnull()]\n",
    "tales[tales['selftext'].isnull()]"
   ]
  },
  {
   "cell_type": "code",
   "execution_count": 7,
   "metadata": {},
   "outputs": [],
   "source": [
    "#jokes.drop([440, 1598, 8557], inplace = True)\n",
    "tales.drop([4, 180], inplace =True)"
   ]
  },
  {
   "cell_type": "code",
   "execution_count": 8,
   "metadata": {},
   "outputs": [
    {
     "data": {
      "text/html": [
       "<div>\n",
       "<style scoped>\n",
       "    .dataframe tbody tr th:only-of-type {\n",
       "        vertical-align: middle;\n",
       "    }\n",
       "\n",
       "    .dataframe tbody tr th {\n",
       "        vertical-align: top;\n",
       "    }\n",
       "\n",
       "    .dataframe thead th {\n",
       "        text-align: right;\n",
       "    }\n",
       "</style>\n",
       "<table border=\"1\" class=\"dataframe\">\n",
       "  <thead>\n",
       "    <tr style=\"text-align: right;\">\n",
       "      <th></th>\n",
       "      <th>author</th>\n",
       "      <th>title</th>\n",
       "      <th>selftext</th>\n",
       "      <th>score</th>\n",
       "      <th>num_comments</th>\n",
       "      <th>created_utc</th>\n",
       "      <th>subreddit</th>\n",
       "    </tr>\n",
       "  </thead>\n",
       "  <tbody>\n",
       "    <tr>\n",
       "      <th>218</th>\n",
       "      <td>[deleted]</td>\n",
       "      <td>Changing room horror story</td>\n",
       "      <td>[deleted]</td>\n",
       "      <td>1</td>\n",
       "      <td>0</td>\n",
       "      <td>1597791303</td>\n",
       "      <td>TalesFromRetail</td>\n",
       "    </tr>\n",
       "  </tbody>\n",
       "</table>\n",
       "</div>"
      ],
      "text/plain": [
       "        author                       title   selftext  score  num_comments  \\\n",
       "218  [deleted]  Changing room horror story  [deleted]      1             0   \n",
       "\n",
       "     created_utc        subreddit  \n",
       "218   1597791303  TalesFromRetail  "
      ]
     },
     "execution_count": 8,
     "metadata": {},
     "output_type": "execute_result"
    }
   ],
   "source": [
    "#jokes[jokes.author == '[deleted]']\n",
    "tales[tales.author == '[deleted]']"
   ]
  },
  {
   "cell_type": "code",
   "execution_count": 9,
   "metadata": {},
   "outputs": [],
   "source": [
    "#jokes.drop(33, inplace = True)\n",
    "tales.drop(218, inplace = True)"
   ]
  },
  {
   "cell_type": "code",
   "execution_count": 10,
   "metadata": {},
   "outputs": [
    {
     "data": {
      "text/html": [
       "<div>\n",
       "<style scoped>\n",
       "    .dataframe tbody tr th:only-of-type {\n",
       "        vertical-align: middle;\n",
       "    }\n",
       "\n",
       "    .dataframe tbody tr th {\n",
       "        vertical-align: top;\n",
       "    }\n",
       "\n",
       "    .dataframe thead th {\n",
       "        text-align: right;\n",
       "    }\n",
       "</style>\n",
       "<table border=\"1\" class=\"dataframe\">\n",
       "  <thead>\n",
       "    <tr style=\"text-align: right;\">\n",
       "      <th></th>\n",
       "      <th>author</th>\n",
       "      <th>title</th>\n",
       "      <th>selftext</th>\n",
       "      <th>score</th>\n",
       "      <th>num_comments</th>\n",
       "      <th>created_utc</th>\n",
       "      <th>subreddit</th>\n",
       "    </tr>\n",
       "  </thead>\n",
       "  <tbody>\n",
       "  </tbody>\n",
       "</table>\n",
       "</div>"
      ],
      "text/plain": [
       "Empty DataFrame\n",
       "Columns: [author, title, selftext, score, num_comments, created_utc, subreddit]\n",
       "Index: []"
      ]
     },
     "execution_count": 10,
     "metadata": {},
     "output_type": "execute_result"
    }
   ],
   "source": [
    "#jokes[jokes.selftext == '[deleted]']\n",
    "tales[tales.selftext == '[deleted]']"
   ]
  },
  {
   "cell_type": "code",
   "execution_count": 11,
   "metadata": {},
   "outputs": [
    {
     "name": "stdout",
     "output_type": "stream",
     "text": [
      "Jokes shape (9522, 7)\n",
      "Tales shape (9431, 7)\n"
     ]
    }
   ],
   "source": [
    "print(f'Jokes shape {jokes.shape}')\n",
    "print(f'Tales shape {tales.shape}')"
   ]
  },
  {
   "cell_type": "code",
   "execution_count": 12,
   "metadata": {},
   "outputs": [
    {
     "data": {
      "text/plain": [
       "author          object\n",
       "title           object\n",
       "selftext        object\n",
       "score            int64\n",
       "num_comments     int64\n",
       "created_utc      int64\n",
       "subreddit       object\n",
       "dtype: object"
      ]
     },
     "execution_count": 12,
     "metadata": {},
     "output_type": "execute_result"
    }
   ],
   "source": [
    "#jokes.dtypes\n",
    "tales.dtypes"
   ]
  },
  {
   "cell_type": "markdown",
   "metadata": {},
   "source": [
    "### EDA"
   ]
  },
  {
   "cell_type": "markdown",
   "metadata": {},
   "source": [
    "#### Jokes Subreddit"
   ]
  },
  {
   "cell_type": "code",
   "execution_count": 14,
   "metadata": {},
   "outputs": [
    {
     "data": {
      "text/plain": [
       "count    9526.000000\n",
       "mean        1.134789\n",
       "std         1.439194\n",
       "min         0.000000\n",
       "25%         1.000000\n",
       "50%         1.000000\n",
       "75%         1.000000\n",
       "max       104.000000\n",
       "Name: score, dtype: float64"
      ]
     },
     "execution_count": 14,
     "metadata": {},
     "output_type": "execute_result"
    }
   ],
   "source": [
    "jokes.score.describe()"
   ]
  },
  {
   "cell_type": "code",
   "execution_count": 15,
   "metadata": {},
   "outputs": [
    {
     "data": {
      "text/plain": [
       "count    9526.000000\n",
       "mean        6.390510\n",
       "std        47.719512\n",
       "min         0.000000\n",
       "25%         0.000000\n",
       "50%         1.000000\n",
       "75%         3.000000\n",
       "max      1821.000000\n",
       "Name: num_comments, dtype: float64"
      ]
     },
     "execution_count": 15,
     "metadata": {},
     "output_type": "execute_result"
    }
   ],
   "source": [
    "jokes.num_comments.describe()"
   ]
  },
  {
   "cell_type": "code",
   "execution_count": 16,
   "metadata": {},
   "outputs": [
    {
     "data": {
      "image/png": "[encoded data removed]",
      "text/plain": [
       "<Figure size 432x288 with 1 Axes>"
      ]
     },
     "metadata": {
      "needs_background": "light"
     },
     "output_type": "display_data"
    }
   ],
   "source": [
    "jokes.num_comments.value_counts()[:20].plot.bar();"
   ]
  },
  {
   "cell_type": "code",
   "execution_count": 17,
   "metadata": {},
   "outputs": [
    {
     "data": {
      "text/plain": [
       "3692    1821\n",
       "7253    1738\n",
       "3206    1195\n",
       "861     1099\n",
       "8372    1055\n",
       "4440     932\n",
       "1284     804\n",
       "3470     715\n",
       "579      680\n",
       "1636     663\n",
       "Name: num_comments, dtype: int64"
      ]
     },
     "execution_count": 17,
     "metadata": {},
     "output_type": "execute_result"
    }
   ],
   "source": [
    "jokes.num_comments.sort_values(ascending = False).head(10)"
   ]
  },
  {
   "cell_type": "code",
   "execution_count": 18,
   "metadata": {},
   "outputs": [],
   "source": [
    "pd.set_option('display.max_colwidth', 0)"
   ]
  },
  {
   "cell_type": "code",
   "execution_count": 19,
   "metadata": {},
   "outputs": [
    {
     "data": {
      "text/html": [
       "<div>\n",
       "<style scoped>\n",
       "    .dataframe tbody tr th:only-of-type {\n",
       "        vertical-align: middle;\n",
       "    }\n",
       "\n",
       "    .dataframe tbody tr th {\n",
       "        vertical-align: top;\n",
       "    }\n",
       "\n",
       "    .dataframe thead th {\n",
       "        text-align: right;\n",
       "    }\n",
       "</style>\n",
       "<table border=\"1\" class=\"dataframe\">\n",
       "  <thead>\n",
       "    <tr style=\"text-align: right;\">\n",
       "      <th></th>\n",
       "      <th>author</th>\n",
       "      <th>title</th>\n",
       "      <th>selftext</th>\n",
       "      <th>score</th>\n",
       "      <th>num_comments</th>\n",
       "      <th>created_utc</th>\n",
       "      <th>subreddit</th>\n",
       "    </tr>\n",
       "  </thead>\n",
       "  <tbody>\n",
       "    <tr>\n",
       "      <th>861</th>\n",
       "      <td>MaxQ50</td>\n",
       "      <td>Smartest president</td>\n",
       "      <td>An airplane was about to crash. There were 4 passengers on board, but only 3 parachutes.\\n\\nThe 1st passenger said, 'I am LeBron James, the best NBA basketball player. The Lakers and my millions of fans need me, and I can't afford to die.' So he took the 1st pack and left the plane.\\n\\nThe 2nd passenger, Donald Trump, said, 'I am the  US President, and I am the smartest President in American history, so my people don't want me to die.' He took the 2nd pack and jumped out of the plane.\\n\\nThe 3rd passenger, the Pope, said to the 4th passenger, a 10-year-old schoolboy, 'My son, I am old and don't have many years left, you have more years ahead so I will sacrifice my life and let you have the last parachute.'\\n\\nThe little boy said, 'That's okay, Your Holiness, there's a parachute left for you. America 's smartest President took my schoolbag...</td>\n",
       "      <td>1</td>\n",
       "      <td>1099</td>\n",
       "      <td>1602155844</td>\n",
       "      <td>Jokes</td>\n",
       "    </tr>\n",
       "    <tr>\n",
       "      <th>3206</th>\n",
       "      <td>Firetrock</td>\n",
       "      <td>Trump might finally get what he wants the most</td>\n",
       "      <td>He might get to be president for the rest of his life.</td>\n",
       "      <td>1</td>\n",
       "      <td>1195</td>\n",
       "      <td>1601685975</td>\n",
       "      <td>Jokes</td>\n",
       "    </tr>\n",
       "    <tr>\n",
       "      <th>3692</th>\n",
       "      <td>IAmGoingToBeSerious</td>\n",
       "      <td>Trump tests positive for COVID-19.</td>\n",
       "      <td>He finally passed a test without cheating, good for him.</td>\n",
       "      <td>1</td>\n",
       "      <td>1821</td>\n",
       "      <td>1601616756</td>\n",
       "      <td>Jokes</td>\n",
       "    </tr>\n",
       "    <tr>\n",
       "      <th>7253</th>\n",
       "      <td>cyclopropagative</td>\n",
       "      <td>I’m American, and I’m sick of people saying America is “the stupidest country in the world.”</td>\n",
       "      <td>Personally, I think Europe is the stupidest country in the world.</td>\n",
       "      <td>1</td>\n",
       "      <td>1738</td>\n",
       "      <td>1600861225</td>\n",
       "      <td>Jokes</td>\n",
       "    </tr>\n",
       "    <tr>\n",
       "      <th>8372</th>\n",
       "      <td>IdeaCafe</td>\n",
       "      <td>CAN ADMINS OF THIS SUBREDDIT REDDIT DO A BETTER JOB OF MONITORING WHO IS ALLOWED IN HERE PLEASE?!</td>\n",
       "      <td>WE HAVE A NEW MEMBER, A WOMAN. SHE’S BEEN PRIVATELY MESSAGING MEMBERS, SENDING THEM NAKED PICTURES OF HERSELF IN NASTY POSES ALONG WITH CLOSE UPS OF HER UNMENTIONABLES. SHE IS OFFERING AN IPHONE 8+ IN EXCHANGE FOR SEXUAL FAVORS. I AM ESPECIALLY BOTHERED BECAUSE IT TURNED OUT TO BE AN IPHONE 6 AND OBVIOUSLY SOMETHING'S WRONG WITH IT. IT'S SUPER SLOW AND THE CAPS LOCK IS STUCK ON.</td>\n",
       "      <td>1</td>\n",
       "      <td>1055</td>\n",
       "      <td>1600620087</td>\n",
       "      <td>Jokes</td>\n",
       "    </tr>\n",
       "  </tbody>\n",
       "</table>\n",
       "</div>"
      ],
      "text/plain": [
       "                   author  \\\n",
       "861   MaxQ50                \n",
       "3206  Firetrock             \n",
       "3692  IAmGoingToBeSerious   \n",
       "7253  cyclopropagative      \n",
       "8372  IdeaCafe              \n",
       "\n",
       "                                                                                                  title  \\\n",
       "861   Smartest president                                                                                  \n",
       "3206  Trump might finally get what he wants the most                                                      \n",
       "3692  Trump tests positive for COVID-19.                                                                  \n",
       "7253  I’m American, and I’m sick of people saying America is “the stupidest country in the world.”        \n",
       "8372  CAN ADMINS OF THIS SUBREDDIT REDDIT DO A BETTER JOB OF MONITORING WHO IS ALLOWED IN HERE PLEASE?!   \n",
       "\n",
       "                                                                                                                                                                                                                                                                                                                                                                                                                                                                                                                                                                                                                                                                                                                                                                                                                                                                                   selftext  \\\n",
       "861   An airplane was about to crash. There were 4 passengers on board, but only 3 parachutes.\\n\\nThe 1st passenger said, 'I am LeBron James, the best NBA basketball player. The Lakers and my millions of fans need me, and I can't afford to die.' So he took the 1st pack and left the plane.\\n\\nThe 2nd passenger, Donald Trump, said, 'I am the  US President, and I am the smartest President in American history, so my people don't want me to die.' He took the 2nd pack and jumped out of the plane.\\n\\nThe 3rd passenger, the Pope, said to the 4th passenger, a 10-year-old schoolboy, 'My son, I am old and don't have many years left, you have more years ahead so I will sacrifice my life and let you have the last parachute.'\\n\\nThe little boy said, 'That's okay, Your Holiness, there's a parachute left for you. America 's smartest President took my schoolbag...   \n",
       "3206  He might get to be president for the rest of his life.                                                                                                                                                                                                                                                                                                                                                                                                                                                                                                                                                                                                                                                                                                                                                                                                                                  \n",
       "3692  He finally passed a test without cheating, good for him.                                                                                                                                                                                                                                                                                                                                                                                                                                                                                                                                                                                                                                                                                                                                                                                                                                \n",
       "7253  Personally, I think Europe is the stupidest country in the world.                                                                                                                                                                                                                                                                                                                                                                                                                                                                                                                                                                                                                                                                                                                                                                                                                       \n",
       "8372  WE HAVE A NEW MEMBER, A WOMAN. SHE’S BEEN PRIVATELY MESSAGING MEMBERS, SENDING THEM NAKED PICTURES OF HERSELF IN NASTY POSES ALONG WITH CLOSE UPS OF HER UNMENTIONABLES. SHE IS OFFERING AN IPHONE 8+ IN EXCHANGE FOR SEXUAL FAVORS. I AM ESPECIALLY BOTHERED BECAUSE IT TURNED OUT TO BE AN IPHONE 6 AND OBVIOUSLY SOMETHING'S WRONG WITH IT. IT'S SUPER SLOW AND THE CAPS LOCK IS STUCK ON.                                                                                                                                                                                                                                                                                                                                                                                                                                                                                           \n",
       "\n",
       "      score  num_comments  created_utc subreddit  \n",
       "861   1      1099          1602155844   Jokes     \n",
       "3206  1      1195          1601685975   Jokes     \n",
       "3692  1      1821          1601616756   Jokes     \n",
       "7253  1      1738          1600861225   Jokes     \n",
       "8372  1      1055          1600620087   Jokes     "
      ]
     },
     "execution_count": 19,
     "metadata": {},
     "output_type": "execute_result"
    }
   ],
   "source": [
    "jokes[(jokes.num_comments == 1821) | (jokes.num_comments == 1738) | (jokes.num_comments == 1195) \n",
    "      | (jokes.num_comments == 1099) | (jokes.num_comments == 1055)]"
   ]
  },
  {
   "cell_type": "markdown",
   "metadata": {},
   "source": [
    "#### TalesFromRetail Subreddit"
   ]
  },
  {
   "cell_type": "code",
   "execution_count": null,
   "metadata": {},
   "outputs": [],
   "source": []
  },
  {
   "cell_type": "code",
   "execution_count": null,
   "metadata": {},
   "outputs": [],
   "source": []
  },
  {
   "cell_type": "code",
   "execution_count": null,
   "metadata": {},
   "outputs": [],
   "source": []
  },
  {
   "cell_type": "code",
   "execution_count": null,
   "metadata": {},
   "outputs": [],
   "source": []
  },
  {
   "cell_type": "markdown",
   "metadata": {},
   "source": [
    "### Feature Engineering"
   ]
  },
  {
   "cell_type": "code",
   "execution_count": null,
   "metadata": {},
   "outputs": [],
   "source": []
  }
 ],
 "metadata": {
  "kernelspec": {
   "display_name": "Python 3",
   "language": "python",
   "name": "python3"
  },
  "language_info": {
   "codemirror_mode": {
    "name": "ipython",
    "version": 3
   },
   "file_extension": ".py",
   "mimetype": "text/x-python",
   "name": "python",
   "nbconvert_exporter": "python",
   "pygments_lexer": "ipython3",
   "version": "3.7.6"
  }
 },
 "nbformat": 4,
 "nbformat_minor": 4
}
