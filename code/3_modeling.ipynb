{
 "cells": [
  {
   "cell_type": "markdown",
   "metadata": {},
   "source": [
    "<img src=\"http://imgur.com/1ZcRyrc.png\" style=\"float: left; margin: 20px; height: 55px\">\n",
    "\n",
    "# Project 3: Reddit NPL Classfication Challenge\n",
    "Notebook 3: Modeling\n",
    "\n",
    "This notebook contains all the modeling for this project. Excluding the baseline model, I ran 7 models in total pipelined with either CountVectorizer or TfidfVectorizer and used GridSearch to find the optimal parameters. For each model, I would explain the reason why I chose to use them, and the rationale behind how I optimize them.\n",
    "\n",
    "- [Baseline Model](#Baseline-Model)\n",
    "- [Model 1 - Logistic Regression with CountVectorizer](#Model-1---Logistic-Regression-with-CountVectorizer)\n",
    "- [Model 2 - Logistic Regression with TfidfVectorizer](#Model-2---Logtistic-Regression-with-TfidfVectorizer)\n",
    "- [Model 3 - K-Nearest Neighbors with TfidfVectorizer](#Model-3---K-Nearest-Neighbors-with-TfidfVectorizer)\n",
    "- [Model 4 - Naive Bayes with CountVectorizer](#Model-4---Naive-Bayes-with-CountVectorizer)\n",
    "- [Model 5 - Naive Bayes with TfidfVectorizer](#Model-5---Naive-Bayes-with-TfidfVectorizer)\n",
    "- [Model 6 - Random Forest with TfidfVectorizer](#Model-6---Random-Forest-with-TfidfVectorizer)\n",
    "- [Model 7 - Extra Trees with TfidfVectorizer](#Model-7---Extra-Trees-with-TfidfVectorizer)\n"
   ]
  },
  {
   "cell_type": "code",
   "execution_count": 2,
   "metadata": {},
   "outputs": [],
   "source": [
    "import pandas as pd\n",
    "import numpy as np\n",
    "import matplotlib.pyplot as plt\n",
    "import seaborn as sns\n",
    "\n",
    "from sklearn.pipeline import Pipeline\n",
    "from sklearn.feature_extraction.text import CountVectorizer, TfidfVectorizer, ENGLISH_STOP_WORDS\n",
    "from sklearn.model_selection import train_test_split, GridSearchCV, cross_val_score\n",
    "from sklearn.linear_model import LogisticRegression\n",
    "from sklearn.neighbors import KNeighborsClassifier\n",
    "from sklearn.naive_bayes import MultinomialNB\n",
    "from sklearn.metrics import confusion_matrix, plot_confusion_matrix, plot_roc_curve, roc_auc_score\n",
    "from sklearn.ensemble import RandomForestClassifier, ExtraTreesClassifier"
   ]
  },
  {
   "cell_type": "code",
   "execution_count": 3,
   "metadata": {},
   "outputs": [],
   "source": [
    "df = pd.read_csv('../data/combined_for_npl.csv')"
   ]
  },
  {
   "cell_type": "code",
   "execution_count": 4,
   "metadata": {},
   "outputs": [
    {
     "data": {
      "text/html": [
       "<div>\n",
       "<style scoped>\n",
       "    .dataframe tbody tr th:only-of-type {\n",
       "        vertical-align: middle;\n",
       "    }\n",
       "\n",
       "    .dataframe tbody tr th {\n",
       "        vertical-align: top;\n",
       "    }\n",
       "\n",
       "    .dataframe thead th {\n",
       "        text-align: right;\n",
       "    }\n",
       "</style>\n",
       "<table border=\"1\" class=\"dataframe\">\n",
       "  <thead>\n",
       "    <tr style=\"text-align: right;\">\n",
       "      <th></th>\n",
       "      <th>subreddit</th>\n",
       "      <th>text</th>\n",
       "    </tr>\n",
       "  </thead>\n",
       "  <tbody>\n",
       "    <tr>\n",
       "      <th>0</th>\n",
       "      <td>Jokes</td>\n",
       "      <td>A woman visited a doctor „Kiss me!“ She said.\\...</td>\n",
       "    </tr>\n",
       "    <tr>\n",
       "      <th>1</th>\n",
       "      <td>Jokes</td>\n",
       "      <td>Spider-man must be high all the time... Since ...</td>\n",
       "    </tr>\n",
       "    <tr>\n",
       "      <th>2</th>\n",
       "      <td>Jokes</td>\n",
       "      <td>An old man walks into the barbershop for a sha...</td>\n",
       "    </tr>\n",
       "    <tr>\n",
       "      <th>3</th>\n",
       "      <td>Jokes</td>\n",
       "      <td>I remember being a kid and my parents filling ...</td>\n",
       "    </tr>\n",
       "    <tr>\n",
       "      <th>4</th>\n",
       "      <td>Jokes</td>\n",
       "      <td>Jesus can walk on water, babies are 72% water,...</td>\n",
       "    </tr>\n",
       "  </tbody>\n",
       "</table>\n",
       "</div>"
      ],
      "text/plain": [
       "  subreddit                                               text\n",
       "0     Jokes  A woman visited a doctor „Kiss me!“ She said.\\...\n",
       "1     Jokes  Spider-man must be high all the time... Since ...\n",
       "2     Jokes  An old man walks into the barbershop for a sha...\n",
       "3     Jokes  I remember being a kid and my parents filling ...\n",
       "4     Jokes  Jesus can walk on water, babies are 72% water,..."
      ]
     },
     "execution_count": 4,
     "metadata": {},
     "output_type": "execute_result"
    }
   ],
   "source": [
    "df.head()"
   ]
  },
  {
   "cell_type": "code",
   "execution_count": 5,
   "metadata": {},
   "outputs": [],
   "source": [
    "df.subreddit = df.subreddit.map({'Jokes': 1,\n",
    "                                'TalesFromRetail': 0})"
   ]
  },
  {
   "cell_type": "markdown",
   "metadata": {},
   "source": [
    "### Baseline Model"
   ]
  },
  {
   "cell_type": "markdown",
   "metadata": {},
   "source": [
    "My first step is to establish a baseline model."
   ]
  },
  {
   "cell_type": "code",
   "execution_count": 7,
   "metadata": {},
   "outputs": [],
   "source": [
    "X = df['text']\n",
    "y = df['subreddit']"
   ]
  },
  {
   "cell_type": "code",
   "execution_count": 8,
   "metadata": {},
   "outputs": [
    {
     "data": {
      "text/plain": [
       "1    0.502401\n",
       "0    0.497599\n",
       "Name: subreddit, dtype: float64"
      ]
     },
     "execution_count": 8,
     "metadata": {},
     "output_type": "execute_result"
    }
   ],
   "source": [
    "y.value_counts(normalize = True)"
   ]
  },
  {
   "cell_type": "markdown",
   "metadata": {},
   "source": [
    "As indicated above, my base model has a 50.24% accuracy, which means my model will need to at least beat this number."
   ]
  },
  {
   "cell_type": "markdown",
   "metadata": {},
   "source": [
    "### Modeling Preparation"
   ]
  },
  {
   "cell_type": "markdown",
   "metadata": {},
   "source": [
    "Pursuant to the preprocessing of notebook 2, I will be using the custom stop words in my modeling. "
   ]
  },
  {
   "cell_type": "code",
   "execution_count": 9,
   "metadata": {},
   "outputs": [],
   "source": [
    "stop = []\n",
    "for word in ENGLISH_STOP_WORDS:\n",
    "    if word != 'i':\n",
    "        stop.append(word)\n",
    "        \n",
    "stop_words = set(stop).union('b', 'c', 'd', 'e', 'f', 'g', 'h', 'j', 'k', 'l', 'm', \n",
    "                              'n', 'o', 'p', 'q', 'r', 's', 't', 'u', 'v', 'w', 'x', \n",
    "                              'y', 'z', '_')"
   ]
  },
  {
   "cell_type": "markdown",
   "metadata": {},
   "source": [
    "I also created a function to plot confusion matrix and other classification metrics so that I can easily check the performance of the model after each run."
   ]
  },
  {
   "cell_type": "code",
   "execution_count": 10,
   "metadata": {},
   "outputs": [],
   "source": [
    "def get_matrix(X_test, y_test, model):\n",
    "    preds = model.predict(X_test)\n",
    "    tn, fp, fn, tp = confusion_matrix(y_test, preds).ravel()\n",
    "    sensitivity = tp/ (tp + fn)\n",
    "    specificity = tn/ (tn + fp)\n",
    "    precision = tp/ (tp + fp)\n",
    "    print(f'Sensitivity: {sensitivity}')\n",
    "    print(f'Specificity: {specificity}')\n",
    "    print(f'Precision: {precision}')\n",
    "    return plot_confusion_matrix(model, X_test, y_test, values_format = 'd');"
   ]
  },
  {
   "cell_type": "code",
   "execution_count": 11,
   "metadata": {},
   "outputs": [],
   "source": [
    "# set variable and target for modeling\n",
    "X = df['text']\n",
    "y = df['subreddit']\n",
    "\n",
    "# train test split the dataset\n",
    "X_train, X_test, y_train, y_test = train_test_split(X, y, random_state = 42, stratify = y)"
   ]
  },
  {
   "cell_type": "markdown",
   "metadata": {},
   "source": [
    "### Model 1 - Logistic Regression with CountVectorizer"
   ]
  },
  {
   "cell_type": "markdown",
   "metadata": {},
   "source": [
    "My first model is to use logistic regression with count vectoirzer. Although simple, logistic regression is a fast, and effective model for classification. Plus it returns coefficients that are intepretable and intuitive."
   ]
  },
  {
   "cell_type": "code",
   "execution_count": 10,
   "metadata": {},
   "outputs": [
    {
     "name": "stdout",
     "output_type": "stream",
     "text": [
      "Fitting 5 folds for each of 24 candidates, totalling 120 fits\n"
     ]
    },
    {
     "name": "stderr",
     "output_type": "stream",
     "text": [
      "[Parallel(n_jobs=-1)]: Using backend LokyBackend with 4 concurrent workers.\n",
      "[Parallel(n_jobs=-1)]: Done  42 tasks      | elapsed:  4.1min\n",
      "[Parallel(n_jobs=-1)]: Done 120 out of 120 | elapsed: 11.9min finished\n"
     ]
    },
    {
     "name": "stdout",
     "output_type": "stream",
     "text": [
      "best params: {'cvec__max_df': 0.9, 'cvec__max_features': 10000, 'cvec__min_df': 2, 'cvec__ngram_range': (1, 2)}\n",
      "best cv score: 0.9863513802187824\n",
      "train score: 0.9991557619248628\n",
      "test score: 0.9898712808609411\n"
     ]
    }
   ],
   "source": [
    "pipe = Pipeline([\n",
    "    ('cvec', CountVectorizer(stop_words = stop_words, \n",
    "                             token_pattern = u\"(?u)\\\\b\\\\w+\\\\b\")),\n",
    "    ('logreg', LogisticRegression())\n",
    "])\n",
    "\n",
    "\n",
    "pipe_params = {'cvec__max_features': [10000, 15000, 20000],\n",
    "              'cvec__min_df': [2,3],\n",
    "              'cvec__max_df': [.90, .95],\n",
    "              'cvec__ngram_range':[(1,1), (1,2)]}\n",
    "\n",
    "gs = GridSearchCV(pipe, \n",
    "                  pipe_params,\n",
    "                  cv = 5, \n",
    "                  verbose = 1,\n",
    "                  n_jobs = -1) \n",
    "\n",
    "gs.fit(X_train, y_train)\n",
    "\n",
    "print(f'best params: {gs.best_params_}')\n",
    "print(f'best cv score: {gs.best_score_}')\n",
    "print(f'train score: {gs.score(X_train, y_train)}')\n",
    "print(f'test score: {gs.score(X_test, y_test)}')"
   ]
  },
  {
   "cell_type": "code",
   "execution_count": 11,
   "metadata": {},
   "outputs": [
    {
     "name": "stdout",
     "output_type": "stream",
     "text": [
      "Sensitivity: 0.9916001679966401\n",
      "Specificity: 0.9881255301102629\n",
      "Precision: 0.9882796149016325\n"
     ]
    },
    {
     "data": {
      "text/plain": [
       "<sklearn.metrics._plot.confusion_matrix.ConfusionMatrixDisplay at 0x1a2a4ffc50>"
      ]
     },
     "execution_count": 11,
     "metadata": {},
     "output_type": "execute_result"
    },
    {
     "data": {
      "image/png": "[encoded data removed]",
      "text/plain": [
       "<Figure size 432x288 with 2 Axes>"
      ]
     },
     "metadata": {
      "needs_background": "light"
     },
     "output_type": "display_data"
    }
   ],
   "source": [
    "get_matrix(X_test, y_test, gs)"
   ]
  },
  {
   "cell_type": "markdown",
   "metadata": {},
   "source": [
    "The model has a 98.99% accuracy, which is to my surprise -- I didn't expect logtistic regression could perform so well! However my best parameter takes in 10,000 features, which is a lot considering how much vocabulary each English speaker has. Therefore I would like to fine tune my model to make it fewer features and see if I can still keep the high accuracy level."
   ]
  },
  {
   "cell_type": "markdown",
   "metadata": {},
   "source": [
    "#### Fine tuning the features"
   ]
  },
  {
   "cell_type": "markdown",
   "metadata": {},
   "source": [
    "This time I'm trying out 4000, 6000, and 8000 features."
   ]
  },
  {
   "cell_type": "code",
   "execution_count": 12,
   "metadata": {},
   "outputs": [
    {
     "name": "stdout",
     "output_type": "stream",
     "text": [
      "Fitting 5 folds for each of 24 candidates, totalling 120 fits\n"
     ]
    },
    {
     "name": "stderr",
     "output_type": "stream",
     "text": [
      "[Parallel(n_jobs=-1)]: Using backend LokyBackend with 4 concurrent workers.\n",
      "[Parallel(n_jobs=-1)]: Done  42 tasks      | elapsed:  4.0min\n",
      "[Parallel(n_jobs=-1)]: Done 120 out of 120 | elapsed: 13.7min finished\n",
      "/opt/anaconda3/lib/python3.7/site-packages/sklearn/linear_model/_logistic.py:940: ConvergenceWarning: lbfgs failed to converge (status=1):\n",
      "STOP: TOTAL NO. of ITERATIONS REACHED LIMIT.\n",
      "\n",
      "Increase the number of iterations (max_iter) or scale the data as shown in:\n",
      "    https://scikit-learn.org/stable/modules/preprocessing.html\n",
      "Please also refer to the documentation for alternative solver options:\n",
      "    https://scikit-learn.org/stable/modules/linear_model.html#logistic-regression\n",
      "  extra_warning_msg=_LOGISTIC_SOLVER_CONVERGENCE_MSG)\n"
     ]
    },
    {
     "name": "stdout",
     "output_type": "stream",
     "text": [
      "best params: {'cvec__max_df': 0.9, 'cvec__max_features': 4000, 'cvec__min_df': 3, 'cvec__ngram_range': (1, 2)}\n",
      "best cv score: 0.9864921261723364\n",
      "train score: 0.9988039960602223\n",
      "test score: 0.9900822958430049\n"
     ]
    }
   ],
   "source": [
    "pipe_1 = Pipeline([\n",
    "    ('cvec', CountVectorizer(stop_words = stop_words, \n",
    "                             token_pattern = u\"(?u)\\\\b\\\\w+\\\\b\")),\n",
    "    ('logreg', LogisticRegression())\n",
    "])\n",
    "\n",
    "\n",
    "pipe_params_1 = {'cvec__max_features': [4000, 6000, 8000],\n",
    "              'cvec__min_df': [2,3],\n",
    "              'cvec__max_df': [.90, .95],\n",
    "              'cvec__ngram_range':[(1,1), (1,2)]}\n",
    "\n",
    "gs_1 = GridSearchCV(pipe_1, \n",
    "                  pipe_params_1,\n",
    "                  cv = 5, \n",
    "                  verbose = 1,\n",
    "                  n_jobs = -1) \n",
    "\n",
    "gs_1.fit(X_train, y_train)\n",
    "\n",
    "print(f'best params: {gs_1.best_params_}')\n",
    "print(f'best cv score: {gs_1.best_score_}')\n",
    "print(f'train score: {gs_1.score(X_train, y_train)}')\n",
    "print(f'test score: {gs_1.score(X_test, y_test)}')"
   ]
  },
  {
   "cell_type": "code",
   "execution_count": 13,
   "metadata": {},
   "outputs": [
    {
     "name": "stdout",
     "output_type": "stream",
     "text": [
      "Sensitivity: 0.991180176396472\n",
      "Specificity: 0.9889737065309584\n",
      "Precision: 0.989103101424979\n"
     ]
    },
    {
     "data": {
      "text/plain": [
       "<sklearn.metrics._plot.confusion_matrix.ConfusionMatrixDisplay at 0x1a33e1bcd0>"
      ]
     },
     "execution_count": 13,
     "metadata": {},
     "output_type": "execute_result"
    },
    {
     "data": {
      "image/png": "[encoded data removed]",
      "text/plain": [
       "<Figure size 432x288 with 2 Axes>"
      ]
     },
     "metadata": {
      "needs_background": "light"
     },
     "output_type": "display_data"
    }
   ],
   "source": [
    "get_matrix(X_test, y_test, gs_1)"
   ]
  },
  {
   "cell_type": "markdown",
   "metadata": {},
   "source": [
    "The model got even better, with an almost 99% rate all the metrics! What's more, the best model only needs 4,000 features, but I would still like to see if I can do better."
   ]
  },
  {
   "cell_type": "markdown",
   "metadata": {},
   "source": [
    "### Model 2 - Logtistic Regression with TfidfVectorizer"
   ]
  },
  {
   "cell_type": "markdown",
   "metadata": {},
   "source": [
    "So I decdied to do the logistic regression with TfidfVectorizer to see if any improvements can be achieved. TfidVectorizer focuses on the unique words in each class vs similar words. For my project, the two subreddits being examined both took major form of story, I believe many frequent words might overlap. However, according to the EDA, they are still identifiable unique words specific to each subreddits. Therefore I believe using TfidfVectorizer could help and many reduce the features needed for a good model even more."
   ]
  },
  {
   "cell_type": "code",
   "execution_count": 14,
   "metadata": {},
   "outputs": [
    {
     "name": "stdout",
     "output_type": "stream",
     "text": [
      "Fitting 5 folds for each of 24 candidates, totalling 120 fits\n"
     ]
    },
    {
     "name": "stderr",
     "output_type": "stream",
     "text": [
      "[Parallel(n_jobs=-1)]: Using backend LokyBackend with 4 concurrent workers.\n",
      "[Parallel(n_jobs=-1)]: Done  42 tasks      | elapsed:  6.5min\n",
      "[Parallel(n_jobs=-1)]: Done 120 out of 120 | elapsed: 16.0min finished\n"
     ]
    },
    {
     "name": "stdout",
     "output_type": "stream",
     "text": [
      "best params: {'tvec__max_df': 0.9, 'tvec__max_features': 2000, 'tvec__min_df': 2, 'tvec__ngram_range': (1, 2)}\n",
      "best cv score: 0.982341333442907\n",
      "train score: 0.9874771352187983\n",
      "test score: 0.984595906309348\n"
     ]
    }
   ],
   "source": [
    "pipe_2 = Pipeline([\n",
    "    ('tvec', TfidfVectorizer(stop_words = stop_words , \n",
    "                             token_pattern = u\"(?u)\\\\b\\\\w+\\\\b\")),\n",
    "    ('logreg', LogisticRegression())\n",
    "])\n",
    "\n",
    "\n",
    "pipe_params_2 = {'tvec__max_features': [2000, 3000, 4000],\n",
    "              'tvec__min_df': [2,3],\n",
    "              'tvec__max_df': [.90, .95],\n",
    "              'tvec__ngram_range':[(1,1), (1,2)]}\n",
    "\n",
    "gs_2 = GridSearchCV(pipe_2, \n",
    "                  pipe_params_2,\n",
    "                  cv = 5, \n",
    "                  verbose = 1,\n",
    "                  n_jobs = -1) \n",
    "\n",
    "gs_2.fit(X_train, y_train)\n",
    "\n",
    "print(f'best params: {gs_2.best_params_}')\n",
    "print(f'best cv score: {gs_2.best_score_}')\n",
    "print(f'train score: {gs_2.score(X_train, y_train)}')\n",
    "print(f'test score: {gs_2.score(X_test, y_test)}')"
   ]
  },
  {
   "cell_type": "code",
   "execution_count": 15,
   "metadata": {},
   "outputs": [
    {
     "name": "stdout",
     "output_type": "stream",
     "text": [
      "Sensitivity: 0.9857202855942881\n",
      "Specificity: 0.9834605597964376\n",
      "Precision: 0.9836546521374686\n"
     ]
    },
    {
     "data": {
      "text/plain": [
       "<sklearn.metrics._plot.confusion_matrix.ConfusionMatrixDisplay at 0x1a33eec7d0>"
      ]
     },
     "execution_count": 15,
     "metadata": {},
     "output_type": "execute_result"
    },
    {
     "data": {
      "image/png": "[encoded data removed]",
      "text/plain": [
       "<Figure size 432x288 with 2 Axes>"
      ]
     },
     "metadata": {
      "needs_background": "light"
     },
     "output_type": "display_data"
    }
   ],
   "source": [
    "get_matrix(X_test, y_test, gs_2)"
   ]
  },
  {
   "cell_type": "markdown",
   "metadata": {},
   "source": [
    "It didn't disappoint me. With 2000 features, I can get a 98.5% accuracy rate, only 0.49% lower than the 10,000-feature model and 0.5% lower than the 4,000-feature model. I believe this is the best model so far. (And spoiler alert, this is the best model among all!)"
   ]
  },
  {
   "cell_type": "markdown",
   "metadata": {},
   "source": [
    "### Model 3 - K-Nearest Neighbors with TfidfVectorizer"
   ]
  },
  {
   "cell_type": "markdown",
   "metadata": {},
   "source": [
    "With the above insipiring result, I decided to test out all models beyond using 4000 features at most. Next I examined KNN as it's also a very common classifier. However compared to Logistic Regression, KNN is not able to provide feature significance for my reference. With that in mind, I'm still curious to see how the result will turn out. I decided only to use KNN with TfidfVectorizer because KNN tends to overfit a lot and TfidfVectorizer may help with this issue with fewer features. Also since all the features are on the same scale, no standardization is needed for this modeling."
   ]
  },
  {
   "cell_type": "code",
   "execution_count": 12,
   "metadata": {},
   "outputs": [
    {
     "name": "stdout",
     "output_type": "stream",
     "text": [
      "Fitting 5 folds for each of 12 candidates, totalling 60 fits\n"
     ]
    },
    {
     "name": "stderr",
     "output_type": "stream",
     "text": [
      "[Parallel(n_jobs=-1)]: Using backend LokyBackend with 4 concurrent workers.\n",
      "[Parallel(n_jobs=-1)]: Done  42 tasks      | elapsed:  3.4min\n",
      "[Parallel(n_jobs=-1)]: Done  60 out of  60 | elapsed:  5.2min finished\n"
     ]
    },
    {
     "name": "stdout",
     "output_type": "stream",
     "text": [
      "best params: {'knn__n_neighbors': 99, 'tvec__max_df': 0.9, 'tvec__max_features': 4000, 'tvec__min_df': 3, 'tvec__ngram_range': (1, 1)}\n",
      "best cv score: 0.9320386405317157\n",
      "train score: 0.9295764738989728\n",
      "test score: 0.9364844903988183\n"
     ]
    }
   ],
   "source": [
    "pipe_knn = Pipeline([\n",
    "    ('tvec', TfidfVectorizer(stop_words = stop_words, \n",
    "                             token_pattern = u\"(?u)\\\\b\\\\w+\\\\b\")),\n",
    "    ('knn', KNeighborsClassifier())\n",
    "])\n",
    "\n",
    "\n",
    "pipe_params_knn = {'tvec__max_features': [2000, 4000],\n",
    "              'tvec__min_df': [3],\n",
    "              'tvec__max_df': [.90],\n",
    "              'tvec__ngram_range':[(1,1), (1,2)],\n",
    "              'knn__n_neighbors': [1, 59, 99]}\n",
    "\n",
    "gs_knn = GridSearchCV(pipe_knn, \n",
    "                  pipe_params_knn,\n",
    "                  cv = 5, \n",
    "                  verbose = 1,\n",
    "                  n_jobs = -1) \n",
    "\n",
    "gs_knn.fit(X_train, y_train)\n",
    "\n",
    "print(f'best params: {gs_knn.best_params_}')\n",
    "print(f'best cv score: {gs_knn.best_score_}')\n",
    "print(f'train score: {gs_knn.score(X_train, y_train)}')\n",
    "print(f'test score: {gs_knn.score(X_test, y_test)}')"
   ]
  },
  {
   "cell_type": "code",
   "execution_count": 20,
   "metadata": {},
   "outputs": [
    {
     "name": "stdout",
     "output_type": "stream",
     "text": [
      "Sensitivity: 0.9638807223855523\n",
      "Specificity: 0.9088210347752332\n",
      "Precision: 0.9143426294820717\n"
     ]
    },
    {
     "data": {
      "text/plain": [
       "<sklearn.metrics._plot.confusion_matrix.ConfusionMatrixDisplay at 0x1a24390cd0>"
      ]
     },
     "execution_count": 20,
     "metadata": {},
     "output_type": "execute_result"
    },
    {
     "data": {
      "image/png": "[encoded data removed]",
      "text/plain": [
       "<Figure size 432x288 with 2 Axes>"
      ]
     },
     "metadata": {
      "needs_background": "light"
     },
     "output_type": "display_data"
    }
   ],
   "source": [
    "get_matrix(X_test, y_test, gs_knn)"
   ]
  },
  {
   "cell_type": "markdown",
   "metadata": {},
   "source": [
    "With an accuracy of 93.6%, I wouldn't say KNN perform badly but it's certainly not as good as the logistic regression in this case. The KNN model especially suffers from the specificity compared to logistic regression, which means it tends to classify tales from retail as jokes. "
   ]
  },
  {
   "cell_type": "markdown",
   "metadata": {},
   "source": [
    "### Model 4 - Naive Bayes with CountVectorizer"
   ]
  },
  {
   "cell_type": "markdown",
   "metadata": {},
   "source": [
    "Next I would like to model with Naive Bayes. Naive Bayes is a prime model for classification problems where feature sets are very large (credit in [link](https://medium.com/@dannymvarghese/comparative-study-on-classic-machine-learning-algorithms-part-2-5ab58b683ec0)). As I'm modeling feature counts, which are all positive integers, I will use multinomial naive bayes. I will also start with using CountVectorizer with multiple feature options. "
   ]
  },
  {
   "cell_type": "code",
   "execution_count": 24,
   "metadata": {},
   "outputs": [
    {
     "name": "stdout",
     "output_type": "stream",
     "text": [
      "Fitting 5 folds for each of 24 candidates, totalling 120 fits\n"
     ]
    },
    {
     "name": "stderr",
     "output_type": "stream",
     "text": [
      "[Parallel(n_jobs=-1)]: Using backend LokyBackend with 4 concurrent workers.\n",
      "[Parallel(n_jobs=-1)]: Done  42 tasks      | elapsed:  7.3min\n",
      "[Parallel(n_jobs=-1)]: Done 120 out of 120 | elapsed: 15.7min finished\n"
     ]
    },
    {
     "name": "stdout",
     "output_type": "stream",
     "text": [
      "best params: {'cvec__max_df': 0.9, 'cvec__max_features': 4000, 'cvec__min_df': 3, 'cvec__ngram_range': (1, 2)}\n",
      "best cv score: 0.9298572515231183\n",
      "train score: 0.9407626283945406\n",
      "test score: 0.9248786663853134\n"
     ]
    }
   ],
   "source": [
    "pipe_cm = Pipeline([\n",
    "    ('cvec', CountVectorizer(stop_words = stop_words, \n",
    "                             token_pattern = u\"(?u)\\\\b\\\\w+\\\\b\")),\n",
    "    ('nb', MultinomialNB())\n",
    "])\n",
    "\n",
    "\n",
    "pipe_params_cm = {'cvec__max_features': [2000, 3000, 4000],\n",
    "              'cvec__min_df': [2,3],\n",
    "              'cvec__max_df': [.90, .95],\n",
    "              'cvec__ngram_range':[(1,1), (1,2)]}\n",
    "\n",
    "gs_cm = GridSearchCV(pipe_cm, \n",
    "                  pipe_params_cm,\n",
    "                  cv = 5, \n",
    "                  verbose = 1,\n",
    "                  n_jobs = -1) \n",
    "\n",
    "gs_cm.fit(X_train, y_train)\n",
    "\n",
    "print(f'best params: {gs_cm.best_params_}')\n",
    "print(f'best cv score: {gs_cm.best_score_}')\n",
    "print(f'train score: {gs_cm.score(X_train, y_train)}')\n",
    "print(f'test score: {gs_cm.score(X_test, y_test)}')"
   ]
  },
  {
   "cell_type": "code",
   "execution_count": 25,
   "metadata": {},
   "outputs": [
    {
     "name": "stdout",
     "output_type": "stream",
     "text": [
      "Sensitivity: 0.8559428811423772\n",
      "Specificity: 0.9944868532654793\n",
      "Precision: 0.9936616284739151\n"
     ]
    },
    {
     "data": {
      "text/plain": [
       "<sklearn.metrics._plot.confusion_matrix.ConfusionMatrixDisplay at 0x1a24a21e10>"
      ]
     },
     "execution_count": 25,
     "metadata": {},
     "output_type": "execute_result"
    },
    {
     "data": {
      "image/png": "[encoded data removed]",
      "text/plain": [
       "<Figure size 432x288 with 2 Axes>"
      ]
     },
     "metadata": {
      "needs_background": "light"
     },
     "output_type": "display_data"
    }
   ],
   "source": [
    "get_matrix(X_test, y_test, gs_cm)"
   ]
  },
  {
   "cell_type": "markdown",
   "metadata": {},
   "source": [
    "The accuracy of Naive Bayes with CountVectorizer is 92.5%, lowest of all models and especially suffers from sensitivity, which means it tends to classify jokes posts as tales from retail posts. However, it has almost perfect specificity and precision score. This means this model is better at classifying tales from retail posts."
   ]
  },
  {
   "cell_type": "markdown",
   "metadata": {},
   "source": [
    "### Model 5 - Naive Bayes with TfidfVectorizer"
   ]
  },
  {
   "cell_type": "markdown",
   "metadata": {},
   "source": [
    "Due to my computer's capacity, I did not have luxury to test out too many parameter combos in my grid search. My strategy is to use a vectorizer to help narrow down the parameters and test on the other vectorizer to compare the results. As naive bayes with CountVectorizer didn't give me a great model, I decided to use its best parameters to test on TfidfVectorizer."
   ]
  },
  {
   "cell_type": "code",
   "execution_count": 26,
   "metadata": {},
   "outputs": [
    {
     "name": "stdout",
     "output_type": "stream",
     "text": [
      "Fitting 5 folds for each of 8 candidates, totalling 40 fits\n"
     ]
    },
    {
     "name": "stderr",
     "output_type": "stream",
     "text": [
      "[Parallel(n_jobs=-1)]: Using backend LokyBackend with 4 concurrent workers.\n",
      "[Parallel(n_jobs=-1)]: Done  40 out of  40 | elapsed:  4.0min finished\n"
     ]
    },
    {
     "name": "stdout",
     "output_type": "stream",
     "text": [
      "best params: {'tvec__max_df': 0.9, 'tvec__max_features': 4000, 'tvec__min_df': 3, 'tvec__ngram_range': (1, 2)}\n",
      "best cv score: 0.9330234661574796\n",
      "train score: 0.948853243281272\n",
      "test score: 0.9301540409369066\n"
     ]
    }
   ],
   "source": [
    "pipe_tm = Pipeline([\n",
    "    ('tvec', TfidfVectorizer(stop_words = stop_words, \n",
    "                             token_pattern = u\"(?u)\\\\b\\\\w+\\\\b\")),\n",
    "    ('nb', MultinomialNB())\n",
    "])\n",
    "\n",
    "\n",
    "pipe_params_tm = {'tvec__max_features': [4000],\n",
    "              'tvec__min_df': [2,3],\n",
    "              'tvec__max_df': [.90, .95],\n",
    "              'tvec__ngram_range':[(1,1), (1,2)]}\n",
    "\n",
    "gs_tm = GridSearchCV(pipe_tm, \n",
    "                  pipe_params_tm,\n",
    "                  cv = 5, \n",
    "                  verbose = 1,\n",
    "                  n_jobs = -1) \n",
    "\n",
    "gs_tm.fit(X_train, y_train)\n",
    "\n",
    "print(f'best params: {gs_tm.best_params_}')\n",
    "print(f'best cv score: {gs_tm.best_score_}')\n",
    "print(f'train score: {gs_tm.score(X_train, y_train)}')\n",
    "print(f'test score: {gs_tm.score(X_test, y_test)}')"
   ]
  },
  {
   "cell_type": "code",
   "execution_count": 27,
   "metadata": {},
   "outputs": [
    {
     "name": "stdout",
     "output_type": "stream",
     "text": [
      "Sensitivity: 0.8685426291474171\n",
      "Specificity: 0.9923664122137404\n",
      "Precision: 0.9913710450623202\n"
     ]
    },
    {
     "data": {
      "text/plain": [
       "<sklearn.metrics._plot.confusion_matrix.ConfusionMatrixDisplay at 0x1a419988d0>"
      ]
     },
     "execution_count": 27,
     "metadata": {},
     "output_type": "execute_result"
    },
    {
     "data": {
      "image/png": "[encoded data removed]",
      "text/plain": [
       "<Figure size 432x288 with 2 Axes>"
      ]
     },
     "metadata": {
      "needs_background": "light"
     },
     "output_type": "display_data"
    }
   ],
   "source": [
    "get_matrix(X_test, y_test, gs_tm)"
   ]
  },
  {
   "cell_type": "markdown",
   "metadata": {},
   "source": [
    "With TfidfVectorizer, the accuracy improved a little to 93%, close to KNN's score but still far from what logistic regression was able to achieve. Similar to the CountVectorizer, it also suffers low sensitivity. "
   ]
  },
  {
   "cell_type": "markdown",
   "metadata": {},
   "source": [
    "### Model 6 - Random Forest with TfidfVectorizer"
   ]
  },
  {
   "cell_type": "markdown",
   "metadata": {},
   "source": [
    "So far using TfidfVectorizer has proved to have better performance on my datasets, therefore in the following model I decided to only vectorize the data with TfidfVectorizer, not CountVectorizer. Random Forest handles overfitting efficiently compared to regular decision trees."
   ]
  },
  {
   "cell_type": "code",
   "execution_count": 28,
   "metadata": {},
   "outputs": [
    {
     "name": "stdout",
     "output_type": "stream",
     "text": [
      "Fitting 5 folds for each of 72 candidates, totalling 360 fits\n"
     ]
    },
    {
     "name": "stderr",
     "output_type": "stream",
     "text": [
      "[Parallel(n_jobs=-1)]: Using backend LokyBackend with 4 concurrent workers.\n",
      "[Parallel(n_jobs=-1)]: Done  42 tasks      | elapsed: 11.7min\n",
      "[Parallel(n_jobs=-1)]: Done 192 tasks      | elapsed: 47.7min\n",
      "[Parallel(n_jobs=-1)]: Done 360 out of 360 | elapsed: 80.4min finished\n"
     ]
    },
    {
     "name": "stdout",
     "output_type": "stream",
     "text": [
      "best params: {'rf__max_depth': None, 'rf__max_features': 100, 'rf__n_estimators': 100, 'tvec__max_df': 0.9, 'tvec__max_features': 2000, 'tvec__min_df': 3, 'tvec__ngram_range': (1, 2)}\n",
      "best cv score: 0.9842409335075619\n",
      "train score: 1.0\n",
      "test score: 0.9829077864528382\n"
     ]
    }
   ],
   "source": [
    "pipe_rf = Pipeline([\n",
    "    ('tvec', TfidfVectorizer(stop_words = stop_words, \n",
    "                             token_pattern = u\"(?u)\\\\b\\\\w+\\\\b\")),\n",
    "    ('rf', RandomForestClassifier())\n",
    "])\n",
    "\n",
    "\n",
    "pipe_params_rf = {'tvec__max_features': [2000, 4000],\n",
    "              'tvec__min_df': [3],\n",
    "              'tvec__max_df': [.90],\n",
    "              'tvec__ngram_range':[(1,2)],\n",
    "              'rf__n_estimators': [75, 100, 125],\n",
    "              'rf__max_depth': [None, 5, 10],\n",
    "              'rf__max_features': ['auto', 60, 80, 100]}\n",
    "\n",
    "gs_rf = GridSearchCV(pipe_rf, \n",
    "                  pipe_params_rf,\n",
    "                  cv = 5,\n",
    "                  verbose = 1,\n",
    "                  n_jobs = -1) \n",
    "\n",
    "gs_rf.fit(X_train, y_train)\n",
    "\n",
    "print(f'best params: {gs_rf.best_params_}')\n",
    "print(f'best cv score: {gs_rf.best_score_}')\n",
    "print(f'train score: {gs_rf.score(X_train, y_train)}')\n",
    "print(f'test score: {gs_rf.score(X_test, y_test)}')"
   ]
  },
  {
   "cell_type": "code",
   "execution_count": 29,
   "metadata": {},
   "outputs": [
    {
     "name": "stdout",
     "output_type": "stream",
     "text": [
      "Sensitivity: 0.9756404871902562\n",
      "Specificity: 0.9902459711620017\n",
      "Precision: 0.9901960784313726\n"
     ]
    },
    {
     "data": {
      "text/plain": [
       "<sklearn.metrics._plot.confusion_matrix.ConfusionMatrixDisplay at 0x1a57d2e510>"
      ]
     },
     "execution_count": 29,
     "metadata": {},
     "output_type": "execute_result"
    },
    {
     "data": {
      "image/png": "[encoded data removed]",
      "text/plain": [
       "<Figure size 432x288 with 2 Axes>"
      ]
     },
     "metadata": {
      "needs_background": "light"
     },
     "output_type": "display_data"
    }
   ],
   "source": [
    "get_matrix(X_test, y_test, gs_rf)"
   ]
  },
  {
   "cell_type": "markdown",
   "metadata": {},
   "source": [
    "Random Tree gave me a fairly good accuracy score of 98.3%. However notably, the train score is 100%, which indicates a slight level of overfitting, which is common due to the nature of random trees. Overall it's a good model, with also 2000 features needed to achieve such result. However due to the high computational cost of random tree models, in my case, 80.4 minutes to fit 360 models vs 13.7 minutes to fit 120 models for Model 2, I would prefer to choose the logistic regression (plus the result is slightly better too)."
   ]
  },
  {
   "cell_type": "markdown",
   "metadata": {},
   "source": [
    "### Model 7 - Extra Trees with TfidfVectorizer"
   ]
  },
  {
   "cell_type": "markdown",
   "metadata": {},
   "source": [
    "Finally I wanted to use the Extra Tree. Extra Trees is very similar to random forest only that random forest uses bootstrap replicas while extra trees uses the whole original sample. In addition extra trees selects split nodes randomly vs random forest selects the optimal point. These two differences indicate that extra trees is likely to have more variance yet faster to run than random forest."
   ]
  },
  {
   "cell_type": "code",
   "execution_count": 30,
   "metadata": {},
   "outputs": [
    {
     "name": "stdout",
     "output_type": "stream",
     "text": [
      "Fitting 5 folds for each of 2 candidates, totalling 10 fits\n"
     ]
    },
    {
     "name": "stderr",
     "output_type": "stream",
     "text": [
      "[Parallel(n_jobs=-1)]: Using backend LokyBackend with 4 concurrent workers.\n",
      "[Parallel(n_jobs=-1)]: Done  10 out of  10 | elapsed:  7.2min finished\n"
     ]
    },
    {
     "name": "stdout",
     "output_type": "stream",
     "text": [
      "best params: {'et__max_depth': None, 'et__max_features': 100, 'et__n_estimators': 150, 'tvec__max_df': 0.9, 'tvec__max_features': 2000, 'tvec__min_df': 3, 'tvec__ngram_range': (1, 2)}\n",
      "best cv score: 0.977909098312509\n",
      "train score: 1.0\n",
      "test score: 0.9778434268833087\n"
     ]
    }
   ],
   "source": [
    "pipe_et = Pipeline([\n",
    "    ('tvec', TfidfVectorizer(token_pattern = u\"(?u)\\\\b\\\\w+\\\\b\")),\n",
    "    ('et', ExtraTreesClassifier())\n",
    "])\n",
    "\n",
    "\n",
    "pipe_params_et = {'tvec__max_features': [2000],\n",
    "              'tvec__min_df': [3],\n",
    "              'tvec__max_df': [.90],\n",
    "              'tvec__ngram_range':[(1,2)],\n",
    "              'et__n_estimators': [125, 150],\n",
    "              'et__max_depth': [None],\n",
    "              'et__max_features': [100]}\n",
    "\n",
    "gs_et = GridSearchCV(pipe_et, \n",
    "                  pipe_params_et,\n",
    "                  cv = 5,\n",
    "                  verbose = 1,\n",
    "                  n_jobs = -1) \n",
    "\n",
    "gs_et.fit(X_train, y_train)\n",
    "\n",
    "print(f'best params: {gs_et.best_params_}')\n",
    "print(f'best cv score: {gs_et.best_score_}')\n",
    "print(f'train score: {gs_et.score(X_train, y_train)}')\n",
    "print(f'test score: {gs_et.score(X_test, y_test)}')"
   ]
  },
  {
   "cell_type": "code",
   "execution_count": 31,
   "metadata": {},
   "outputs": [
    {
     "name": "stdout",
     "output_type": "stream",
     "text": [
      "Sensitivity: 0.9655606887862243\n",
      "Specificity: 0.9902459711620017\n",
      "Precision: 0.9900947459086994\n"
     ]
    },
    {
     "data": {
      "text/plain": [
       "<sklearn.metrics._plot.confusion_matrix.ConfusionMatrixDisplay at 0x1a4a225b50>"
      ]
     },
     "execution_count": 31,
     "metadata": {},
     "output_type": "execute_result"
    },
    {
     "data": {
      "image/png": "[encoded data removed]",
      "text/plain": [
       "<Figure size 432x288 with 2 Axes>"
      ]
     },
     "metadata": {
      "needs_background": "light"
     },
     "output_type": "display_data"
    }
   ],
   "source": [
    "get_matrix(X_test, y_test, gs_et)"
   ]
  },
  {
   "cell_type": "markdown",
   "metadata": {},
   "source": [
    "Not to my surprise, the result for extra trees is slightly lower than random forest, at 97.8%, with more overfitting indicated by the 100% training score. However it took longer for this model to run. My guess is the model was run while other programs were in the use too, which slowed down the process."
   ]
  },
  {
   "cell_type": "markdown",
   "metadata": {},
   "source": [
    "### Save to Pickle"
   ]
  },
  {
   "cell_type": "code",
   "execution_count": 43,
   "metadata": {},
   "outputs": [],
   "source": [
    "import pickle \n",
    "\n",
    "file_name = '../assets/logreg.pkl'\n",
    "pickle.dump(gs, open(file_name, 'wb'))\n",
    "\n",
    "file_name = '../assets/logreg_1.pkl'\n",
    "pickle.dump(gs_1, open(file_name, 'wb'))\n",
    "\n",
    "file_name = '../assets/logreg_2.pkl'\n",
    "pickle.dump(gs_2, open(file_name, 'wb'))\n",
    "\n",
    "file_name = '../assets/knn.pkl'\n",
    "pickle.dump(gs_knn, open(file_name, 'wb'))\n",
    "\n",
    "file_name = '../assets/tvecmulti.pkl'\n",
    "pickle.dump(gs_tm, open(file_name, 'wb'))\n",
    "\n",
    "file_name = '../assets/cvecmulti.pkl'\n",
    "pickle.dump(gs_cm, open(file_name, 'wb'))\n",
    "\n",
    "file_name = '../assets/ranforest_tm.pkl'\n",
    "pickle.dump(gs_rf, open(file_name, 'wb'))\n",
    "\n",
    "file_name = '../assets/ranforest_tm.pkl'\n",
    "pickle.dump(gs_et, open(file_name, 'wb'))"
   ]
  }
 ],
 "metadata": {
  "kernelspec": {
   "display_name": "Python 3",
   "language": "python",
   "name": "python3"
  },
  "language_info": {
   "codemirror_mode": {
    "name": "ipython",
    "version": 3
   },
   "file_extension": ".py",
   "mimetype": "text/x-python",
   "name": "python",
   "nbconvert_exporter": "python",
   "pygments_lexer": "ipython3",
   "version": "3.7.6"
  }
 },
 "nbformat": 4,
 "nbformat_minor": 4
}
