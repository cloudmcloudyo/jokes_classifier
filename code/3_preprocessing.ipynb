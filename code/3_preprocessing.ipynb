{
 "cells": [
  {
   "cell_type": "markdown",
   "metadata": {},
   "source": [
    "<img src=\"http://imgur.com/1ZcRyrc.png\" style=\"float: left; margin: 20px; height: 55px\">\n",
    "\n",
    "# Project 3: Reddit NPL Classfication Challenge\n",
    "Notebook 3: Preprocessing"
   ]
  },
  {
   "cell_type": "code",
   "execution_count": 1,
   "metadata": {},
   "outputs": [],
   "source": [
    "import pandas as pd\n",
    "import numpy as np\n",
    "import matplotlib.pyplot as plt\n",
    "import seaborn as sns\n",
    "\n",
    "from sklearn.feature_extraction.text import CountVectorizer, TFidFVectorizer"
   ]
  },
  {
   "cell_type": "code",
   "execution_count": 2,
   "metadata": {},
   "outputs": [
    {
     "data": {
      "text/html": [
       "<div>\n",
       "<style scoped>\n",
       "    .dataframe tbody tr th:only-of-type {\n",
       "        vertical-align: middle;\n",
       "    }\n",
       "\n",
       "    .dataframe tbody tr th {\n",
       "        vertical-align: top;\n",
       "    }\n",
       "\n",
       "    .dataframe thead th {\n",
       "        text-align: right;\n",
       "    }\n",
       "</style>\n",
       "<table border=\"1\" class=\"dataframe\">\n",
       "  <thead>\n",
       "    <tr style=\"text-align: right;\">\n",
       "      <th></th>\n",
       "      <th>author</th>\n",
       "      <th>title</th>\n",
       "      <th>selftext</th>\n",
       "      <th>score</th>\n",
       "      <th>num_comments</th>\n",
       "      <th>upvote_ratio</th>\n",
       "      <th>created_utc</th>\n",
       "      <th>retrieved_on</th>\n",
       "      <th>subreddit</th>\n",
       "    </tr>\n",
       "  </thead>\n",
       "  <tbody>\n",
       "    <tr>\n",
       "      <th>0</th>\n",
       "      <td>NormalDeviance</td>\n",
       "      <td>Fitting rooms are disgusting</td>\n",
       "      <td>This isn’t so much of a single story, but more...</td>\n",
       "      <td>1</td>\n",
       "      <td>7</td>\n",
       "      <td>1.0</td>\n",
       "      <td>1602294153</td>\n",
       "      <td>1602294164</td>\n",
       "      <td>TalesFromRetail</td>\n",
       "    </tr>\n",
       "    <tr>\n",
       "      <th>1</th>\n",
       "      <td>NormalDeviance</td>\n",
       "      <td>Trying to return year-old worn shoes</td>\n",
       "      <td>Worked at a major department store at the retu...</td>\n",
       "      <td>1</td>\n",
       "      <td>12</td>\n",
       "      <td>1.0</td>\n",
       "      <td>1602288304</td>\n",
       "      <td>1602288315</td>\n",
       "      <td>TalesFromRetail</td>\n",
       "    </tr>\n",
       "    <tr>\n",
       "      <th>2</th>\n",
       "      <td>MaryCranberry</td>\n",
       "      <td>A cashier witnesses true love</td>\n",
       "      <td>I’m a cashier at a store at a ski resort. We h...</td>\n",
       "      <td>1</td>\n",
       "      <td>60</td>\n",
       "      <td>1.0</td>\n",
       "      <td>1602285068</td>\n",
       "      <td>1602285079</td>\n",
       "      <td>TalesFromRetail</td>\n",
       "    </tr>\n",
       "    <tr>\n",
       "      <th>3</th>\n",
       "      <td>tempthethrowaway</td>\n",
       "      <td>Follow My Brownies</td>\n",
       "      <td>This is my wife's story from today, posted wit...</td>\n",
       "      <td>1</td>\n",
       "      <td>23</td>\n",
       "      <td>1.0</td>\n",
       "      <td>1602283980</td>\n",
       "      <td>1602283991</td>\n",
       "      <td>TalesFromRetail</td>\n",
       "    </tr>\n",
       "    <tr>\n",
       "      <th>4</th>\n",
       "      <td>[deleted]</td>\n",
       "      <td>Customer is totally friends with a manager fro...</td>\n",
       "      <td>NaN</td>\n",
       "      <td>1</td>\n",
       "      <td>0</td>\n",
       "      <td>1.0</td>\n",
       "      <td>1602268197</td>\n",
       "      <td>1602268208</td>\n",
       "      <td>TalesFromRetail</td>\n",
       "    </tr>\n",
       "  </tbody>\n",
       "</table>\n",
       "</div>"
      ],
      "text/plain": [
       "             author                                              title  \\\n",
       "0    NormalDeviance                       Fitting rooms are disgusting   \n",
       "1    NormalDeviance               Trying to return year-old worn shoes   \n",
       "2     MaryCranberry                      A cashier witnesses true love   \n",
       "3  tempthethrowaway                                 Follow My Brownies   \n",
       "4         [deleted]  Customer is totally friends with a manager fro...   \n",
       "\n",
       "                                            selftext  score  num_comments  \\\n",
       "0  This isn’t so much of a single story, but more...      1             7   \n",
       "1  Worked at a major department store at the retu...      1            12   \n",
       "2  I’m a cashier at a store at a ski resort. We h...      1            60   \n",
       "3  This is my wife's story from today, posted wit...      1            23   \n",
       "4                                                NaN      1             0   \n",
       "\n",
       "   upvote_ratio  created_utc  retrieved_on        subreddit  \n",
       "0           1.0   1602294153    1602294164  TalesFromRetail  \n",
       "1           1.0   1602288304    1602288315  TalesFromRetail  \n",
       "2           1.0   1602285068    1602285079  TalesFromRetail  \n",
       "3           1.0   1602283980    1602283991  TalesFromRetail  \n",
       "4           1.0   1602268197    1602268208  TalesFromRetail  "
      ]
     },
     "execution_count": 2,
     "metadata": {},
     "output_type": "execute_result"
    }
   ],
   "source": [
    "#jokes = pd.read_csv('../data/jokes.csv')\n",
    "#jokes.head()\n",
    "tales = pd.read_csv('../data/talesfromretail.csv')\n",
    "tales.head()"
   ]
  },
  {
   "cell_type": "code",
   "execution_count": 3,
   "metadata": {},
   "outputs": [
    {
     "name": "stdout",
     "output_type": "stream",
     "text": [
      "Jokes shape (9526, 9)\n",
      "Tales shape (9434, 9)\n"
     ]
    }
   ],
   "source": [
    "print(f'Jokes shape {jokes.shape}')\n",
    "print(f'Tales shape {tales.shape}')"
   ]
  },
  {
   "cell_type": "markdown",
   "metadata": {},
   "source": [
    "### Check Null"
   ]
  },
  {
   "cell_type": "code",
   "execution_count": 3,
   "metadata": {},
   "outputs": [
    {
     "data": {
      "text/plain": [
       "author             0\n",
       "title              0\n",
       "selftext           2\n",
       "score              0\n",
       "num_comments       0\n",
       "upvote_ratio    8573\n",
       "created_utc        0\n",
       "retrieved_on       0\n",
       "subreddit          0\n",
       "dtype: int64"
      ]
     },
     "execution_count": 3,
     "metadata": {},
     "output_type": "execute_result"
    }
   ],
   "source": [
    "#jokes.isnull().sum()\n",
    "tales.isnull().sum()"
   ]
  },
  {
   "cell_type": "code",
   "execution_count": 4,
   "metadata": {},
   "outputs": [],
   "source": [
    "#tales.drop(columns = 'upvote_ratio', inplace = True)\n",
    "jokes.drop(columns = 'upvote_ratio', inplace = True)"
   ]
  },
  {
   "cell_type": "code",
   "execution_count": 5,
   "metadata": {},
   "outputs": [
    {
     "data": {
      "text/html": [
       "<div>\n",
       "<style scoped>\n",
       "    .dataframe tbody tr th:only-of-type {\n",
       "        vertical-align: middle;\n",
       "    }\n",
       "\n",
       "    .dataframe tbody tr th {\n",
       "        vertical-align: top;\n",
       "    }\n",
       "\n",
       "    .dataframe thead th {\n",
       "        text-align: right;\n",
       "    }\n",
       "</style>\n",
       "<table border=\"1\" class=\"dataframe\">\n",
       "  <thead>\n",
       "    <tr style=\"text-align: right;\">\n",
       "      <th></th>\n",
       "      <th>author</th>\n",
       "      <th>title</th>\n",
       "      <th>selftext</th>\n",
       "      <th>score</th>\n",
       "      <th>num_comments</th>\n",
       "      <th>created_utc</th>\n",
       "      <th>retrieved_on</th>\n",
       "      <th>subreddit</th>\n",
       "    </tr>\n",
       "  </thead>\n",
       "  <tbody>\n",
       "    <tr>\n",
       "      <th>4</th>\n",
       "      <td>[deleted]</td>\n",
       "      <td>Customer is totally friends with a manager fro...</td>\n",
       "      <td>NaN</td>\n",
       "      <td>1</td>\n",
       "      <td>0</td>\n",
       "      <td>1602268197</td>\n",
       "      <td>1602268208</td>\n",
       "      <td>TalesFromRetail</td>\n",
       "    </tr>\n",
       "    <tr>\n",
       "      <th>180</th>\n",
       "      <td>PlasmaCarrot79</td>\n",
       "      <td>Super Soaker</td>\n",
       "      <td>NaN</td>\n",
       "      <td>1</td>\n",
       "      <td>0</td>\n",
       "      <td>1598471414</td>\n",
       "      <td>1598471425</td>\n",
       "      <td>TalesFromRetail</td>\n",
       "    </tr>\n",
       "  </tbody>\n",
       "</table>\n",
       "</div>"
      ],
      "text/plain": [
       "             author                                              title  \\\n",
       "4         [deleted]  Customer is totally friends with a manager fro...   \n",
       "180  PlasmaCarrot79                                       Super Soaker   \n",
       "\n",
       "    selftext  score  num_comments  created_utc  retrieved_on        subreddit  \n",
       "4        NaN      1             0   1602268197    1602268208  TalesFromRetail  \n",
       "180      NaN      1             0   1598471414    1598471425  TalesFromRetail  "
      ]
     },
     "execution_count": 5,
     "metadata": {},
     "output_type": "execute_result"
    }
   ],
   "source": [
    "#jokes[jokes['selftext'].isnull()]\n",
    "tales[tales['selftext'].isnull()]"
   ]
  },
  {
   "cell_type": "code",
   "execution_count": 6,
   "metadata": {},
   "outputs": [],
   "source": [
    "#jokes.drop([440, 1598, 8557], inplace = True)\n",
    "tales.drop([4, 180], inplace =True)"
   ]
  },
  {
   "cell_type": "code",
   "execution_count": 7,
   "metadata": {},
   "outputs": [
    {
     "data": {
      "text/html": [
       "<div>\n",
       "<style scoped>\n",
       "    .dataframe tbody tr th:only-of-type {\n",
       "        vertical-align: middle;\n",
       "    }\n",
       "\n",
       "    .dataframe tbody tr th {\n",
       "        vertical-align: top;\n",
       "    }\n",
       "\n",
       "    .dataframe thead th {\n",
       "        text-align: right;\n",
       "    }\n",
       "</style>\n",
       "<table border=\"1\" class=\"dataframe\">\n",
       "  <thead>\n",
       "    <tr style=\"text-align: right;\">\n",
       "      <th></th>\n",
       "      <th>author</th>\n",
       "      <th>title</th>\n",
       "      <th>selftext</th>\n",
       "      <th>score</th>\n",
       "      <th>num_comments</th>\n",
       "      <th>created_utc</th>\n",
       "      <th>retrieved_on</th>\n",
       "      <th>subreddit</th>\n",
       "    </tr>\n",
       "  </thead>\n",
       "  <tbody>\n",
       "    <tr>\n",
       "      <th>218</th>\n",
       "      <td>[deleted]</td>\n",
       "      <td>Changing room horror story</td>\n",
       "      <td>[deleted]</td>\n",
       "      <td>1</td>\n",
       "      <td>0</td>\n",
       "      <td>1597791303</td>\n",
       "      <td>1597791314</td>\n",
       "      <td>TalesFromRetail</td>\n",
       "    </tr>\n",
       "  </tbody>\n",
       "</table>\n",
       "</div>"
      ],
      "text/plain": [
       "        author                       title   selftext  score  num_comments  \\\n",
       "218  [deleted]  Changing room horror story  [deleted]      1             0   \n",
       "\n",
       "     created_utc  retrieved_on        subreddit  \n",
       "218   1597791303    1597791314  TalesFromRetail  "
      ]
     },
     "execution_count": 7,
     "metadata": {},
     "output_type": "execute_result"
    }
   ],
   "source": [
    "#jokes[jokes.author == '[deleted]']\n",
    "tales[tales.author == '[deleted]']"
   ]
  },
  {
   "cell_type": "code",
   "execution_count": 8,
   "metadata": {},
   "outputs": [],
   "source": [
    "#jokes.drop(33, inplace = True)\n",
    "tales.drop(218, inplace = True)"
   ]
  },
  {
   "cell_type": "code",
   "execution_count": 9,
   "metadata": {},
   "outputs": [
    {
     "data": {
      "text/html": [
       "<div>\n",
       "<style scoped>\n",
       "    .dataframe tbody tr th:only-of-type {\n",
       "        vertical-align: middle;\n",
       "    }\n",
       "\n",
       "    .dataframe tbody tr th {\n",
       "        vertical-align: top;\n",
       "    }\n",
       "\n",
       "    .dataframe thead th {\n",
       "        text-align: right;\n",
       "    }\n",
       "</style>\n",
       "<table border=\"1\" class=\"dataframe\">\n",
       "  <thead>\n",
       "    <tr style=\"text-align: right;\">\n",
       "      <th></th>\n",
       "      <th>author</th>\n",
       "      <th>title</th>\n",
       "      <th>selftext</th>\n",
       "      <th>score</th>\n",
       "      <th>num_comments</th>\n",
       "      <th>created_utc</th>\n",
       "      <th>retrieved_on</th>\n",
       "      <th>subreddit</th>\n",
       "    </tr>\n",
       "  </thead>\n",
       "  <tbody>\n",
       "  </tbody>\n",
       "</table>\n",
       "</div>"
      ],
      "text/plain": [
       "Empty DataFrame\n",
       "Columns: [author, title, selftext, score, num_comments, created_utc, retrieved_on, subreddit]\n",
       "Index: []"
      ]
     },
     "execution_count": 9,
     "metadata": {},
     "output_type": "execute_result"
    }
   ],
   "source": [
    "#jokes[jokes.selftext == '[deleted]']\n",
    "tales[tales.selftext == '[deleted]']"
   ]
  },
  {
   "cell_type": "code",
   "execution_count": 10,
   "metadata": {},
   "outputs": [
    {
     "name": "stdout",
     "output_type": "stream",
     "text": [
      "Jokes shape (9522, 8)\n",
      "Tales shape (9431, 8)\n"
     ]
    }
   ],
   "source": [
    "print(f'Jokes shape {jokes.shape}')\n",
    "print(f'Tales shape {tales.shape}')"
   ]
  },
  {
   "cell_type": "markdown",
   "metadata": {},
   "source": [
    "### EDA"
   ]
  },
  {
   "cell_type": "code",
   "execution_count": 24,
   "metadata": {},
   "outputs": [
    {
     "data": {
      "text/plain": [
       "count    9522.000000\n",
       "mean        6.393195\n",
       "std        47.729355\n",
       "min         0.000000\n",
       "25%         0.000000\n",
       "50%         1.000000\n",
       "75%         3.000000\n",
       "max      1821.000000\n",
       "Name: num_comments, dtype: float64"
      ]
     },
     "execution_count": 24,
     "metadata": {},
     "output_type": "execute_result"
    }
   ],
   "source": [
    "jokes.num_comments.describe()"
   ]
  },
  {
   "cell_type": "code",
   "execution_count": 32,
   "metadata": {},
   "outputs": [
    {
     "data": {
      "text/plain": [
       "3692    1821\n",
       "7253    1738\n",
       "3206    1195\n",
       "861     1099\n",
       "8372    1055\n",
       "        ... \n",
       "6460    0   \n",
       "2623    0   \n",
       "2622    0   \n",
       "6461    0   \n",
       "9525    0   \n",
       "Name: num_comments, Length: 9522, dtype: int64"
      ]
     },
     "execution_count": 32,
     "metadata": {},
     "output_type": "execute_result"
    }
   ],
   "source": [
    "jokes.num_comments.sort_values(ascending = False)"
   ]
  },
  {
   "cell_type": "code",
   "execution_count": 23,
   "metadata": {},
   "outputs": [
    {
     "data": {
      "image/png": "[encoded data removed]",
      "text/plain": [
       "<Figure size 432x288 with 1 Axes>"
      ]
     },
     "metadata": {
      "needs_background": "light"
     },
     "output_type": "display_data"
    }
   ],
   "source": [
    "jokes.num_comments.value_counts()[:20].plot.bar();"
   ]
  },
  {
   "cell_type": "code",
   "execution_count": 30,
   "metadata": {},
   "outputs": [],
   "source": [
    "pd.set_option('display.max_colwidth', 0)"
   ]
  },
  {
   "cell_type": "code",
   "execution_count": 31,
   "metadata": {},
   "outputs": [
    {
     "data": {
      "text/html": [
       "<div>\n",
       "<style scoped>\n",
       "    .dataframe tbody tr th:only-of-type {\n",
       "        vertical-align: middle;\n",
       "    }\n",
       "\n",
       "    .dataframe tbody tr th {\n",
       "        vertical-align: top;\n",
       "    }\n",
       "\n",
       "    .dataframe thead th {\n",
       "        text-align: right;\n",
       "    }\n",
       "</style>\n",
       "<table border=\"1\" class=\"dataframe\">\n",
       "  <thead>\n",
       "    <tr style=\"text-align: right;\">\n",
       "      <th></th>\n",
       "      <th>author</th>\n",
       "      <th>title</th>\n",
       "      <th>selftext</th>\n",
       "      <th>score</th>\n",
       "      <th>num_comments</th>\n",
       "      <th>created_utc</th>\n",
       "      <th>retrieved_on</th>\n",
       "      <th>subreddit</th>\n",
       "    </tr>\n",
       "  </thead>\n",
       "  <tbody>\n",
       "    <tr>\n",
       "      <th>7253</th>\n",
       "      <td>cyclopropagative</td>\n",
       "      <td>I’m American, and I’m sick of people saying America is “the stupidest country in the world.”</td>\n",
       "      <td>Personally, I think Europe is the stupidest country in the world.</td>\n",
       "      <td>1</td>\n",
       "      <td>1738</td>\n",
       "      <td>1600861225</td>\n",
       "      <td>1600861235</td>\n",
       "      <td>Jokes</td>\n",
       "    </tr>\n",
       "  </tbody>\n",
       "</table>\n",
       "</div>"
      ],
      "text/plain": [
       "                author  \\\n",
       "7253  cyclopropagative   \n",
       "\n",
       "                                                                                             title  \\\n",
       "7253  I’m American, and I’m sick of people saying America is “the stupidest country in the world.”   \n",
       "\n",
       "                                                               selftext  \\\n",
       "7253  Personally, I think Europe is the stupidest country in the world.   \n",
       "\n",
       "      score  num_comments  created_utc  retrieved_on subreddit  \n",
       "7253  1      1738          1600861225   1600861235    Jokes     "
      ]
     },
     "execution_count": 31,
     "metadata": {},
     "output_type": "execute_result"
    }
   ],
   "source": [
    "jokes[jokes.num_comments == 1738]"
   ]
  },
  {
   "cell_type": "code",
   "execution_count": null,
   "metadata": {},
   "outputs": [],
   "source": []
  }
 ],
 "metadata": {
  "kernelspec": {
   "display_name": "Python 3",
   "language": "python",
   "name": "python3"
  },
  "language_info": {
   "codemirror_mode": {
    "name": "ipython",
    "version": 3
   },
   "file_extension": ".py",
   "mimetype": "text/x-python",
   "name": "python",
   "nbconvert_exporter": "python",
   "pygments_lexer": "ipython3",
   "version": "3.7.6"
  }
 },
 "nbformat": 4,
 "nbformat_minor": 4
}
